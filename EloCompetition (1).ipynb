{
 "cells": [
  {
   "cell_type": "markdown",
   "metadata": {
    "colab_type": "text",
    "id": "x8c91kIPYY2H"
   },
   "source": [
    "# Elo world 😁"
   ]
  },
  {
   "cell_type": "markdown",
   "metadata": {},
   "source": [
    "First lets do some EDA in order to understand the data we are working on:\n",
    "(Thanks to https://www.kaggle.com/chocozzz/simple-data-exploration-with-python-lb-3-764/code)"
   ]
  },
  {
   "cell_type": "code",
   "execution_count": 2,
   "metadata": {},
   "outputs": [],
   "source": [
    "# Loading packages\n",
    "import pandas as pd #Analysis \n",
    "import matplotlib.pyplot as plt #Visulization\n",
    "import seaborn as sns #Visulization\n",
    "import numpy as np #Analysis \n",
    "from scipy.stats import norm #Analysis \n",
    "from sklearn.preprocessing import StandardScaler #Analysis \n",
    "from scipy import stats #Analysis \n",
    "import warnings \n",
    "warnings.filterwarnings('ignore')\n",
    "%matplotlib inline\n",
    "import gc\n"
   ]
  },
  {
   "cell_type": "code",
   "execution_count": 3,
   "metadata": {
    "_cell_guid": "79c7e3d0-c299-4dcb-8224-4455121ee9b0",
    "_uuid": "d629ff2d2480ee46fbb7e2d37f6b5fab8052498a"
   },
   "outputs": [
    {
     "name": "stdout",
     "output_type": "stream",
     "text": [
      "['Data_Dictionary.xlsx', 'historical_transactions.csv', 'merchants.csv', 'new_merchant_transactions.csv', 'sample_submission.csv', 'test.csv', 'test_new.csv', 'train.csv', 'train_new.csv']\n"
     ]
    }
   ],
   "source": [
    "import os\n",
    "print(os.listdir(\"./all\"))"
   ]
  },
  {
   "cell_type": "markdown",
   "metadata": {
    "_uuid": "647c5a50c48a8fc2a2c44f53356bc6d7419f303d"
   },
   "source": [
    "- train.csv - the training set\n",
    "- test.csv - the test set\n",
    "- sample_submission.csv - a sample submission file in the correct format - contains all card_ids you are expected to predict for.\n",
    "- historical_transactions.csv - up to 3 months' worth of historical transactions for each card_id\n",
    "- merchants.csv - additional information about all merchants / merchant_ids in the dataset.\n",
    "- new_merchant_transactions.csv - two months' worth of data for each card_id containing ALL purchases that card_id made at merchant_ids that were not visited in the historical data."
   ]
  },
  {
   "cell_type": "code",
   "execution_count": 49,
   "metadata": {
    "_uuid": "2f3e05a20db0fd849a870e5712af2d69b4d7fafe"
   },
   "outputs": [
    {
     "name": "stdout",
     "output_type": "stream",
     "text": [
      "shape of train :  (201917, 6)\n"
     ]
    }
   ],
   "source": [
    "train = pd.read_csv(\"./all/train.csv\", parse_dates=[\"first_active_month\"])\n",
    "print(\"shape of train : \",train.shape)"
   ]
  },
  {
   "cell_type": "code",
   "execution_count": 41,
   "metadata": {
    "_uuid": "7ac6d0d218fca07658d220db99ed198d2557e790"
   },
   "outputs": [
    {
     "data": {
      "text/html": [
       "<div>\n",
       "<style scoped>\n",
       "    .dataframe tbody tr th:only-of-type {\n",
       "        vertical-align: middle;\n",
       "    }\n",
       "\n",
       "    .dataframe tbody tr th {\n",
       "        vertical-align: top;\n",
       "    }\n",
       "\n",
       "    .dataframe thead th {\n",
       "        text-align: right;\n",
       "    }\n",
       "</style>\n",
       "<table border=\"1\" class=\"dataframe\">\n",
       "  <thead>\n",
       "    <tr style=\"text-align: right;\">\n",
       "      <th></th>\n",
       "      <th>first_active_month</th>\n",
       "      <th>card_id</th>\n",
       "      <th>feature_1</th>\n",
       "      <th>feature_2</th>\n",
       "      <th>feature_3</th>\n",
       "      <th>target</th>\n",
       "    </tr>\n",
       "  </thead>\n",
       "  <tbody>\n",
       "    <tr>\n",
       "      <th>0</th>\n",
       "      <td>2017-06-01</td>\n",
       "      <td>C_ID_92a2005557</td>\n",
       "      <td>5</td>\n",
       "      <td>2</td>\n",
       "      <td>1</td>\n",
       "      <td>-0.820283</td>\n",
       "    </tr>\n",
       "    <tr>\n",
       "      <th>1</th>\n",
       "      <td>2017-01-01</td>\n",
       "      <td>C_ID_3d0044924f</td>\n",
       "      <td>4</td>\n",
       "      <td>1</td>\n",
       "      <td>0</td>\n",
       "      <td>0.392913</td>\n",
       "    </tr>\n",
       "    <tr>\n",
       "      <th>2</th>\n",
       "      <td>2016-08-01</td>\n",
       "      <td>C_ID_d639edf6cd</td>\n",
       "      <td>2</td>\n",
       "      <td>2</td>\n",
       "      <td>0</td>\n",
       "      <td>0.688056</td>\n",
       "    </tr>\n",
       "    <tr>\n",
       "      <th>3</th>\n",
       "      <td>2017-09-01</td>\n",
       "      <td>C_ID_186d6a6901</td>\n",
       "      <td>4</td>\n",
       "      <td>3</td>\n",
       "      <td>0</td>\n",
       "      <td>0.142495</td>\n",
       "    </tr>\n",
       "    <tr>\n",
       "      <th>4</th>\n",
       "      <td>2017-11-01</td>\n",
       "      <td>C_ID_cdbd2c0db2</td>\n",
       "      <td>1</td>\n",
       "      <td>3</td>\n",
       "      <td>0</td>\n",
       "      <td>-0.159749</td>\n",
       "    </tr>\n",
       "  </tbody>\n",
       "</table>\n",
       "</div>"
      ],
      "text/plain": [
       "  first_active_month          card_id  feature_1  feature_2  feature_3  \\\n",
       "0         2017-06-01  C_ID_92a2005557          5          2          1   \n",
       "1         2017-01-01  C_ID_3d0044924f          4          1          0   \n",
       "2         2016-08-01  C_ID_d639edf6cd          2          2          0   \n",
       "3         2017-09-01  C_ID_186d6a6901          4          3          0   \n",
       "4         2017-11-01  C_ID_cdbd2c0db2          1          3          0   \n",
       "\n",
       "     target  \n",
       "0 -0.820283  \n",
       "1  0.392913  \n",
       "2  0.688056  \n",
       "3  0.142495  \n",
       "4 -0.159749  "
      ]
     },
     "execution_count": 41,
     "metadata": {},
     "output_type": "execute_result"
    }
   ],
   "source": [
    "train.head()"
   ]
  },
  {
   "cell_type": "markdown",
   "metadata": {
    "_uuid": "3f1c8c454b4b391ca2a4251e26cfda4e6f10f8a2"
   },
   "source": [
    "- first_active_month : ''YYYY-MM', month of first purchase\n",
    "- feature_1,2,3 : Anonymized card categorical feature\n",
    "- target : Loyalty numerical score calculated 2 months after historical and evaluation period"
   ]
  },
  {
   "cell_type": "code",
   "execution_count": 42,
   "metadata": {},
   "outputs": [
    {
     "name": "stdout",
     "output_type": "stream",
     "text": [
      "shape of test :  (123623, 5)\n"
     ]
    }
   ],
   "source": [
    "test = pd.read_csv(\"./all/test.csv\", parse_dates=[\"first_active_month\"])\n",
    "print(\"shape of test : \",test.shape)"
   ]
  },
  {
   "cell_type": "code",
   "execution_count": 7,
   "metadata": {},
   "outputs": [
    {
     "data": {
      "image/png": "[encoded data removed]",
      "text/plain": [
       "<Figure size 1008x432 with 1 Axes>"
      ]
     },
     "metadata": {
      "needs_background": "light"
     },
     "output_type": "display_data"
    },
    {
     "data": {
      "image/png": "[encoded data removed]",
      "text/plain": [
       "<Figure size 1008x432 with 1 Axes>"
      ]
     },
     "metadata": {
      "needs_background": "light"
     },
     "output_type": "display_data"
    }
   ],
   "source": [
    "# Code in https://www.kaggle.com/sudalairajkumar/simple-exploration-notebook-elo\n",
    "# SRK - Simple Exploration Notebook \n",
    "\n",
    "cnt_srs = train['first_active_month'].dt.date.value_counts()\n",
    "cnt_srs = cnt_srs.sort_index()\n",
    "plt.figure(figsize=(14,6))\n",
    "sns.barplot(cnt_srs.index, cnt_srs.values, alpha=0.8, color='green')\n",
    "plt.xticks(rotation='vertical')\n",
    "plt.xlabel('First active month', fontsize=12)\n",
    "plt.ylabel('Number of cards', fontsize=12)\n",
    "plt.title(\"First active month count in train set\")\n",
    "plt.show()\n",
    "\n",
    "cnt_srs = test['first_active_month'].dt.date.value_counts()\n",
    "cnt_srs = cnt_srs.sort_index()\n",
    "plt.figure(figsize=(14,6))\n",
    "sns.barplot(cnt_srs.index, cnt_srs.values, alpha=0.8, color='green')\n",
    "plt.xticks(rotation='vertical')\n",
    "plt.xlabel('First active month', fontsize=12)\n",
    "plt.ylabel('Number of cards', fontsize=12)\n",
    "plt.title(\"First active month count in test set\")\n",
    "plt.show()"
   ]
  },
  {
   "cell_type": "markdown",
   "metadata": {},
   "source": [
    "We can see that the test set and train set distribute similiar in First Active Month feature"
   ]
  },
  {
   "cell_type": "markdown",
   "metadata": {},
   "source": [
    "Lets Explore the target:"
   ]
  },
  {
   "cell_type": "code",
   "execution_count": 8,
   "metadata": {},
   "outputs": [
    {
     "data": {
      "text/plain": [
       "<matplotlib.axes._subplots.AxesSubplot at 0x26583a7f780>"
      ]
     },
     "execution_count": 8,
     "metadata": {},
     "output_type": "execute_result"
    },
    {
     "data": {
      "image/png": "[encoded data removed]",
      "text/plain": [
       "<Figure size 1008x432 with 1 Axes>"
      ]
     },
     "metadata": {
      "needs_background": "light"
     },
     "output_type": "display_data"
    }
   ],
   "source": [
    "#histogram\n",
    "f, ax = plt.subplots(figsize=(14, 6))\n",
    "sns.distplot(train['target'])"
   ]
  },
  {
   "cell_type": "markdown",
   "metadata": {},
   "source": [
    "We see that the data is distributed quite normally besides the small peak at the end, we'll adress these values as outliers and count how much of them we have in our data"
   ]
  },
  {
   "cell_type": "code",
   "execution_count": 12,
   "metadata": {},
   "outputs": [
    {
     "data": {
      "text/plain": [
       "(2207, 6)"
      ]
     },
     "execution_count": 12,
     "metadata": {},
     "output_type": "execute_result"
    }
   ],
   "source": [
    "outliers = train.loc[train['target']< -30]\n",
    "outliers.shape "
   ]
  },
  {
   "cell_type": "code",
   "execution_count": 13,
   "metadata": {},
   "outputs": [
    {
     "data": {
      "text/plain": [
       "0.010930233709890698"
      ]
     },
     "execution_count": 13,
     "metadata": {},
     "output_type": "execute_result"
    }
   ],
   "source": [
    "percentOfOutliers = len(outliers) / len(train)\n",
    "percentOfOutliers"
   ]
  },
  {
   "cell_type": "markdown",
   "metadata": {},
   "source": [
    "So one percent of our data are outliers and dont distibute normally like the rest of the data.\n",
    "This will probably require special treatment, either removing them or modeling them. <br>\n",
    "Lets explore how our train features distribute in outliers and non-outliers"
   ]
  },
  {
   "cell_type": "code",
   "execution_count": 14,
   "metadata": {},
   "outputs": [
    {
     "data": {
      "image/png": "[encoded data removed]",
      "text/plain": [
       "<Figure size 720x360 with 3 Axes>"
      ]
     },
     "metadata": {
      "needs_background": "light"
     },
     "output_type": "display_data"
    }
   ],
   "source": [
    "non_outliers = train.loc[train['target'] >= -30]\n",
    "\n",
    "plt.figure(figsize=[10,5])\n",
    "plt.suptitle('Outlier vs. non-outlier feature distributions', fontsize=20, y=1.1)\n",
    "\n",
    "for num, col in enumerate(['feature_1', 'feature_2', 'feature_3']):\n",
    "    plt.subplot(2, 3, num+1)\n",
    "    v_c = non_outliers[col].value_counts() / non_outliers.shape[0]\n",
    "    plt.bar(v_c.index, v_c, label=('non-outliers'), align='edge', width=-0.3, edgecolor=[0.2]*3)\n",
    "    v_c = outliers[col].value_counts() / outliers.shape[0]\n",
    "    plt.bar(v_c.index, v_c, label=('outliers'), align='edge', width=0.3, edgecolor=[0.2]*3)\n",
    "    plt.title(col)\n",
    "    plt.legend()\n",
    "\n",
    "plt.tight_layout()\n",
    "plt.show()\n",
    "\n"
   ]
  },
  {
   "cell_type": "markdown",
   "metadata": {},
   "source": [
    "We can see some differences but they dont seem very significant, can be iteresting to let a model train on them and see what it can find"
   ]
  },
  {
   "cell_type": "markdown",
   "metadata": {},
   "source": [
    "## Playing with LB"
   ]
  },
  {
   "cell_type": "markdown",
   "metadata": {},
   "source": [
    "At that point we decided to play a little with submitting hand writen values to the competition in order to get some more insights about how the real test set is composed."
   ]
  },
  {
   "attachments": {},
   "cell_type": "markdown",
   "metadata": {},
   "source": [
    "So First we tried to submit 0 as loyalty prediction for all which gave s rmse of 3.952, not bad at all considering at point of writing the rmse of 1st in LB is: 3.655."
   ]
  },
  {
   "cell_type": "code",
   "execution_count": 232,
   "metadata": {},
   "outputs": [
    {
     "data": {
      "image/png": "[encoded data removed]",
      "text/plain": [
       "<Figure size 1152x648 with 1 Axes>"
      ]
     },
     "metadata": {
      "needs_background": "light"
     },
     "output_type": "display_data"
    }
   ],
   "source": [
    "import matplotlib.pyplot as plt\n",
    "import matplotlib.image as mpimg\n",
    "\n",
    "plt.figure(figsize=(16,9))\n",
    "img=mpimg.imread('./Pics/All0.PNG')\n",
    "imgplot = plt.imshow(img)\n",
    "plt.show()"
   ]
  },
  {
   "attachments": {},
   "cell_type": "markdown",
   "metadata": {},
   "source": [
    "After that we decided to play a bit more, what will happen if we will submit the mean of the data or the mean without outliers."
   ]
  },
  {
   "cell_type": "code",
   "execution_count": 234,
   "metadata": {},
   "outputs": [
    {
     "data": {
      "image/png": "[encoded data removed]",
      "text/plain": [
       "<Figure size 1152x648 with 1 Axes>"
      ]
     },
     "metadata": {
      "needs_background": "light"
     },
     "output_type": "display_data"
    }
   ],
   "source": [
    "import matplotlib.pyplot as plt\n",
    "import matplotlib.image as mpimg\n",
    "\n",
    "plt.figure(figsize=(16,9))\n",
    "img=mpimg.imread('./Pics/sub2.PNG')\n",
    "imgplot = plt.imshow(img)\n",
    "plt.show()"
   ]
  },
  {
   "attachments": {},
   "cell_type": "markdown",
   "metadata": {},
   "source": [
    "Interesting, so we can say for sure that the outlier data is playing a rule over here as the mean with the outlier data yields a better score.<br>\n",
    "Umm, maybe submit all as outlier (loyalty score of -33.219281)."
   ]
  },
  {
   "cell_type": "code",
   "execution_count": 235,
   "metadata": {},
   "outputs": [
    {
     "data": {
      "image/png": "[encoded data removed]",
      "text/plain": [
       "<Figure size 1152x648 with 1 Axes>"
      ]
     },
     "metadata": {
      "needs_background": "light"
     },
     "output_type": "display_data"
    }
   ],
   "source": [
    "import matplotlib.pyplot as plt\n",
    "import matplotlib.image as mpimg\n",
    "\n",
    "plt.figure(figsize=(16,9))\n",
    "img=mpimg.imread('./Pics/allout.PNG')\n",
    "imgplot = plt.imshow(img)\n",
    "plt.show()"
   ]
  },
  {
   "cell_type": "markdown",
   "metadata": {},
   "source": [
    "Expected, but worth a try.\n",
    "\n",
    "We continued researching that area and found the following topic in the discussion panel of the competion:\n",
    "https://www.kaggle.com/c/elo-merchant-category-recommendation/discussion/74519\n",
    "\n",
    "Lets reproduce What is shown there"
   ]
  },
  {
   "cell_type": "code",
   "execution_count": 6,
   "metadata": {},
   "outputs": [
    {
     "name": "stdout",
     "output_type": "stream",
     "text": [
      "rmse of train against 0s: 3.8705589161316296\n"
     ]
    }
   ],
   "source": [
    "from sklearn.metrics import mean_squared_error\n",
    "\n",
    "target = train.target.values\n",
    "rmse = np.sqrt(mean_squared_error(target, np.zeros(train.shape[0])))    # returns 3.8705589161316296\n",
    "print(f'rmse of train against 0s: {rmse}')"
   ]
  },
  {
   "cell_type": "code",
   "execution_count": 7,
   "metadata": {},
   "outputs": [
    {
     "name": "stdout",
     "output_type": "stream",
     "text": [
      "rmse of only outliers in train against 0s: 3.4730013468168988\n"
     ]
    }
   ],
   "source": [
    "target[target > -33] = 0\n",
    "rmse = np.sqrt(mean_squared_error(target, np.zeros(train.shape[0])))  \n",
    "print(f'rmse of only outliers in train against 0s: {rmse}')"
   ]
  },
  {
   "cell_type": "markdown",
   "metadata": {},
   "source": [
    "We see that in the train dataset these outliers are causing most of the rmse.\n",
    "\n",
    "One reasonable thought that could arrise after this little experiement is that outliers could be one of the main purposes of this competition.<br>\n",
    "Maybe it could represent users who commited some crime or  fraud.<br>\n",
    "Another idea was maybe all users in the outlier set has done something 0 times, like spending 0 money with that credit card,  \n"
   ]
  },
  {
   "cell_type": "markdown",
   "metadata": {},
   "source": [
    "# Best Model"
   ]
  },
  {
   "cell_type": "markdown",
   "metadata": {},
   "source": [
    "For the best model we decided on combining predictions from the following models:\n",
    "\n",
    "1. Model Trained on Extracted features predicting loyalty for all training set <br>\n",
    "2. Model Trained on Extracted features predicting loyalty for training set without outliers<br>\n",
    "3. Model Trained to find outlier probability <br>\n",
    "\n",
    "The flow will be combining results from model1 and model2 by the probability in model3 while holding the tought that if the classifier is good enough, the LB score will have a big breakthrough."
   ]
  },
  {
   "cell_type": "markdown",
   "metadata": {},
   "source": [
    "## 1. Model Trained on Extracted features predicting loyalty for all training set "
   ]
  },
  {
   "cell_type": "markdown",
   "metadata": {},
   "source": [
    "model 1 and 2 are inspired from the notebook:\n",
    "https://www.kaggle.com/ashishpatel26/lightgbm-gbdt-rf-baysian-ridge-reg-lb-3-61\n",
    "\n"
   ]
  },
  {
   "cell_type": "code",
   "execution_count": 113,
   "metadata": {
    "_cell_guid": "b1076dfc-b9ad-4769-8c92-a6c4dae69d19",
    "_uuid": "8f2839f25d086af736a60e9eeb907d3b93b6e0e5"
   },
   "outputs": [],
   "source": [
    "import numpy as np \n",
    "import pandas as pd \n",
    "import matplotlib.pyplot as plt\n",
    "import seaborn as sns\n",
    "import lightgbm as lgb\n",
    "from sklearn.model_selection import KFold\n",
    "import warnings\n",
    "import time\n",
    "import matplotlib.pyplot as plt\n",
    "import seaborn as sns\n",
    "from sklearn.metrics import mean_squared_error\n",
    "from sklearn.linear_model import BayesianRidge\n",
    "warnings.simplefilter(action='ignore', category=FutureWarning)\n",
    "import gc"
   ]
  },
  {
   "cell_type": "code",
   "execution_count": 114,
   "metadata": {
    "_cell_guid": "79c7e3d0-c299-4dcb-8224-4455121ee9b0",
    "_uuid": "d629ff2d2480ee46fbb7e2d37f6b5fab8052498a"
   },
   "outputs": [],
   "source": [
    "def reduce_mem_usage(df, verbose=True):\n",
    "    numerics = ['int16', 'int32', 'int64', 'float16', 'float32', 'float64']\n",
    "    start_mem = df.memory_usage().sum() / 1024**2    \n",
    "    for col in df.columns:\n",
    "        col_type = df[col].dtypes\n",
    "        if col_type in numerics:\n",
    "            c_min = df[col].min()\n",
    "            c_max = df[col].max()\n",
    "            if str(col_type)[:3] == 'int':\n",
    "                if c_min > np.iinfo(np.int8).min and c_max < np.iinfo(np.int8).max:\n",
    "                    df[col] = df[col].astype(np.int8)\n",
    "                elif c_min > np.iinfo(np.int16).min and c_max < np.iinfo(np.int16).max:\n",
    "                    df[col] = df[col].astype(np.int16)\n",
    "                elif c_min > np.iinfo(np.int32).min and c_max < np.iinfo(np.int32).max:\n",
    "                    df[col] = df[col].astype(np.int32)\n",
    "                elif c_min > np.iinfo(np.int64).min and c_max < np.iinfo(np.int64).max:\n",
    "                    df[col] = df[col].astype(np.int64)  \n",
    "            else:\n",
    "                if c_min > np.finfo(np.float16).min and c_max < np.finfo(np.float16).max:\n",
    "                    df[col] = df[col].astype(np.float16)\n",
    "                elif c_min > np.finfo(np.float32).min and c_max < np.finfo(np.float32).max:\n",
    "                    df[col] = df[col].astype(np.float32)\n",
    "                else:\n",
    "                    df[col] = df[col].astype(np.float64)    \n",
    "    end_mem = df.memory_usage().sum() / 1024**2\n",
    "    if verbose: print('Mem. usage decreased to {:5.2f} Mb ({:.1f}% reduction)'.format(end_mem, 100 * (start_mem - end_mem) / start_mem))\n",
    "    return df"
   ]
  },
  {
   "cell_type": "code",
   "execution_count": 115,
   "metadata": {
    "_uuid": "50e1f88df96b5e525237fe120650e679b7f60654"
   },
   "outputs": [],
   "source": [
    "new_transactions = pd.read_csv('./all/new_merchant_transactions.csv', parse_dates=['purchase_date'])\n",
    "historical_transactions = pd.read_csv('./all/historical_transactions.csv', parse_dates=['purchase_date'])\n",
    "\n",
    "def binarize(df):\n",
    "    for col in ['authorized_flag', 'category_1']:\n",
    "        df[col] = df[col].map({'Y':1, 'N':0})\n",
    "    return df\n",
    "\n",
    "historical_transactions = binarize(historical_transactions)\n",
    "new_transactions = binarize(new_transactions)"
   ]
  },
  {
   "cell_type": "code",
   "execution_count": 116,
   "metadata": {
    "_uuid": "a940a9ce940fa489a5a5255f6d4523c9b7c3ffdc"
   },
   "outputs": [
    {
     "ename": "NameError",
     "evalue": "name 'datetime' is not defined",
     "output_type": "error",
     "traceback": [
      "\u001b[1;31m---------------------------------------------------------------------------\u001b[0m",
      "\u001b[1;31mNameError\u001b[0m                                 Traceback (most recent call last)",
      "\u001b[1;32m<timed exec>\u001b[0m in \u001b[0;36m<module>\u001b[1;34m\u001b[0m\n",
      "\u001b[1;32m<timed exec>\u001b[0m in \u001b[0;36mread_data\u001b[1;34m(input_file)\u001b[0m\n",
      "\u001b[1;31mNameError\u001b[0m: name 'datetime' is not defined"
     ]
    }
   ],
   "source": [
    "%%time\n",
    "def read_data(input_file):\n",
    "    df = pd.read_csv(input_file)\n",
    "    df['first_active_month'] = pd.to_datetime(df['first_active_month'])\n",
    "    df['elapsed_time'] = (datetime.date(2018, 2, 1) - df['first_active_month'].dt.date).dt.days\n",
    "    return df\n",
    "\n",
    "train = read_data('./all/train.csv')\n",
    "test = read_data('./all/test.csv')\n",
    "\n",
    "target = train['target']\n",
    "del train['target']\n",
    "gc.collect()"
   ]
  },
  {
   "cell_type": "markdown",
   "metadata": {
    "_uuid": "bd9f71f39664eef55e0b3ec3e6172e84a8e1a963"
   },
   "source": [
    "## Feature Engineering"
   ]
  },
  {
   "cell_type": "code",
   "execution_count": 117,
   "metadata": {
    "_uuid": "170f0e959ba5250b191b7cee6b586bdabd347018"
   },
   "outputs": [
    {
     "name": "stdout",
     "output_type": "stream",
     "text": [
      "Mem. usage decreased to 1304.89 Mb (54.8% reduction)\n",
      "Mem. usage decreased to 84.24 Mb (56.7% reduction)\n",
      "Wall time: 1min 32s\n"
     ]
    }
   ],
   "source": [
    "%%time\n",
    "historical_transactions = pd.get_dummies(historical_transactions, columns=['category_2', 'category_3'])\n",
    "new_transactions = pd.get_dummies(new_transactions, columns=['category_2', 'category_3'])\n",
    "\n",
    "historical_transactions = reduce_mem_usage(historical_transactions)\n",
    "new_transactions = reduce_mem_usage(new_transactions)\n",
    "\n",
    "agg_fun = {'authorized_flag': ['sum', 'mean']}\n",
    "auth_mean = historical_transactions.groupby(['card_id']).agg(agg_fun)\n",
    "auth_mean.columns = ['_'.join(col).strip() for col in auth_mean.columns.values]\n",
    "auth_mean.reset_index(inplace=True)\n",
    "\n",
    "authorized_transactions = historical_transactions[historical_transactions['authorized_flag'] == 1]\n",
    "historical_transactions = historical_transactions[historical_transactions['authorized_flag'] == 0]\n",
    "gc.collect()"
   ]
  },
  {
   "cell_type": "code",
   "execution_count": 118,
   "metadata": {
    "_uuid": "90536f89e81fc4bb7f45a17f47e4b627f53e69b4"
   },
   "outputs": [
    {
     "name": "stdout",
     "output_type": "stream",
     "text": [
      "Wall time: 2.94 s\n"
     ]
    }
   ],
   "source": [
    "%%time\n",
    "historical_transactions['purchase_month'] = historical_transactions['purchase_date'].dt.month\n",
    "authorized_transactions['purchase_month'] = authorized_transactions['purchase_date'].dt.month\n",
    "new_transactions['purchase_month'] = new_transactions['purchase_date'].dt.month\n",
    "gc.collect()"
   ]
  },
  {
   "cell_type": "code",
   "execution_count": 119,
   "metadata": {
    "_uuid": "b5de9c3bcc2ad2dfeb943e1b02fef3e433c91af3"
   },
   "outputs": [
    {
     "name": "stdout",
     "output_type": "stream",
     "text": [
      "Wall time: 95.7 ms\n"
     ]
    }
   ],
   "source": [
    "%%time\n",
    "def aggregate_transactions(history):\n",
    "    \n",
    "    history.loc[:, 'purchase_date'] = pd.DatetimeIndex(history['purchase_date']).\\\n",
    "                                      astype(np.int64) * 1e-9\n",
    "    \n",
    "    agg_func = {\n",
    "        'category_1': ['sum', 'mean'],\n",
    "        'category_2_1.0': ['mean'],\n",
    "        'category_2_2.0': ['mean'],\n",
    "        'category_2_3.0': ['mean'],\n",
    "        'category_2_4.0': ['mean'],\n",
    "        'category_2_5.0': ['mean'],\n",
    "        'category_3_A': ['mean'],\n",
    "        'category_3_B': ['mean'],\n",
    "        'category_3_C': ['mean'],\n",
    "        'merchant_id': ['nunique'],\n",
    "        'merchant_category_id': ['nunique'],\n",
    "        'state_id': ['nunique'],\n",
    "        'city_id': ['nunique'],\n",
    "        'subsector_id': ['nunique'],\n",
    "        'purchase_amount': ['sum', 'mean', 'max', 'min', 'std'],\n",
    "        'installments': ['sum', 'mean', 'max', 'min', 'std'],\n",
    "        'purchase_month': ['mean', 'max', 'min', 'std'],\n",
    "        'purchase_date': [np.ptp, 'min', 'max'],\n",
    "        'month_lag': ['min', 'max']\n",
    "        }\n",
    "    \n",
    "    agg_history = history.groupby(['card_id']).agg(agg_func)\n",
    "    agg_history.columns = ['_'.join(col).strip() for col in agg_history.columns.values]\n",
    "    agg_history.reset_index(inplace=True)\n",
    "    \n",
    "    df = (history.groupby('card_id')\n",
    "          .size()\n",
    "          .reset_index(name='transactions_count'))\n",
    "    \n",
    "    agg_history = pd.merge(df, agg_history, on='card_id', how='left')\n",
    "    \n",
    "    return agg_history\n",
    "\n",
    "gc.collect()"
   ]
  },
  {
   "cell_type": "code",
   "execution_count": 120,
   "metadata": {
    "_uuid": "bf1f963f61841ef34f79fd16364bbf59b7f4e8a4"
   },
   "outputs": [
    {
     "name": "stdout",
     "output_type": "stream",
     "text": [
      "Wall time: 44.3 s\n"
     ]
    }
   ],
   "source": [
    "%%time\n",
    "history = aggregate_transactions(historical_transactions)\n",
    "history.columns = ['hist_' + c if c != 'card_id' else c for c in history.columns]\n",
    "history[:5]\n",
    "gc.collect()"
   ]
  },
  {
   "cell_type": "code",
   "execution_count": 121,
   "metadata": {
    "_uuid": "4c1bdbaa7c16e22436893354b31d47e1846330ab"
   },
   "outputs": [
    {
     "name": "stdout",
     "output_type": "stream",
     "text": [
      "Wall time: 1min 53s\n"
     ]
    }
   ],
   "source": [
    "%%time\n",
    "authorized = aggregate_transactions(authorized_transactions)\n",
    "authorized.columns = ['auth_' + c if c != 'card_id' else c for c in authorized.columns]\n",
    "authorized[:5]\n",
    "gc.collect()"
   ]
  },
  {
   "cell_type": "code",
   "execution_count": 122,
   "metadata": {
    "_uuid": "4cc2775c29c17cb7438f3f5c45777b894afa94fc"
   },
   "outputs": [
    {
     "name": "stdout",
     "output_type": "stream",
     "text": [
      "Wall time: 47.4 s\n"
     ]
    }
   ],
   "source": [
    "%%time\n",
    "new = aggregate_transactions(new_transactions)\n",
    "new.columns = ['new_' + c if c != 'card_id' else c for c in new.columns]\n",
    "new[:5]\n",
    "gc.collect()"
   ]
  },
  {
   "cell_type": "code",
   "execution_count": 123,
   "metadata": {
    "_uuid": "fb443fb1e2a47f5a0bef02921a2cba1d4e95e673"
   },
   "outputs": [
    {
     "name": "stdout",
     "output_type": "stream",
     "text": [
      "Wall time: 6.91 s\n"
     ]
    }
   ],
   "source": [
    "%%time\n",
    "def aggregate_per_month(history):\n",
    "    grouped = history.groupby(['card_id', 'month_lag'])\n",
    "\n",
    "    agg_func = {\n",
    "            'purchase_amount': ['count', 'sum', 'mean', 'min', 'max', 'std'],\n",
    "            'installments': ['count', 'sum', 'mean', 'min', 'max', 'std'],\n",
    "            }\n",
    "\n",
    "    intermediate_group = grouped.agg(agg_func)\n",
    "    intermediate_group.columns = ['_'.join(col).strip() for col in intermediate_group.columns.values]\n",
    "    intermediate_group.reset_index(inplace=True)\n",
    "\n",
    "    final_group = intermediate_group.groupby('card_id').agg(['mean', 'std'])\n",
    "    final_group.columns = ['_'.join(col).strip() for col in final_group.columns.values]\n",
    "    final_group.reset_index(inplace=True)\n",
    "    \n",
    "    return final_group\n",
    "\n",
    "final_group =  aggregate_per_month(historical_transactions) \n",
    "final_group[:10]\n",
    "gc.collect()"
   ]
  },
  {
   "cell_type": "code",
   "execution_count": 124,
   "metadata": {
    "_uuid": "5e5e313f605160783127a6f0798f176eaf6a55a4"
   },
   "outputs": [
    {
     "name": "stdout",
     "output_type": "stream",
     "text": [
      "Train Shape: (201917, 139)\n",
      "Test Shape: (123623, 138)\n",
      "Wall time: 7.37 s\n"
     ]
    }
   ],
   "source": [
    "%%time\n",
    "train = pd.merge(train, history, on='card_id', how='left')\n",
    "test = pd.merge(test, history, on='card_id', how='left')\n",
    "\n",
    "train = pd.merge(train, authorized, on='card_id', how='left')\n",
    "test = pd.merge(test, authorized, on='card_id', how='left')\n",
    "\n",
    "train = pd.merge(train, new, on='card_id', how='left')\n",
    "test = pd.merge(test, new, on='card_id', how='left')\n",
    "\n",
    "train = pd.merge(train, final_group, on='card_id', how='left')\n",
    "test = pd.merge(test, final_group, on='card_id', how='left')\n",
    "\n",
    "train = pd.merge(train, auth_mean, on='card_id', how='left')\n",
    "test = pd.merge(test, auth_mean, on='card_id', how='left')\n",
    "\n",
    "print(\"Train Shape:\", train.shape)\n",
    "print(\"Test Shape:\", test.shape)\n",
    "gc.collect()"
   ]
  },
  {
   "cell_type": "code",
   "execution_count": 125,
   "metadata": {
    "_uuid": "796d4e17b4c4cc3121fc833669fc2eaf07bf4fba"
   },
   "outputs": [],
   "source": [
    "features = [c for c in train.columns if c not in ['card_id', 'first_active_month']]\n",
    "categorical_feats = [c for c in features if 'feature_' in c]"
   ]
  },
  {
   "cell_type": "markdown",
   "metadata": {
    "_uuid": "0b926c1b3a703d8ed6c7c609e7c892b503e3c511"
   },
   "source": [
    "## LightGBM"
   ]
  },
  {
   "cell_type": "code",
   "execution_count": 14,
   "metadata": {
    "_uuid": "28ac4d7abc8117671e8e79caaabcbf41dbb328c0"
   },
   "outputs": [],
   "source": [
    "param = {'num_leaves': 31,\n",
    "         'min_data_in_leaf': 32, \n",
    "         'objective':'regression',\n",
    "         'max_depth': -1,\n",
    "         'learning_rate': 0.005,\n",
    "         \"min_child_samples\": 20,\n",
    "         \"boosting\": \"gbdt\",\n",
    "         \"feature_fraction\": 0.9,\n",
    "         \"bagging_freq\": 1,\n",
    "         \"bagging_fraction\": 0.9 ,\n",
    "         \"bagging_seed\": 11,\n",
    "         \"metric\": 'rmse',\n",
    "         \"lambda_l1\": 0.1,\n",
    "         \"nthread\": 4,\n",
    "         \"verbosity\": -1}"
   ]
  },
  {
   "cell_type": "code",
   "execution_count": 15,
   "metadata": {
    "_uuid": "92bf1d3418327cb759937b8f32f40d75e73108e9"
   },
   "outputs": [
    {
     "name": "stdout",
     "output_type": "stream",
     "text": [
      "fold n°0\n"
     ]
    },
    {
     "name": "stderr",
     "output_type": "stream",
     "text": [
      "C:\\Users\\doron\\Anaconda3\\envs\\tf-gpu\\lib\\site-packages\\lightgbm\\basic.py:1184: UserWarning: Using categorical_feature in Dataset.\n",
      "  warnings.warn('Using categorical_feature in Dataset.')\n",
      "C:\\Users\\doron\\Anaconda3\\envs\\tf-gpu\\lib\\site-packages\\lightgbm\\basic.py:742: UserWarning: categorical_feature in param dict is overridden.\n",
      "  warnings.warn('categorical_feature in param dict is overridden.')\n"
     ]
    },
    {
     "name": "stdout",
     "output_type": "stream",
     "text": [
      "Training until validation scores don't improve for 200 rounds.\n",
      "[100]\ttraining's rmse: 3.73675\tvalid_1's rmse: 3.79933\n",
      "[200]\ttraining's rmse: 3.67453\tvalid_1's rmse: 3.7583\n",
      "[300]\ttraining's rmse: 3.63157\tvalid_1's rmse: 3.73585\n",
      "[400]\ttraining's rmse: 3.59773\tvalid_1's rmse: 3.72296\n",
      "[500]\ttraining's rmse: 3.57003\tvalid_1's rmse: 3.71418\n",
      "[600]\ttraining's rmse: 3.54626\tvalid_1's rmse: 3.70845\n",
      "[700]\ttraining's rmse: 3.52563\tvalid_1's rmse: 3.70372\n",
      "[800]\ttraining's rmse: 3.50718\tvalid_1's rmse: 3.70026\n",
      "[900]\ttraining's rmse: 3.49079\tvalid_1's rmse: 3.69714\n",
      "[1000]\ttraining's rmse: 3.47527\tvalid_1's rmse: 3.69466\n",
      "[1100]\ttraining's rmse: 3.46122\tvalid_1's rmse: 3.69272\n",
      "[1200]\ttraining's rmse: 3.44801\tvalid_1's rmse: 3.69142\n",
      "[1300]\ttraining's rmse: 3.43549\tvalid_1's rmse: 3.69052\n",
      "[1400]\ttraining's rmse: 3.42361\tvalid_1's rmse: 3.6895\n",
      "[1500]\ttraining's rmse: 3.41276\tvalid_1's rmse: 3.6887\n",
      "[1600]\ttraining's rmse: 3.40228\tvalid_1's rmse: 3.68823\n",
      "[1700]\ttraining's rmse: 3.39197\tvalid_1's rmse: 3.68763\n",
      "[1800]\ttraining's rmse: 3.38169\tvalid_1's rmse: 3.68739\n",
      "[1900]\ttraining's rmse: 3.37218\tvalid_1's rmse: 3.68727\n",
      "[2000]\ttraining's rmse: 3.36305\tvalid_1's rmse: 3.68688\n",
      "[2100]\ttraining's rmse: 3.35413\tvalid_1's rmse: 3.68704\n",
      "Early stopping, best iteration is:\n",
      "[1984]\ttraining's rmse: 3.36441\tvalid_1's rmse: 3.68683\n",
      "fold n°1\n"
     ]
    },
    {
     "name": "stderr",
     "output_type": "stream",
     "text": [
      "C:\\Users\\doron\\Anaconda3\\envs\\tf-gpu\\lib\\site-packages\\lightgbm\\basic.py:1184: UserWarning: Using categorical_feature in Dataset.\n",
      "  warnings.warn('Using categorical_feature in Dataset.')\n",
      "C:\\Users\\doron\\Anaconda3\\envs\\tf-gpu\\lib\\site-packages\\lightgbm\\basic.py:742: UserWarning: categorical_feature in param dict is overridden.\n",
      "  warnings.warn('categorical_feature in param dict is overridden.')\n"
     ]
    },
    {
     "name": "stdout",
     "output_type": "stream",
     "text": [
      "Training until validation scores don't improve for 200 rounds.\n",
      "[100]\ttraining's rmse: 3.7535\tvalid_1's rmse: 3.72902\n",
      "[200]\ttraining's rmse: 3.68959\tvalid_1's rmse: 3.69264\n",
      "[300]\ttraining's rmse: 3.64496\tvalid_1's rmse: 3.67412\n",
      "[400]\ttraining's rmse: 3.61067\tvalid_1's rmse: 3.66215\n",
      "[500]\ttraining's rmse: 3.58184\tvalid_1's rmse: 3.65457\n",
      "[600]\ttraining's rmse: 3.55767\tvalid_1's rmse: 3.64899\n",
      "[700]\ttraining's rmse: 3.5369\tvalid_1's rmse: 3.64485\n",
      "[800]\ttraining's rmse: 3.51923\tvalid_1's rmse: 3.64148\n",
      "[900]\ttraining's rmse: 3.50283\tvalid_1's rmse: 3.63878\n",
      "[1000]\ttraining's rmse: 3.4876\tvalid_1's rmse: 3.63662\n",
      "[1100]\ttraining's rmse: 3.47331\tvalid_1's rmse: 3.635\n",
      "[1200]\ttraining's rmse: 3.46\tvalid_1's rmse: 3.63376\n",
      "[1300]\ttraining's rmse: 3.44758\tvalid_1's rmse: 3.6325\n",
      "[1400]\ttraining's rmse: 3.43555\tvalid_1's rmse: 3.6316\n",
      "[1500]\ttraining's rmse: 3.4242\tvalid_1's rmse: 3.63097\n",
      "[1600]\ttraining's rmse: 3.41364\tvalid_1's rmse: 3.63018\n",
      "[1700]\ttraining's rmse: 3.40342\tvalid_1's rmse: 3.62966\n",
      "[1800]\ttraining's rmse: 3.39327\tvalid_1's rmse: 3.62935\n",
      "[1900]\ttraining's rmse: 3.38349\tvalid_1's rmse: 3.62881\n",
      "[2000]\ttraining's rmse: 3.37382\tvalid_1's rmse: 3.62877\n",
      "[2100]\ttraining's rmse: 3.36428\tvalid_1's rmse: 3.62884\n",
      "Early stopping, best iteration is:\n",
      "[1994]\ttraining's rmse: 3.37435\tvalid_1's rmse: 3.62874\n",
      "fold n°2\n"
     ]
    },
    {
     "name": "stderr",
     "output_type": "stream",
     "text": [
      "C:\\Users\\doron\\Anaconda3\\envs\\tf-gpu\\lib\\site-packages\\lightgbm\\basic.py:1184: UserWarning: Using categorical_feature in Dataset.\n",
      "  warnings.warn('Using categorical_feature in Dataset.')\n",
      "C:\\Users\\doron\\Anaconda3\\envs\\tf-gpu\\lib\\site-packages\\lightgbm\\basic.py:742: UserWarning: categorical_feature in param dict is overridden.\n",
      "  warnings.warn('categorical_feature in param dict is overridden.')\n"
     ]
    },
    {
     "name": "stdout",
     "output_type": "stream",
     "text": [
      "Training until validation scores don't improve for 200 rounds.\n",
      "[100]\ttraining's rmse: 3.75771\tvalid_1's rmse: 3.70457\n",
      "[200]\ttraining's rmse: 3.69295\tvalid_1's rmse: 3.66962\n",
      "[300]\ttraining's rmse: 3.64849\tvalid_1's rmse: 3.65152\n",
      "[400]\ttraining's rmse: 3.61451\tvalid_1's rmse: 3.63981\n",
      "[500]\ttraining's rmse: 3.58712\tvalid_1's rmse: 3.63173\n",
      "[600]\ttraining's rmse: 3.56329\tvalid_1's rmse: 3.62623\n",
      "[700]\ttraining's rmse: 3.54283\tvalid_1's rmse: 3.62217\n",
      "[800]\ttraining's rmse: 3.52463\tvalid_1's rmse: 3.61896\n",
      "[900]\ttraining's rmse: 3.50789\tvalid_1's rmse: 3.61651\n",
      "[1000]\ttraining's rmse: 3.49293\tvalid_1's rmse: 3.61473\n",
      "[1100]\ttraining's rmse: 3.47906\tvalid_1's rmse: 3.61361\n",
      "[1200]\ttraining's rmse: 3.46554\tvalid_1's rmse: 3.61236\n",
      "[1300]\ttraining's rmse: 3.45314\tvalid_1's rmse: 3.61138\n",
      "[1400]\ttraining's rmse: 3.4416\tvalid_1's rmse: 3.61072\n",
      "[1500]\ttraining's rmse: 3.43007\tvalid_1's rmse: 3.61005\n",
      "[1600]\ttraining's rmse: 3.41899\tvalid_1's rmse: 3.60976\n",
      "[1700]\ttraining's rmse: 3.40856\tvalid_1's rmse: 3.60974\n",
      "[1800]\ttraining's rmse: 3.39912\tvalid_1's rmse: 3.60978\n",
      "[1900]\ttraining's rmse: 3.38942\tvalid_1's rmse: 3.60956\n",
      "[2000]\ttraining's rmse: 3.38021\tvalid_1's rmse: 3.60975\n",
      "[2100]\ttraining's rmse: 3.37081\tvalid_1's rmse: 3.60969\n",
      "Early stopping, best iteration is:\n",
      "[1905]\ttraining's rmse: 3.38895\tvalid_1's rmse: 3.60952\n",
      "fold n°3\n"
     ]
    },
    {
     "name": "stderr",
     "output_type": "stream",
     "text": [
      "C:\\Users\\doron\\Anaconda3\\envs\\tf-gpu\\lib\\site-packages\\lightgbm\\basic.py:1184: UserWarning: Using categorical_feature in Dataset.\n",
      "  warnings.warn('Using categorical_feature in Dataset.')\n",
      "C:\\Users\\doron\\Anaconda3\\envs\\tf-gpu\\lib\\site-packages\\lightgbm\\basic.py:742: UserWarning: categorical_feature in param dict is overridden.\n",
      "  warnings.warn('categorical_feature in param dict is overridden.')\n"
     ]
    },
    {
     "name": "stdout",
     "output_type": "stream",
     "text": [
      "Training until validation scores don't improve for 200 rounds.\n",
      "[100]\ttraining's rmse: 3.71146\tvalid_1's rmse: 3.89533\n",
      "[200]\ttraining's rmse: 3.64935\tvalid_1's rmse: 3.85285\n",
      "[300]\ttraining's rmse: 3.60529\tvalid_1's rmse: 3.83033\n",
      "[400]\ttraining's rmse: 3.57011\tvalid_1's rmse: 3.81776\n",
      "[500]\ttraining's rmse: 3.54184\tvalid_1's rmse: 3.81023\n",
      "[600]\ttraining's rmse: 3.5172\tvalid_1's rmse: 3.80553\n",
      "[700]\ttraining's rmse: 3.49663\tvalid_1's rmse: 3.80182\n",
      "[800]\ttraining's rmse: 3.47795\tvalid_1's rmse: 3.79867\n",
      "[900]\ttraining's rmse: 3.46135\tvalid_1's rmse: 3.79694\n",
      "[1000]\ttraining's rmse: 3.4455\tvalid_1's rmse: 3.79471\n",
      "[1100]\ttraining's rmse: 3.43117\tvalid_1's rmse: 3.79368\n",
      "[1200]\ttraining's rmse: 3.41795\tvalid_1's rmse: 3.79237\n",
      "[1300]\ttraining's rmse: 3.40546\tvalid_1's rmse: 3.79177\n",
      "[1400]\ttraining's rmse: 3.39332\tvalid_1's rmse: 3.79112\n",
      "[1500]\ttraining's rmse: 3.38204\tvalid_1's rmse: 3.79056\n",
      "[1600]\ttraining's rmse: 3.37134\tvalid_1's rmse: 3.78984\n",
      "[1700]\ttraining's rmse: 3.36101\tvalid_1's rmse: 3.78939\n",
      "[1800]\ttraining's rmse: 3.35114\tvalid_1's rmse: 3.78901\n",
      "[1900]\ttraining's rmse: 3.34148\tvalid_1's rmse: 3.78878\n",
      "[2000]\ttraining's rmse: 3.33185\tvalid_1's rmse: 3.78874\n",
      "[2100]\ttraining's rmse: 3.3222\tvalid_1's rmse: 3.78855\n",
      "[2200]\ttraining's rmse: 3.31296\tvalid_1's rmse: 3.78849\n",
      "[2300]\ttraining's rmse: 3.30424\tvalid_1's rmse: 3.78836\n",
      "[2400]\ttraining's rmse: 3.29577\tvalid_1's rmse: 3.78824\n",
      "[2500]\ttraining's rmse: 3.28669\tvalid_1's rmse: 3.78838\n",
      "Early stopping, best iteration is:\n",
      "[2332]\ttraining's rmse: 3.3015\tvalid_1's rmse: 3.7882\n",
      "fold n°4\n"
     ]
    },
    {
     "name": "stderr",
     "output_type": "stream",
     "text": [
      "C:\\Users\\doron\\Anaconda3\\envs\\tf-gpu\\lib\\site-packages\\lightgbm\\basic.py:1184: UserWarning: Using categorical_feature in Dataset.\n",
      "  warnings.warn('Using categorical_feature in Dataset.')\n",
      "C:\\Users\\doron\\Anaconda3\\envs\\tf-gpu\\lib\\site-packages\\lightgbm\\basic.py:742: UserWarning: categorical_feature in param dict is overridden.\n",
      "  warnings.warn('categorical_feature in param dict is overridden.')\n"
     ]
    },
    {
     "name": "stdout",
     "output_type": "stream",
     "text": [
      "Training until validation scores don't improve for 200 rounds.\n",
      "[100]\ttraining's rmse: 3.75346\tvalid_1's rmse: 3.7179\n",
      "[200]\ttraining's rmse: 3.68749\tvalid_1's rmse: 3.6846\n",
      "[300]\ttraining's rmse: 3.64242\tvalid_1's rmse: 3.66844\n",
      "[400]\ttraining's rmse: 3.60773\tvalid_1's rmse: 3.65855\n",
      "[500]\ttraining's rmse: 3.57943\tvalid_1's rmse: 3.65253\n",
      "[600]\ttraining's rmse: 3.55559\tvalid_1's rmse: 3.64772\n",
      "[700]\ttraining's rmse: 3.53523\tvalid_1's rmse: 3.64399\n",
      "[800]\ttraining's rmse: 3.51701\tvalid_1's rmse: 3.64102\n",
      "[900]\ttraining's rmse: 3.50037\tvalid_1's rmse: 3.63907\n",
      "[1000]\ttraining's rmse: 3.4856\tvalid_1's rmse: 3.63719\n",
      "[1100]\ttraining's rmse: 3.47157\tvalid_1's rmse: 3.63574\n",
      "[1200]\ttraining's rmse: 3.45861\tvalid_1's rmse: 3.63442\n",
      "[1300]\ttraining's rmse: 3.44568\tvalid_1's rmse: 3.63333\n",
      "[1400]\ttraining's rmse: 3.43417\tvalid_1's rmse: 3.63253\n",
      "[1500]\ttraining's rmse: 3.42319\tvalid_1's rmse: 3.63169\n",
      "[1600]\ttraining's rmse: 3.41283\tvalid_1's rmse: 3.6314\n",
      "[1700]\ttraining's rmse: 3.40243\tvalid_1's rmse: 3.63108\n",
      "[1800]\ttraining's rmse: 3.39221\tvalid_1's rmse: 3.63061\n",
      "[1900]\ttraining's rmse: 3.38253\tvalid_1's rmse: 3.63038\n",
      "[2000]\ttraining's rmse: 3.37321\tvalid_1's rmse: 3.63019\n",
      "[2100]\ttraining's rmse: 3.36428\tvalid_1's rmse: 3.63044\n",
      "Early stopping, best iteration is:\n",
      "[1938]\ttraining's rmse: 3.37905\tvalid_1's rmse: 3.63013\n",
      "CV score: 3.66926 \n"
     ]
    }
   ],
   "source": [
    "folds = KFold(n_splits=5, shuffle=True, random_state=15)\n",
    "oof = np.zeros(len(train))\n",
    "predictions = np.zeros(len(test))\n",
    "start = time.time()\n",
    "feature_importance_df = pd.DataFrame()\n",
    "\n",
    "for fold_, (trn_idx, val_idx) in enumerate(folds.split(train.values, target.values)):\n",
    "    print(\"fold n°{}\".format(fold_))\n",
    "    trn_data = lgb.Dataset(train.iloc[trn_idx][features], label=target.iloc[trn_idx], categorical_feature=categorical_feats)\n",
    "    val_data = lgb.Dataset(train.iloc[val_idx][features], label=target.iloc[val_idx], categorical_feature=categorical_feats)\n",
    "\n",
    "    num_round = 10000\n",
    "    clf = lgb.train(param, trn_data, num_round, valid_sets = [trn_data, val_data], verbose_eval=100, early_stopping_rounds = 200)\n",
    "    oof[val_idx] = clf.predict(train.iloc[val_idx][features], num_iteration=clf.best_iteration)\n",
    "    \n",
    "    fold_importance_df = pd.DataFrame()\n",
    "    fold_importance_df[\"feature\"] = features\n",
    "    fold_importance_df[\"importance\"] = clf.feature_importance()\n",
    "    fold_importance_df[\"fold\"] = fold_ + 1\n",
    "    feature_importance_df = pd.concat([feature_importance_df, fold_importance_df], axis=0)\n",
    "    \n",
    "    predictions += clf.predict(test[features], num_iteration=clf.best_iteration) / folds.n_splits\n",
    "\n",
    "print(\"CV score: {:<8.5f}\".format(mean_squared_error(oof, target)**0.5))"
   ]
  },
  {
   "cell_type": "markdown",
   "metadata": {
    "_uuid": "acdaccc5c862736b097ae9e5bcdcdae5083b5d33"
   },
   "source": [
    "## LightGBM-1 with Repeated kfold approach\n",
    "\n",
    "#### RepeatedKFold repeats K-Fold n times. It can be used when one requires to run KFold n times, producing different splits in each repetition."
   ]
  },
  {
   "cell_type": "code",
   "execution_count": 17,
   "metadata": {
    "_uuid": "91043a8b0a7b1d335672f35d39f1621b02befc88"
   },
   "outputs": [],
   "source": [
    "lgbparam = {'num_leaves': 31,\n",
    "            'boosting_type': 'rf',\n",
    "             'min_data_in_leaf': 30, \n",
    "             'objective':'regression',\n",
    "             'max_depth': -1,\n",
    "             'learning_rate': 0.01,\n",
    "             \"min_child_samples\": 20,\n",
    "             \"boosting\": \"gbdt\",\n",
    "             \"feature_fraction\": 0.9,\n",
    "             \"bagging_freq\": 1,\n",
    "             \"bagging_fraction\": 0.9 ,\n",
    "             \"bagging_seed\": 11,\n",
    "             \"metric\": 'rmse',\n",
    "             \"lambda_l1\": 0.1,\n",
    "             \"verbosity\": -1,\n",
    "             \"nthread\": 4,\n",
    "             \"random_state\": 4590}"
   ]
  },
  {
   "cell_type": "code",
   "execution_count": 18,
   "metadata": {
    "_uuid": "17b17b5d967ccf2912d9f7b229cd06cb74819d85"
   },
   "outputs": [
    {
     "name": "stdout",
     "output_type": "stream",
     "text": [
      "fold n°0\n"
     ]
    },
    {
     "name": "stderr",
     "output_type": "stream",
     "text": [
      "C:\\Users\\doron\\Anaconda3\\envs\\tf-gpu\\lib\\site-packages\\lightgbm\\basic.py:1184: UserWarning: Using categorical_feature in Dataset.\n",
      "  warnings.warn('Using categorical_feature in Dataset.')\n",
      "C:\\Users\\doron\\Anaconda3\\envs\\tf-gpu\\lib\\site-packages\\lightgbm\\basic.py:742: UserWarning: categorical_feature in param dict is overridden.\n",
      "  warnings.warn('categorical_feature in param dict is overridden.')\n"
     ]
    },
    {
     "name": "stdout",
     "output_type": "stream",
     "text": [
      "Training until validation scores don't improve for 100 rounds.\n",
      "[100]\ttraining's rmse: 3.67318\tvalid_1's rmse: 3.74595\n",
      "[200]\ttraining's rmse: 3.59216\tvalid_1's rmse: 3.71949\n",
      "[300]\ttraining's rmse: 3.53748\tvalid_1's rmse: 3.70728\n",
      "[400]\ttraining's rmse: 3.49722\tvalid_1's rmse: 3.70178\n",
      "[500]\ttraining's rmse: 3.46457\tvalid_1's rmse: 3.69815\n",
      "[600]\ttraining's rmse: 3.43715\tvalid_1's rmse: 3.69616\n",
      "[700]\ttraining's rmse: 3.41309\tvalid_1's rmse: 3.69482\n",
      "[800]\ttraining's rmse: 3.39031\tvalid_1's rmse: 3.69416\n",
      "[900]\ttraining's rmse: 3.36873\tvalid_1's rmse: 3.69428\n",
      "Early stopping, best iteration is:\n",
      "[826]\ttraining's rmse: 3.38473\tvalid_1's rmse: 3.69402\n",
      "fold n°1\n"
     ]
    },
    {
     "name": "stderr",
     "output_type": "stream",
     "text": [
      "C:\\Users\\doron\\Anaconda3\\envs\\tf-gpu\\lib\\site-packages\\lightgbm\\basic.py:1184: UserWarning: Using categorical_feature in Dataset.\n",
      "  warnings.warn('Using categorical_feature in Dataset.')\n",
      "C:\\Users\\doron\\Anaconda3\\envs\\tf-gpu\\lib\\site-packages\\lightgbm\\basic.py:742: UserWarning: categorical_feature in param dict is overridden.\n",
      "  warnings.warn('categorical_feature in param dict is overridden.')\n"
     ]
    },
    {
     "name": "stdout",
     "output_type": "stream",
     "text": [
      "Training until validation scores don't improve for 100 rounds.\n",
      "[100]\ttraining's rmse: 3.70799\tvalid_1's rmse: 3.60903\n",
      "[200]\ttraining's rmse: 3.63021\tvalid_1's rmse: 3.57665\n",
      "[300]\ttraining's rmse: 3.57735\tvalid_1's rmse: 3.56223\n",
      "[400]\ttraining's rmse: 3.5378\tvalid_1's rmse: 3.55297\n",
      "[500]\ttraining's rmse: 3.50606\tvalid_1's rmse: 3.54763\n",
      "[600]\ttraining's rmse: 3.47866\tvalid_1's rmse: 3.54347\n",
      "[700]\ttraining's rmse: 3.45471\tvalid_1's rmse: 3.54099\n",
      "[800]\ttraining's rmse: 3.43253\tvalid_1's rmse: 3.53949\n",
      "[900]\ttraining's rmse: 3.41087\tvalid_1's rmse: 3.53908\n",
      "[1000]\ttraining's rmse: 3.39129\tvalid_1's rmse: 3.53836\n",
      "[1100]\ttraining's rmse: 3.37305\tvalid_1's rmse: 3.53782\n",
      "[1200]\ttraining's rmse: 3.35462\tvalid_1's rmse: 3.53751\n",
      "[1300]\ttraining's rmse: 3.33721\tvalid_1's rmse: 3.53714\n",
      "[1400]\ttraining's rmse: 3.32011\tvalid_1's rmse: 3.53698\n",
      "[1500]\ttraining's rmse: 3.30382\tvalid_1's rmse: 3.53698\n",
      "[1600]\ttraining's rmse: 3.28899\tvalid_1's rmse: 3.53676\n",
      "[1700]\ttraining's rmse: 3.27364\tvalid_1's rmse: 3.5368\n",
      "Early stopping, best iteration is:\n",
      "[1622]\ttraining's rmse: 3.28565\tvalid_1's rmse: 3.53647\n",
      "fold n°2\n"
     ]
    },
    {
     "name": "stderr",
     "output_type": "stream",
     "text": [
      "C:\\Users\\doron\\Anaconda3\\envs\\tf-gpu\\lib\\site-packages\\lightgbm\\basic.py:1184: UserWarning: Using categorical_feature in Dataset.\n",
      "  warnings.warn('Using categorical_feature in Dataset.')\n",
      "C:\\Users\\doron\\Anaconda3\\envs\\tf-gpu\\lib\\site-packages\\lightgbm\\basic.py:742: UserWarning: categorical_feature in param dict is overridden.\n",
      "  warnings.warn('categorical_feature in param dict is overridden.')\n"
     ]
    },
    {
     "name": "stdout",
     "output_type": "stream",
     "text": [
      "Training until validation scores don't improve for 100 rounds.\n",
      "[100]\ttraining's rmse: 3.63843\tvalid_1's rmse: 3.89346\n",
      "[200]\ttraining's rmse: 3.55939\tvalid_1's rmse: 3.86269\n",
      "[300]\ttraining's rmse: 3.50763\tvalid_1's rmse: 3.84852\n",
      "[400]\ttraining's rmse: 3.46923\tvalid_1's rmse: 3.84086\n",
      "[500]\ttraining's rmse: 3.43763\tvalid_1's rmse: 3.83638\n",
      "[600]\ttraining's rmse: 3.40943\tvalid_1's rmse: 3.83357\n",
      "[700]\ttraining's rmse: 3.38508\tvalid_1's rmse: 3.83156\n",
      "[800]\ttraining's rmse: 3.36155\tvalid_1's rmse: 3.8306\n",
      "[900]\ttraining's rmse: 3.34178\tvalid_1's rmse: 3.83006\n",
      "[1000]\ttraining's rmse: 3.32308\tvalid_1's rmse: 3.82936\n",
      "[1100]\ttraining's rmse: 3.30441\tvalid_1's rmse: 3.82868\n",
      "[1200]\ttraining's rmse: 3.28756\tvalid_1's rmse: 3.8285\n",
      "[1300]\ttraining's rmse: 3.27043\tvalid_1's rmse: 3.82844\n",
      "Early stopping, best iteration is:\n",
      "[1280]\ttraining's rmse: 3.27397\tvalid_1's rmse: 3.82817\n",
      "fold n°3\n"
     ]
    },
    {
     "name": "stderr",
     "output_type": "stream",
     "text": [
      "C:\\Users\\doron\\Anaconda3\\envs\\tf-gpu\\lib\\site-packages\\lightgbm\\basic.py:1184: UserWarning: Using categorical_feature in Dataset.\n",
      "  warnings.warn('Using categorical_feature in Dataset.')\n",
      "C:\\Users\\doron\\Anaconda3\\envs\\tf-gpu\\lib\\site-packages\\lightgbm\\basic.py:742: UserWarning: categorical_feature in param dict is overridden.\n",
      "  warnings.warn('categorical_feature in param dict is overridden.')\n"
     ]
    },
    {
     "name": "stdout",
     "output_type": "stream",
     "text": [
      "Training until validation scores don't improve for 100 rounds.\n",
      "[100]\ttraining's rmse: 3.68029\tvalid_1's rmse: 3.72178\n",
      "[200]\ttraining's rmse: 3.6015\tvalid_1's rmse: 3.69238\n",
      "[300]\ttraining's rmse: 3.54722\tvalid_1's rmse: 3.68047\n",
      "[400]\ttraining's rmse: 3.50836\tvalid_1's rmse: 3.67354\n",
      "[500]\ttraining's rmse: 3.47639\tvalid_1's rmse: 3.6696\n",
      "[600]\ttraining's rmse: 3.44779\tvalid_1's rmse: 3.66657\n",
      "[700]\ttraining's rmse: 3.42234\tvalid_1's rmse: 3.66512\n",
      "[800]\ttraining's rmse: 3.39988\tvalid_1's rmse: 3.66383\n",
      "[900]\ttraining's rmse: 3.37871\tvalid_1's rmse: 3.6628\n",
      "[1000]\ttraining's rmse: 3.35936\tvalid_1's rmse: 3.66217\n",
      "[1100]\ttraining's rmse: 3.34058\tvalid_1's rmse: 3.662\n",
      "[1200]\ttraining's rmse: 3.32309\tvalid_1's rmse: 3.66178\n",
      "[1300]\ttraining's rmse: 3.30541\tvalid_1's rmse: 3.6622\n",
      "Early stopping, best iteration is:\n",
      "[1250]\ttraining's rmse: 3.31488\tvalid_1's rmse: 3.66166\n",
      "fold n°4\n"
     ]
    },
    {
     "name": "stderr",
     "output_type": "stream",
     "text": [
      "C:\\Users\\doron\\Anaconda3\\envs\\tf-gpu\\lib\\site-packages\\lightgbm\\basic.py:1184: UserWarning: Using categorical_feature in Dataset.\n",
      "  warnings.warn('Using categorical_feature in Dataset.')\n",
      "C:\\Users\\doron\\Anaconda3\\envs\\tf-gpu\\lib\\site-packages\\lightgbm\\basic.py:742: UserWarning: categorical_feature in param dict is overridden.\n",
      "  warnings.warn('categorical_feature in param dict is overridden.')\n"
     ]
    },
    {
     "name": "stdout",
     "output_type": "stream",
     "text": [
      "Training until validation scores don't improve for 100 rounds.\n",
      "[100]\ttraining's rmse: 3.68914\tvalid_1's rmse: 3.68913\n",
      "[200]\ttraining's rmse: 3.61125\tvalid_1's rmse: 3.65393\n",
      "[300]\ttraining's rmse: 3.55897\tvalid_1's rmse: 3.6392\n",
      "[400]\ttraining's rmse: 3.52016\tvalid_1's rmse: 3.63028\n",
      "[500]\ttraining's rmse: 3.48781\tvalid_1's rmse: 3.62495\n",
      "[600]\ttraining's rmse: 3.46129\tvalid_1's rmse: 3.6204\n",
      "[700]\ttraining's rmse: 3.43678\tvalid_1's rmse: 3.61794\n",
      "[800]\ttraining's rmse: 3.41463\tvalid_1's rmse: 3.61629\n",
      "[900]\ttraining's rmse: 3.39329\tvalid_1's rmse: 3.61533\n",
      "[1000]\ttraining's rmse: 3.37381\tvalid_1's rmse: 3.61439\n",
      "[1100]\ttraining's rmse: 3.35735\tvalid_1's rmse: 3.61409\n",
      "Early stopping, best iteration is:\n",
      "[1079]\ttraining's rmse: 3.36077\tvalid_1's rmse: 3.61378\n",
      "fold n°5\n"
     ]
    },
    {
     "name": "stderr",
     "output_type": "stream",
     "text": [
      "C:\\Users\\doron\\Anaconda3\\envs\\tf-gpu\\lib\\site-packages\\lightgbm\\basic.py:1184: UserWarning: Using categorical_feature in Dataset.\n",
      "  warnings.warn('Using categorical_feature in Dataset.')\n",
      "C:\\Users\\doron\\Anaconda3\\envs\\tf-gpu\\lib\\site-packages\\lightgbm\\basic.py:742: UserWarning: categorical_feature in param dict is overridden.\n",
      "  warnings.warn('categorical_feature in param dict is overridden.')\n"
     ]
    },
    {
     "name": "stdout",
     "output_type": "stream",
     "text": [
      "Training until validation scores don't improve for 100 rounds.\n",
      "[100]\ttraining's rmse: 3.66242\tvalid_1's rmse: 3.78435\n",
      "[200]\ttraining's rmse: 3.58192\tvalid_1's rmse: 3.75821\n",
      "[300]\ttraining's rmse: 3.52974\tvalid_1's rmse: 3.74946\n",
      "[400]\ttraining's rmse: 3.49032\tvalid_1's rmse: 3.74265\n",
      "[500]\ttraining's rmse: 3.45673\tvalid_1's rmse: 3.73846\n",
      "[600]\ttraining's rmse: 3.42833\tvalid_1's rmse: 3.73604\n",
      "[700]\ttraining's rmse: 3.4028\tvalid_1's rmse: 3.73369\n",
      "[800]\ttraining's rmse: 3.38076\tvalid_1's rmse: 3.73218\n",
      "[900]\ttraining's rmse: 3.35929\tvalid_1's rmse: 3.73199\n",
      "[1000]\ttraining's rmse: 3.33958\tvalid_1's rmse: 3.7317\n",
      "[1100]\ttraining's rmse: 3.3222\tvalid_1's rmse: 3.73167\n",
      "Early stopping, best iteration is:\n",
      "[1086]\ttraining's rmse: 3.32453\tvalid_1's rmse: 3.73148\n",
      "fold n°6\n"
     ]
    },
    {
     "name": "stderr",
     "output_type": "stream",
     "text": [
      "C:\\Users\\doron\\Anaconda3\\envs\\tf-gpu\\lib\\site-packages\\lightgbm\\basic.py:1184: UserWarning: Using categorical_feature in Dataset.\n",
      "  warnings.warn('Using categorical_feature in Dataset.')\n",
      "C:\\Users\\doron\\Anaconda3\\envs\\tf-gpu\\lib\\site-packages\\lightgbm\\basic.py:742: UserWarning: categorical_feature in param dict is overridden.\n",
      "  warnings.warn('categorical_feature in param dict is overridden.')\n"
     ]
    },
    {
     "name": "stdout",
     "output_type": "stream",
     "text": [
      "Training until validation scores don't improve for 100 rounds.\n",
      "[100]\ttraining's rmse: 3.67855\tvalid_1's rmse: 3.72279\n",
      "[200]\ttraining's rmse: 3.5986\tvalid_1's rmse: 3.69428\n",
      "[300]\ttraining's rmse: 3.54499\tvalid_1's rmse: 3.68336\n",
      "[400]\ttraining's rmse: 3.50532\tvalid_1's rmse: 3.67554\n",
      "[500]\ttraining's rmse: 3.47375\tvalid_1's rmse: 3.67011\n",
      "[600]\ttraining's rmse: 3.44738\tvalid_1's rmse: 3.66676\n",
      "[700]\ttraining's rmse: 3.4229\tvalid_1's rmse: 3.66448\n",
      "[800]\ttraining's rmse: 3.401\tvalid_1's rmse: 3.66306\n",
      "[900]\ttraining's rmse: 3.38029\tvalid_1's rmse: 3.66205\n",
      "[1000]\ttraining's rmse: 3.36101\tvalid_1's rmse: 3.66113\n",
      "[1100]\ttraining's rmse: 3.34191\tvalid_1's rmse: 3.6606\n",
      "[1200]\ttraining's rmse: 3.32385\tvalid_1's rmse: 3.66022\n",
      "[1300]\ttraining's rmse: 3.30705\tvalid_1's rmse: 3.6603\n",
      "Early stopping, best iteration is:\n",
      "[1263]\ttraining's rmse: 3.31298\tvalid_1's rmse: 3.66\n",
      "fold n°7\n"
     ]
    },
    {
     "name": "stderr",
     "output_type": "stream",
     "text": [
      "C:\\Users\\doron\\Anaconda3\\envs\\tf-gpu\\lib\\site-packages\\lightgbm\\basic.py:1184: UserWarning: Using categorical_feature in Dataset.\n",
      "  warnings.warn('Using categorical_feature in Dataset.')\n",
      "C:\\Users\\doron\\Anaconda3\\envs\\tf-gpu\\lib\\site-packages\\lightgbm\\basic.py:742: UserWarning: categorical_feature in param dict is overridden.\n",
      "  warnings.warn('categorical_feature in param dict is overridden.')\n"
     ]
    },
    {
     "name": "stdout",
     "output_type": "stream",
     "text": [
      "Training until validation scores don't improve for 100 rounds.\n",
      "[100]\ttraining's rmse: 3.67568\tvalid_1's rmse: 3.75187\n",
      "[200]\ttraining's rmse: 3.59841\tvalid_1's rmse: 3.71507\n",
      "[300]\ttraining's rmse: 3.54626\tvalid_1's rmse: 3.70036\n",
      "[400]\ttraining's rmse: 3.50739\tvalid_1's rmse: 3.69313\n",
      "[500]\ttraining's rmse: 3.47619\tvalid_1's rmse: 3.6886\n",
      "[600]\ttraining's rmse: 3.44901\tvalid_1's rmse: 3.68586\n",
      "[700]\ttraining's rmse: 3.4254\tvalid_1's rmse: 3.68423\n",
      "[800]\ttraining's rmse: 3.40287\tvalid_1's rmse: 3.68288\n",
      "[900]\ttraining's rmse: 3.38184\tvalid_1's rmse: 3.682\n",
      "[1000]\ttraining's rmse: 3.36163\tvalid_1's rmse: 3.68112\n",
      "Early stopping, best iteration is:\n",
      "[990]\ttraining's rmse: 3.3637\tvalid_1's rmse: 3.68097\n",
      "fold n°8\n"
     ]
    },
    {
     "name": "stderr",
     "output_type": "stream",
     "text": [
      "C:\\Users\\doron\\Anaconda3\\envs\\tf-gpu\\lib\\site-packages\\lightgbm\\basic.py:1184: UserWarning: Using categorical_feature in Dataset.\n",
      "  warnings.warn('Using categorical_feature in Dataset.')\n",
      "C:\\Users\\doron\\Anaconda3\\envs\\tf-gpu\\lib\\site-packages\\lightgbm\\basic.py:742: UserWarning: categorical_feature in param dict is overridden.\n",
      "  warnings.warn('categorical_feature in param dict is overridden.')\n"
     ]
    },
    {
     "name": "stdout",
     "output_type": "stream",
     "text": [
      "Training until validation scores don't improve for 100 rounds.\n",
      "[100]\ttraining's rmse: 3.68263\tvalid_1's rmse: 3.71028\n",
      "[200]\ttraining's rmse: 3.60346\tvalid_1's rmse: 3.67986\n",
      "[300]\ttraining's rmse: 3.54947\tvalid_1's rmse: 3.66641\n",
      "[400]\ttraining's rmse: 3.50911\tvalid_1's rmse: 3.66053\n",
      "[500]\ttraining's rmse: 3.47634\tvalid_1's rmse: 3.65722\n",
      "[600]\ttraining's rmse: 3.44867\tvalid_1's rmse: 3.65537\n",
      "[700]\ttraining's rmse: 3.42258\tvalid_1's rmse: 3.65414\n",
      "[800]\ttraining's rmse: 3.4\tvalid_1's rmse: 3.65305\n",
      "[900]\ttraining's rmse: 3.37817\tvalid_1's rmse: 3.65282\n",
      "Early stopping, best iteration is:\n",
      "[873]\ttraining's rmse: 3.38373\tvalid_1's rmse: 3.6525\n",
      "fold n°9\n"
     ]
    },
    {
     "name": "stderr",
     "output_type": "stream",
     "text": [
      "C:\\Users\\doron\\Anaconda3\\envs\\tf-gpu\\lib\\site-packages\\lightgbm\\basic.py:1184: UserWarning: Using categorical_feature in Dataset.\n",
      "  warnings.warn('Using categorical_feature in Dataset.')\n",
      "C:\\Users\\doron\\Anaconda3\\envs\\tf-gpu\\lib\\site-packages\\lightgbm\\basic.py:742: UserWarning: categorical_feature in param dict is overridden.\n",
      "  warnings.warn('categorical_feature in param dict is overridden.')\n"
     ]
    },
    {
     "name": "stdout",
     "output_type": "stream",
     "text": [
      "Training until validation scores don't improve for 100 rounds.\n",
      "[100]\ttraining's rmse: 3.69173\tvalid_1's rmse: 3.68395\n",
      "[200]\ttraining's rmse: 3.61341\tvalid_1's rmse: 3.64948\n",
      "[300]\ttraining's rmse: 3.56051\tvalid_1's rmse: 3.63389\n",
      "[400]\ttraining's rmse: 3.52102\tvalid_1's rmse: 3.62503\n",
      "[500]\ttraining's rmse: 3.48951\tvalid_1's rmse: 3.61954\n",
      "[600]\ttraining's rmse: 3.46347\tvalid_1's rmse: 3.61626\n",
      "[700]\ttraining's rmse: 3.43919\tvalid_1's rmse: 3.61364\n",
      "[800]\ttraining's rmse: 3.41756\tvalid_1's rmse: 3.61229\n",
      "[900]\ttraining's rmse: 3.39775\tvalid_1's rmse: 3.61091\n",
      "[1000]\ttraining's rmse: 3.37766\tvalid_1's rmse: 3.60958\n",
      "[1100]\ttraining's rmse: 3.35847\tvalid_1's rmse: 3.60871\n",
      "[1200]\ttraining's rmse: 3.34168\tvalid_1's rmse: 3.6081\n",
      "[1300]\ttraining's rmse: 3.32465\tvalid_1's rmse: 3.60811\n",
      "[1400]\ttraining's rmse: 3.30737\tvalid_1's rmse: 3.60768\n",
      "[1500]\ttraining's rmse: 3.29118\tvalid_1's rmse: 3.60732\n",
      "[1600]\ttraining's rmse: 3.27592\tvalid_1's rmse: 3.60683\n",
      "Early stopping, best iteration is:\n",
      "[1588]\ttraining's rmse: 3.27779\tvalid_1's rmse: 3.60675\n",
      "CV score: 3.66657 \n"
     ]
    }
   ],
   "source": [
    "from sklearn.model_selection import RepeatedKFold\n",
    "folds = RepeatedKFold(n_splits=5, n_repeats=2, random_state=4520)\n",
    "\n",
    "oof_lgb = np.zeros(len(train))\n",
    "predictions_lgb = np.zeros(len(test))\n",
    "start = time.time()\n",
    "feature_importance_df = pd.DataFrame()\n",
    "\n",
    "for fold_, (trn_idx, val_idx) in enumerate(folds.split(train.values, target.values)):\n",
    "    print(\"fold n°{}\".format(fold_))\n",
    "    trn_data = lgb.Dataset(train.iloc[trn_idx][features], label=target.iloc[trn_idx], categorical_feature=categorical_feats)\n",
    "    val_data = lgb.Dataset(train.iloc[val_idx][features], label=target.iloc[val_idx], categorical_feature=categorical_feats)\n",
    "\n",
    "    num_round = 11000\n",
    "    clf = lgb.train(lgbparam, trn_data, num_round, valid_sets = [trn_data, val_data], verbose_eval=100, early_stopping_rounds = 100)\n",
    "    oof_lgb[val_idx] = clf.predict(train.iloc[val_idx][features], num_iteration=clf.best_iteration)\n",
    "    \n",
    "    fold_importance_df = pd.DataFrame()\n",
    "    fold_importance_df[\"feature\"] = features\n",
    "    fold_importance_df[\"importance\"] = clf.feature_importance()\n",
    "    fold_importance_df[\"fold\"] = fold_ + 1\n",
    "    feature_importance_df = pd.concat([feature_importance_df, fold_importance_df], axis=0)\n",
    "    \n",
    "    predictions_lgb += clf.predict(test[features], num_iteration=clf.best_iteration) / (5 * 2)\n",
    "\n",
    "print(\"CV score: {:<8.5f}\".format(mean_squared_error(oof_lgb, target)**0.5))"
   ]
  },
  {
   "cell_type": "code",
   "execution_count": 25,
   "metadata": {
    "_uuid": "b65e47686b49b31f0dc47171ab2aece4a4d0a941"
   },
   "outputs": [],
   "source": [
    "sample_submission = pd.read_csv('./all/sample_submission.csv')\n",
    "sample_submission['target'] = predictions * 0.5 + predictions_lgb * 0.5\n",
    "sample_submission.to_csv(\"./Submissions/Model1.csv\", index = False)"
   ]
  },
  {
   "cell_type": "markdown",
   "metadata": {},
   "source": [
    "## 2. Model Trained on Extracted features predicting loyalty for training set without outliers"
   ]
  },
  {
   "cell_type": "markdown",
   "metadata": {},
   "source": [
    "In order to train on model without outliers we have to find them and ignore them"
   ]
  },
  {
   "cell_type": "code",
   "execution_count": 35,
   "metadata": {},
   "outputs": [],
   "source": [
    "train['outliers'] = 0\n",
    "train.loc[train['target'] < -30, 'outliers'] = 1"
   ]
  },
  {
   "cell_type": "code",
   "execution_count": 37,
   "metadata": {},
   "outputs": [
    {
     "data": {
      "text/plain": [
       "199710"
      ]
     },
     "execution_count": 37,
     "metadata": {},
     "output_type": "execute_result"
    }
   ],
   "source": [
    "trainNoOut = train.loc[train['outliers'] == 0]"
   ]
  },
  {
   "cell_type": "code",
   "execution_count": 39,
   "metadata": {},
   "outputs": [
    {
     "data": {
      "text/plain": [
       "35"
      ]
     },
     "execution_count": 39,
     "metadata": {},
     "output_type": "execute_result"
    }
   ],
   "source": [
    "targetNoOut = trainNoOut['target']\n",
    "del trainNoOut['target']\n",
    "del trainNoOut['outliers']\n",
    "gc.collect()"
   ]
  },
  {
   "cell_type": "markdown",
   "metadata": {},
   "source": [
    "In this point we have the train dataset without 1% outliers in it and the targets for all training set"
   ]
  },
  {
   "cell_type": "code",
   "execution_count": 44,
   "metadata": {
    "collapsed": true
   },
   "outputs": [
    {
     "name": "stdout",
     "output_type": "stream",
     "text": [
      "fold n°0\n"
     ]
    },
    {
     "name": "stderr",
     "output_type": "stream",
     "text": [
      "C:\\Users\\doron\\Anaconda3\\envs\\tf-gpu\\lib\\site-packages\\lightgbm\\basic.py:1184: UserWarning: Using categorical_feature in Dataset.\n",
      "  warnings.warn('Using categorical_feature in Dataset.')\n",
      "C:\\Users\\doron\\Anaconda3\\envs\\tf-gpu\\lib\\site-packages\\lightgbm\\basic.py:742: UserWarning: categorical_feature in param dict is overridden.\n",
      "  warnings.warn('categorical_feature in param dict is overridden.')\n"
     ]
    },
    {
     "name": "stdout",
     "output_type": "stream",
     "text": [
      "Training until validation scores don't improve for 200 rounds.\n",
      "[100]\ttraining's rmse: 1.64203\tvalid_1's rmse: 1.65017\n",
      "[200]\ttraining's rmse: 1.60628\tvalid_1's rmse: 1.61779\n",
      "[300]\ttraining's rmse: 1.58702\tvalid_1's rmse: 1.60122\n",
      "[400]\ttraining's rmse: 1.5751\tvalid_1's rmse: 1.59142\n",
      "[500]\ttraining's rmse: 1.56665\tvalid_1's rmse: 1.58511\n",
      "[600]\ttraining's rmse: 1.56009\tvalid_1's rmse: 1.58076\n",
      "[700]\ttraining's rmse: 1.5547\tvalid_1's rmse: 1.57744\n",
      "[800]\ttraining's rmse: 1.55015\tvalid_1's rmse: 1.57507\n",
      "[900]\ttraining's rmse: 1.54611\tvalid_1's rmse: 1.57317\n",
      "[1000]\ttraining's rmse: 1.54249\tvalid_1's rmse: 1.5717\n",
      "[1100]\ttraining's rmse: 1.53922\tvalid_1's rmse: 1.57052\n",
      "[1200]\ttraining's rmse: 1.5362\tvalid_1's rmse: 1.56962\n",
      "[1300]\ttraining's rmse: 1.53337\tvalid_1's rmse: 1.56897\n",
      "[1400]\ttraining's rmse: 1.53072\tvalid_1's rmse: 1.5684\n",
      "[1500]\ttraining's rmse: 1.52821\tvalid_1's rmse: 1.568\n",
      "[1600]\ttraining's rmse: 1.52573\tvalid_1's rmse: 1.56761\n",
      "[1700]\ttraining's rmse: 1.52345\tvalid_1's rmse: 1.56734\n",
      "[1800]\ttraining's rmse: 1.52123\tvalid_1's rmse: 1.56714\n",
      "[1900]\ttraining's rmse: 1.51906\tvalid_1's rmse: 1.56693\n",
      "[2000]\ttraining's rmse: 1.51697\tvalid_1's rmse: 1.56679\n",
      "[2100]\ttraining's rmse: 1.51494\tvalid_1's rmse: 1.56666\n",
      "[2200]\ttraining's rmse: 1.51296\tvalid_1's rmse: 1.56653\n",
      "[2300]\ttraining's rmse: 1.51104\tvalid_1's rmse: 1.56648\n",
      "[2400]\ttraining's rmse: 1.50911\tvalid_1's rmse: 1.56639\n",
      "[2500]\ttraining's rmse: 1.50726\tvalid_1's rmse: 1.56633\n",
      "[2600]\ttraining's rmse: 1.50547\tvalid_1's rmse: 1.56629\n",
      "[2700]\ttraining's rmse: 1.5037\tvalid_1's rmse: 1.56623\n",
      "[2800]\ttraining's rmse: 1.50187\tvalid_1's rmse: 1.56618\n",
      "[2900]\ttraining's rmse: 1.50007\tvalid_1's rmse: 1.56615\n",
      "[3000]\ttraining's rmse: 1.4983\tvalid_1's rmse: 1.56612\n",
      "[3100]\ttraining's rmse: 1.49655\tvalid_1's rmse: 1.56605\n",
      "[3200]\ttraining's rmse: 1.49482\tvalid_1's rmse: 1.56597\n",
      "[3300]\ttraining's rmse: 1.49317\tvalid_1's rmse: 1.56596\n",
      "[3400]\ttraining's rmse: 1.49142\tvalid_1's rmse: 1.56593\n",
      "[3500]\ttraining's rmse: 1.48972\tvalid_1's rmse: 1.56592\n",
      "[3600]\ttraining's rmse: 1.48802\tvalid_1's rmse: 1.56585\n",
      "[3700]\ttraining's rmse: 1.48642\tvalid_1's rmse: 1.56582\n",
      "[3800]\ttraining's rmse: 1.48473\tvalid_1's rmse: 1.56579\n",
      "[3900]\ttraining's rmse: 1.48306\tvalid_1's rmse: 1.56576\n",
      "[4000]\ttraining's rmse: 1.48137\tvalid_1's rmse: 1.56573\n",
      "[4100]\ttraining's rmse: 1.47971\tvalid_1's rmse: 1.5657\n",
      "[4200]\ttraining's rmse: 1.47807\tvalid_1's rmse: 1.56568\n",
      "[4300]\ttraining's rmse: 1.47652\tvalid_1's rmse: 1.56569\n",
      "[4400]\ttraining's rmse: 1.47487\tvalid_1's rmse: 1.56567\n",
      "[4500]\ttraining's rmse: 1.4733\tvalid_1's rmse: 1.56566\n",
      "[4600]\ttraining's rmse: 1.47169\tvalid_1's rmse: 1.56562\n",
      "[4700]\ttraining's rmse: 1.47013\tvalid_1's rmse: 1.56559\n",
      "[4800]\ttraining's rmse: 1.46857\tvalid_1's rmse: 1.5656\n",
      "[4900]\ttraining's rmse: 1.46701\tvalid_1's rmse: 1.56555\n",
      "[5000]\ttraining's rmse: 1.46551\tvalid_1's rmse: 1.56553\n",
      "[5100]\ttraining's rmse: 1.464\tvalid_1's rmse: 1.56552\n",
      "[5200]\ttraining's rmse: 1.46248\tvalid_1's rmse: 1.56551\n",
      "[5300]\ttraining's rmse: 1.46092\tvalid_1's rmse: 1.56549\n",
      "[5400]\ttraining's rmse: 1.45939\tvalid_1's rmse: 1.56548\n",
      "[5500]\ttraining's rmse: 1.45793\tvalid_1's rmse: 1.56547\n",
      "[5600]\ttraining's rmse: 1.45641\tvalid_1's rmse: 1.56546\n",
      "[5700]\ttraining's rmse: 1.45493\tvalid_1's rmse: 1.56546\n",
      "[5800]\ttraining's rmse: 1.45342\tvalid_1's rmse: 1.56546\n",
      "[5900]\ttraining's rmse: 1.4519\tvalid_1's rmse: 1.56545\n",
      "[6000]\ttraining's rmse: 1.45038\tvalid_1's rmse: 1.56549\n",
      "[6100]\ttraining's rmse: 1.44887\tvalid_1's rmse: 1.56544\n",
      "[6200]\ttraining's rmse: 1.44739\tvalid_1's rmse: 1.56549\n",
      "Early stopping, best iteration is:\n",
      "[6092]\ttraining's rmse: 1.44899\tvalid_1's rmse: 1.56544\n",
      "fold n°1\n"
     ]
    },
    {
     "name": "stderr",
     "output_type": "stream",
     "text": [
      "C:\\Users\\doron\\Anaconda3\\envs\\tf-gpu\\lib\\site-packages\\lightgbm\\basic.py:1184: UserWarning: Using categorical_feature in Dataset.\n",
      "  warnings.warn('Using categorical_feature in Dataset.')\n",
      "C:\\Users\\doron\\Anaconda3\\envs\\tf-gpu\\lib\\site-packages\\lightgbm\\basic.py:742: UserWarning: categorical_feature in param dict is overridden.\n",
      "  warnings.warn('categorical_feature in param dict is overridden.')\n"
     ]
    },
    {
     "name": "stdout",
     "output_type": "stream",
     "text": [
      "Training until validation scores don't improve for 200 rounds.\n",
      "[100]\ttraining's rmse: 1.64269\tvalid_1's rmse: 1.64867\n",
      "[200]\ttraining's rmse: 1.60719\tvalid_1's rmse: 1.61537\n",
      "[300]\ttraining's rmse: 1.58805\tvalid_1's rmse: 1.59824\n",
      "[400]\ttraining's rmse: 1.57601\tvalid_1's rmse: 1.58836\n",
      "[500]\ttraining's rmse: 1.56753\tvalid_1's rmse: 1.58216\n",
      "[600]\ttraining's rmse: 1.56097\tvalid_1's rmse: 1.57783\n",
      "[700]\ttraining's rmse: 1.55549\tvalid_1's rmse: 1.5746\n",
      "[800]\ttraining's rmse: 1.55093\tvalid_1's rmse: 1.57222\n",
      "[900]\ttraining's rmse: 1.54691\tvalid_1's rmse: 1.57042\n",
      "[1000]\ttraining's rmse: 1.54325\tvalid_1's rmse: 1.56898\n",
      "[1100]\ttraining's rmse: 1.53997\tvalid_1's rmse: 1.56792\n",
      "[1200]\ttraining's rmse: 1.53695\tvalid_1's rmse: 1.56706\n",
      "[1300]\ttraining's rmse: 1.53417\tvalid_1's rmse: 1.56644\n",
      "[1400]\ttraining's rmse: 1.53152\tvalid_1's rmse: 1.56592\n",
      "[1500]\ttraining's rmse: 1.52902\tvalid_1's rmse: 1.56555\n",
      "[1600]\ttraining's rmse: 1.52665\tvalid_1's rmse: 1.5652\n",
      "[1700]\ttraining's rmse: 1.52432\tvalid_1's rmse: 1.5649\n",
      "[1800]\ttraining's rmse: 1.52207\tvalid_1's rmse: 1.56472\n",
      "[1900]\ttraining's rmse: 1.51997\tvalid_1's rmse: 1.56449\n",
      "[2000]\ttraining's rmse: 1.51784\tvalid_1's rmse: 1.56435\n",
      "[2100]\ttraining's rmse: 1.51576\tvalid_1's rmse: 1.56419\n",
      "[2200]\ttraining's rmse: 1.51378\tvalid_1's rmse: 1.56407\n",
      "[2300]\ttraining's rmse: 1.5118\tvalid_1's rmse: 1.56396\n",
      "[2400]\ttraining's rmse: 1.50984\tvalid_1's rmse: 1.56383\n",
      "[2500]\ttraining's rmse: 1.50792\tvalid_1's rmse: 1.56371\n",
      "[2600]\ttraining's rmse: 1.50598\tvalid_1's rmse: 1.56365\n",
      "[2700]\ttraining's rmse: 1.50416\tvalid_1's rmse: 1.56355\n",
      "[2800]\ttraining's rmse: 1.50232\tvalid_1's rmse: 1.5635\n",
      "[2900]\ttraining's rmse: 1.50053\tvalid_1's rmse: 1.56347\n",
      "[3000]\ttraining's rmse: 1.49876\tvalid_1's rmse: 1.5634\n",
      "[3100]\ttraining's rmse: 1.49702\tvalid_1's rmse: 1.56333\n",
      "[3200]\ttraining's rmse: 1.49526\tvalid_1's rmse: 1.56322\n",
      "[3300]\ttraining's rmse: 1.49352\tvalid_1's rmse: 1.56318\n",
      "[3400]\ttraining's rmse: 1.4918\tvalid_1's rmse: 1.56314\n",
      "[3500]\ttraining's rmse: 1.49005\tvalid_1's rmse: 1.56308\n",
      "[3600]\ttraining's rmse: 1.48835\tvalid_1's rmse: 1.563\n",
      "[3700]\ttraining's rmse: 1.48664\tvalid_1's rmse: 1.56295\n",
      "[3800]\ttraining's rmse: 1.485\tvalid_1's rmse: 1.56293\n",
      "[3900]\ttraining's rmse: 1.48329\tvalid_1's rmse: 1.56294\n",
      "[4000]\ttraining's rmse: 1.48163\tvalid_1's rmse: 1.56289\n",
      "[4100]\ttraining's rmse: 1.47997\tvalid_1's rmse: 1.56287\n",
      "[4200]\ttraining's rmse: 1.47834\tvalid_1's rmse: 1.56284\n",
      "[4300]\ttraining's rmse: 1.47675\tvalid_1's rmse: 1.56283\n",
      "[4400]\ttraining's rmse: 1.47515\tvalid_1's rmse: 1.5628\n",
      "[4500]\ttraining's rmse: 1.47353\tvalid_1's rmse: 1.56277\n",
      "[4600]\ttraining's rmse: 1.47194\tvalid_1's rmse: 1.56275\n",
      "[4700]\ttraining's rmse: 1.47034\tvalid_1's rmse: 1.56275\n",
      "[4800]\ttraining's rmse: 1.46876\tvalid_1's rmse: 1.56272\n",
      "[4900]\ttraining's rmse: 1.46723\tvalid_1's rmse: 1.56272\n",
      "[5000]\ttraining's rmse: 1.46567\tvalid_1's rmse: 1.56274\n",
      "Early stopping, best iteration is:\n",
      "[4873]\ttraining's rmse: 1.46764\tvalid_1's rmse: 1.56271\n",
      "fold n°2\n"
     ]
    },
    {
     "name": "stderr",
     "output_type": "stream",
     "text": [
      "C:\\Users\\doron\\Anaconda3\\envs\\tf-gpu\\lib\\site-packages\\lightgbm\\basic.py:1184: UserWarning: Using categorical_feature in Dataset.\n",
      "  warnings.warn('Using categorical_feature in Dataset.')\n",
      "C:\\Users\\doron\\Anaconda3\\envs\\tf-gpu\\lib\\site-packages\\lightgbm\\basic.py:742: UserWarning: categorical_feature in param dict is overridden.\n",
      "  warnings.warn('categorical_feature in param dict is overridden.')\n"
     ]
    },
    {
     "name": "stdout",
     "output_type": "stream",
     "text": [
      "Training until validation scores don't improve for 200 rounds.\n",
      "[100]\ttraining's rmse: 1.64771\tvalid_1's rmse: 1.62801\n",
      "[200]\ttraining's rmse: 1.61225\tvalid_1's rmse: 1.59422\n",
      "[300]\ttraining's rmse: 1.59308\tvalid_1's rmse: 1.57694\n",
      "[400]\ttraining's rmse: 1.58109\tvalid_1's rmse: 1.56713\n",
      "[500]\ttraining's rmse: 1.57271\tvalid_1's rmse: 1.56085\n",
      "[600]\ttraining's rmse: 1.56622\tvalid_1's rmse: 1.55649\n",
      "[700]\ttraining's rmse: 1.56082\tvalid_1's rmse: 1.55316\n",
      "[800]\ttraining's rmse: 1.55623\tvalid_1's rmse: 1.55059\n",
      "[900]\ttraining's rmse: 1.55225\tvalid_1's rmse: 1.5487\n",
      "[1000]\ttraining's rmse: 1.54868\tvalid_1's rmse: 1.54722\n",
      "[1100]\ttraining's rmse: 1.54542\tvalid_1's rmse: 1.54605\n",
      "[1200]\ttraining's rmse: 1.5424\tvalid_1's rmse: 1.54516\n",
      "[1300]\ttraining's rmse: 1.5396\tvalid_1's rmse: 1.54441\n",
      "[1400]\ttraining's rmse: 1.53697\tvalid_1's rmse: 1.54382\n",
      "[1500]\ttraining's rmse: 1.53451\tvalid_1's rmse: 1.54333\n",
      "[1600]\ttraining's rmse: 1.53214\tvalid_1's rmse: 1.54293\n",
      "[1700]\ttraining's rmse: 1.52988\tvalid_1's rmse: 1.54262\n",
      "[1800]\ttraining's rmse: 1.52767\tvalid_1's rmse: 1.54237\n",
      "[1900]\ttraining's rmse: 1.52552\tvalid_1's rmse: 1.54213\n",
      "[2000]\ttraining's rmse: 1.52347\tvalid_1's rmse: 1.54189\n",
      "[2100]\ttraining's rmse: 1.52143\tvalid_1's rmse: 1.54167\n",
      "[2200]\ttraining's rmse: 1.51946\tvalid_1's rmse: 1.54152\n",
      "[2300]\ttraining's rmse: 1.5175\tvalid_1's rmse: 1.5414\n",
      "[2400]\ttraining's rmse: 1.51559\tvalid_1's rmse: 1.54123\n",
      "[2500]\ttraining's rmse: 1.51369\tvalid_1's rmse: 1.54108\n",
      "[2600]\ttraining's rmse: 1.51186\tvalid_1's rmse: 1.54098\n",
      "[2700]\ttraining's rmse: 1.50999\tvalid_1's rmse: 1.54087\n",
      "[2800]\ttraining's rmse: 1.50821\tvalid_1's rmse: 1.5408\n",
      "[2900]\ttraining's rmse: 1.50644\tvalid_1's rmse: 1.54074\n",
      "[3000]\ttraining's rmse: 1.50463\tvalid_1's rmse: 1.54066\n",
      "[3100]\ttraining's rmse: 1.50289\tvalid_1's rmse: 1.54056\n",
      "[3200]\ttraining's rmse: 1.50113\tvalid_1's rmse: 1.54048\n",
      "[3300]\ttraining's rmse: 1.4994\tvalid_1's rmse: 1.54035\n",
      "[3400]\ttraining's rmse: 1.49767\tvalid_1's rmse: 1.54031\n",
      "[3500]\ttraining's rmse: 1.496\tvalid_1's rmse: 1.54025\n",
      "[3600]\ttraining's rmse: 1.49427\tvalid_1's rmse: 1.5402\n",
      "[3700]\ttraining's rmse: 1.4926\tvalid_1's rmse: 1.54015\n",
      "[3800]\ttraining's rmse: 1.49094\tvalid_1's rmse: 1.54011\n",
      "[3900]\ttraining's rmse: 1.48933\tvalid_1's rmse: 1.54007\n",
      "[4000]\ttraining's rmse: 1.48768\tvalid_1's rmse: 1.54004\n",
      "[4100]\ttraining's rmse: 1.48603\tvalid_1's rmse: 1.53996\n",
      "[4200]\ttraining's rmse: 1.48445\tvalid_1's rmse: 1.53994\n",
      "[4300]\ttraining's rmse: 1.48285\tvalid_1's rmse: 1.53985\n",
      "[4400]\ttraining's rmse: 1.48123\tvalid_1's rmse: 1.53984\n",
      "[4500]\ttraining's rmse: 1.47959\tvalid_1's rmse: 1.5398\n",
      "[4600]\ttraining's rmse: 1.47796\tvalid_1's rmse: 1.53975\n",
      "[4700]\ttraining's rmse: 1.47641\tvalid_1's rmse: 1.53973\n",
      "[4800]\ttraining's rmse: 1.47481\tvalid_1's rmse: 1.5397\n",
      "[4900]\ttraining's rmse: 1.47323\tvalid_1's rmse: 1.53969\n",
      "[5000]\ttraining's rmse: 1.47165\tvalid_1's rmse: 1.53969\n",
      "[5100]\ttraining's rmse: 1.46998\tvalid_1's rmse: 1.53973\n",
      "Early stopping, best iteration is:\n",
      "[4974]\ttraining's rmse: 1.47207\tvalid_1's rmse: 1.53966\n",
      "fold n°3\n"
     ]
    },
    {
     "name": "stderr",
     "output_type": "stream",
     "text": [
      "C:\\Users\\doron\\Anaconda3\\envs\\tf-gpu\\lib\\site-packages\\lightgbm\\basic.py:1184: UserWarning: Using categorical_feature in Dataset.\n",
      "  warnings.warn('Using categorical_feature in Dataset.')\n",
      "C:\\Users\\doron\\Anaconda3\\envs\\tf-gpu\\lib\\site-packages\\lightgbm\\basic.py:742: UserWarning: categorical_feature in param dict is overridden.\n",
      "  warnings.warn('categorical_feature in param dict is overridden.')\n"
     ]
    },
    {
     "name": "stdout",
     "output_type": "stream",
     "text": [
      "Training until validation scores don't improve for 200 rounds.\n",
      "[100]\ttraining's rmse: 1.64295\tvalid_1's rmse: 1.64844\n",
      "[200]\ttraining's rmse: 1.60749\tvalid_1's rmse: 1.61475\n",
      "[300]\ttraining's rmse: 1.58821\tvalid_1's rmse: 1.59764\n",
      "[400]\ttraining's rmse: 1.57619\tvalid_1's rmse: 1.58763\n",
      "[500]\ttraining's rmse: 1.56778\tvalid_1's rmse: 1.58128\n",
      "[600]\ttraining's rmse: 1.56124\tvalid_1's rmse: 1.5768\n",
      "[700]\ttraining's rmse: 1.55579\tvalid_1's rmse: 1.57352\n",
      "[800]\ttraining's rmse: 1.55118\tvalid_1's rmse: 1.57111\n",
      "[900]\ttraining's rmse: 1.54717\tvalid_1's rmse: 1.56929\n",
      "[1000]\ttraining's rmse: 1.54354\tvalid_1's rmse: 1.56786\n",
      "[1100]\ttraining's rmse: 1.54032\tvalid_1's rmse: 1.56676\n",
      "[1200]\ttraining's rmse: 1.53739\tvalid_1's rmse: 1.56592\n",
      "[1300]\ttraining's rmse: 1.53462\tvalid_1's rmse: 1.56521\n",
      "[1400]\ttraining's rmse: 1.53204\tvalid_1's rmse: 1.56472\n",
      "[1500]\ttraining's rmse: 1.52952\tvalid_1's rmse: 1.56433\n",
      "[1600]\ttraining's rmse: 1.52717\tvalid_1's rmse: 1.56404\n",
      "[1700]\ttraining's rmse: 1.52493\tvalid_1's rmse: 1.56374\n",
      "[1800]\ttraining's rmse: 1.52272\tvalid_1's rmse: 1.5635\n",
      "[1900]\ttraining's rmse: 1.52061\tvalid_1's rmse: 1.56337\n",
      "[2000]\ttraining's rmse: 1.51854\tvalid_1's rmse: 1.56317\n",
      "[2100]\ttraining's rmse: 1.51652\tvalid_1's rmse: 1.56297\n",
      "[2200]\ttraining's rmse: 1.51458\tvalid_1's rmse: 1.56281\n",
      "[2300]\ttraining's rmse: 1.51264\tvalid_1's rmse: 1.56266\n",
      "[2400]\ttraining's rmse: 1.51073\tvalid_1's rmse: 1.56258\n",
      "[2500]\ttraining's rmse: 1.50884\tvalid_1's rmse: 1.56248\n",
      "[2600]\ttraining's rmse: 1.50697\tvalid_1's rmse: 1.56239\n",
      "[2700]\ttraining's rmse: 1.50517\tvalid_1's rmse: 1.56233\n",
      "[2800]\ttraining's rmse: 1.50336\tvalid_1's rmse: 1.56226\n",
      "[2900]\ttraining's rmse: 1.50156\tvalid_1's rmse: 1.56219\n",
      "[3000]\ttraining's rmse: 1.49978\tvalid_1's rmse: 1.56213\n",
      "[3100]\ttraining's rmse: 1.49804\tvalid_1's rmse: 1.56208\n",
      "[3200]\ttraining's rmse: 1.49629\tvalid_1's rmse: 1.56204\n",
      "[3300]\ttraining's rmse: 1.49459\tvalid_1's rmse: 1.56204\n",
      "[3400]\ttraining's rmse: 1.49291\tvalid_1's rmse: 1.56203\n",
      "[3500]\ttraining's rmse: 1.49122\tvalid_1's rmse: 1.56198\n",
      "[3600]\ttraining's rmse: 1.48951\tvalid_1's rmse: 1.56194\n",
      "[3700]\ttraining's rmse: 1.48785\tvalid_1's rmse: 1.56193\n",
      "[3800]\ttraining's rmse: 1.48621\tvalid_1's rmse: 1.56194\n",
      "Early stopping, best iteration is:\n",
      "[3620]\ttraining's rmse: 1.48917\tvalid_1's rmse: 1.56192\n",
      "fold n°4\n"
     ]
    },
    {
     "name": "stderr",
     "output_type": "stream",
     "text": [
      "C:\\Users\\doron\\Anaconda3\\envs\\tf-gpu\\lib\\site-packages\\lightgbm\\basic.py:1184: UserWarning: Using categorical_feature in Dataset.\n",
      "  warnings.warn('Using categorical_feature in Dataset.')\n",
      "C:\\Users\\doron\\Anaconda3\\envs\\tf-gpu\\lib\\site-packages\\lightgbm\\basic.py:742: UserWarning: categorical_feature in param dict is overridden.\n",
      "  warnings.warn('categorical_feature in param dict is overridden.')\n"
     ]
    },
    {
     "name": "stdout",
     "output_type": "stream",
     "text": [
      "Training until validation scores don't improve for 200 rounds.\n",
      "[100]\ttraining's rmse: 1.64181\tvalid_1's rmse: 1.65248\n",
      "[200]\ttraining's rmse: 1.60618\tvalid_1's rmse: 1.61867\n",
      "[300]\ttraining's rmse: 1.58703\tvalid_1's rmse: 1.6013\n",
      "[400]\ttraining's rmse: 1.57518\tvalid_1's rmse: 1.59126\n",
      "[500]\ttraining's rmse: 1.56679\tvalid_1's rmse: 1.58478\n",
      "[600]\ttraining's rmse: 1.56035\tvalid_1's rmse: 1.58039\n",
      "[700]\ttraining's rmse: 1.55493\tvalid_1's rmse: 1.57699\n",
      "[800]\ttraining's rmse: 1.55034\tvalid_1's rmse: 1.57452\n",
      "[900]\ttraining's rmse: 1.5463\tvalid_1's rmse: 1.57245\n",
      "[1000]\ttraining's rmse: 1.54269\tvalid_1's rmse: 1.57084\n",
      "[1100]\ttraining's rmse: 1.53945\tvalid_1's rmse: 1.56961\n",
      "[1200]\ttraining's rmse: 1.53651\tvalid_1's rmse: 1.56871\n",
      "[1300]\ttraining's rmse: 1.53369\tvalid_1's rmse: 1.568\n",
      "[1400]\ttraining's rmse: 1.53105\tvalid_1's rmse: 1.56744\n",
      "[1500]\ttraining's rmse: 1.52854\tvalid_1's rmse: 1.5669\n",
      "[1600]\ttraining's rmse: 1.52619\tvalid_1's rmse: 1.56654\n",
      "[1700]\ttraining's rmse: 1.52392\tvalid_1's rmse: 1.56619\n",
      "[1800]\ttraining's rmse: 1.52175\tvalid_1's rmse: 1.56593\n",
      "[1900]\ttraining's rmse: 1.51963\tvalid_1's rmse: 1.56569\n",
      "[2000]\ttraining's rmse: 1.51756\tvalid_1's rmse: 1.56547\n",
      "[2100]\ttraining's rmse: 1.51548\tvalid_1's rmse: 1.56529\n",
      "[2200]\ttraining's rmse: 1.51354\tvalid_1's rmse: 1.56513\n",
      "[2300]\ttraining's rmse: 1.5116\tvalid_1's rmse: 1.56499\n",
      "[2400]\ttraining's rmse: 1.50968\tvalid_1's rmse: 1.56488\n",
      "[2500]\ttraining's rmse: 1.50779\tvalid_1's rmse: 1.5648\n",
      "[2600]\ttraining's rmse: 1.50589\tvalid_1's rmse: 1.56473\n",
      "[2700]\ttraining's rmse: 1.50407\tvalid_1's rmse: 1.56462\n",
      "[2800]\ttraining's rmse: 1.50228\tvalid_1's rmse: 1.56456\n",
      "[2900]\ttraining's rmse: 1.50047\tvalid_1's rmse: 1.56444\n",
      "[3000]\ttraining's rmse: 1.49867\tvalid_1's rmse: 1.56435\n",
      "[3100]\ttraining's rmse: 1.49691\tvalid_1's rmse: 1.5643\n",
      "[3200]\ttraining's rmse: 1.4952\tvalid_1's rmse: 1.56424\n",
      "[3300]\ttraining's rmse: 1.49346\tvalid_1's rmse: 1.56417\n",
      "[3400]\ttraining's rmse: 1.49178\tvalid_1's rmse: 1.56409\n",
      "[3500]\ttraining's rmse: 1.49007\tvalid_1's rmse: 1.56406\n",
      "[3600]\ttraining's rmse: 1.4884\tvalid_1's rmse: 1.564\n",
      "[3700]\ttraining's rmse: 1.48673\tvalid_1's rmse: 1.56394\n",
      "[3800]\ttraining's rmse: 1.48512\tvalid_1's rmse: 1.5639\n",
      "[3900]\ttraining's rmse: 1.48342\tvalid_1's rmse: 1.56386\n",
      "[4000]\ttraining's rmse: 1.48183\tvalid_1's rmse: 1.56381\n",
      "[4100]\ttraining's rmse: 1.48017\tvalid_1's rmse: 1.56381\n",
      "[4200]\ttraining's rmse: 1.47855\tvalid_1's rmse: 1.5638\n",
      "[4300]\ttraining's rmse: 1.47692\tvalid_1's rmse: 1.56377\n",
      "[4400]\ttraining's rmse: 1.47528\tvalid_1's rmse: 1.56373\n",
      "[4500]\ttraining's rmse: 1.4737\tvalid_1's rmse: 1.56373\n",
      "[4600]\ttraining's rmse: 1.47206\tvalid_1's rmse: 1.56374\n",
      "Early stopping, best iteration is:\n",
      "[4481]\ttraining's rmse: 1.47401\tvalid_1's rmse: 1.56372\n",
      "CV score: 1.55872 \n"
     ]
    }
   ],
   "source": [
    "folds = KFold(n_splits=5, shuffle=True, random_state=15)\n",
    "oof = np.zeros(len(trainNoOut))\n",
    "predictions_noOut = np.zeros(len(test))\n",
    "start = time.time()\n",
    "feature_importance_df = pd.DataFrame()\n",
    "\n",
    "for fold_, (trn_idx, val_idx) in enumerate(folds.split(trainNoOut.values, targetNoOut.values)):\n",
    "    print(\"fold n°{}\".format(fold_))\n",
    "    trn_data = lgb.Dataset(trainNoOut.iloc[trn_idx][features], label=targetNoOut.iloc[trn_idx], categorical_feature=categorical_feats)\n",
    "    val_data = lgb.Dataset(trainNoOut.iloc[val_idx][features], label=targetNoOut.iloc[val_idx], categorical_feature=categorical_feats)\n",
    "\n",
    "    num_round = 10000\n",
    "    clf = lgb.train(param, trn_data, num_round, valid_sets = [trn_data, val_data], verbose_eval=100, early_stopping_rounds = 200)\n",
    "    oof[val_idx] = clf.predict(trainNoOut.iloc[val_idx][features], num_iteration=clf.best_iteration)\n",
    "    \n",
    "    fold_importance_df = pd.DataFrame()\n",
    "    fold_importance_df[\"feature\"] = features\n",
    "    fold_importance_df[\"importance\"] = clf.feature_importance()\n",
    "    fold_importance_df[\"fold\"] = fold_ + 1\n",
    "    feature_importance_df = pd.concat([feature_importance_df, fold_importance_df], axis=0)\n",
    "    \n",
    "    predictions_noOut += clf.predict(test[features], num_iteration=clf.best_iteration) / folds.n_splits\n",
    "\n",
    "print(\"CV score: {:<8.5f}\".format(mean_squared_error(oof, targetNoOut)**0.5))"
   ]
  },
  {
   "cell_type": "code",
   "execution_count": 45,
   "metadata": {},
   "outputs": [
    {
     "name": "stdout",
     "output_type": "stream",
     "text": [
      "fold n°0\n"
     ]
    },
    {
     "name": "stderr",
     "output_type": "stream",
     "text": [
      "C:\\Users\\doron\\Anaconda3\\envs\\tf-gpu\\lib\\site-packages\\lightgbm\\basic.py:1184: UserWarning: Using categorical_feature in Dataset.\n",
      "  warnings.warn('Using categorical_feature in Dataset.')\n",
      "C:\\Users\\doron\\Anaconda3\\envs\\tf-gpu\\lib\\site-packages\\lightgbm\\basic.py:742: UserWarning: categorical_feature in param dict is overridden.\n",
      "  warnings.warn('categorical_feature in param dict is overridden.')\n"
     ]
    },
    {
     "name": "stdout",
     "output_type": "stream",
     "text": [
      "Training until validation scores don't improve for 100 rounds.\n",
      "[100]\ttraining's rmse: 1.60706\tvalid_1's rmse: 1.61511\n",
      "[200]\ttraining's rmse: 1.57604\tvalid_1's rmse: 1.58825\n",
      "[300]\ttraining's rmse: 1.56114\tvalid_1's rmse: 1.57746\n",
      "[400]\ttraining's rmse: 1.55133\tvalid_1's rmse: 1.57189\n",
      "[500]\ttraining's rmse: 1.54375\tvalid_1's rmse: 1.56853\n",
      "[600]\ttraining's rmse: 1.53759\tvalid_1's rmse: 1.56635\n",
      "[700]\ttraining's rmse: 1.53216\tvalid_1's rmse: 1.56512\n",
      "[800]\ttraining's rmse: 1.52735\tvalid_1's rmse: 1.56433\n",
      "[900]\ttraining's rmse: 1.52279\tvalid_1's rmse: 1.56377\n",
      "[1000]\ttraining's rmse: 1.51868\tvalid_1's rmse: 1.56337\n",
      "[1100]\ttraining's rmse: 1.51476\tvalid_1's rmse: 1.56306\n",
      "[1200]\ttraining's rmse: 1.51096\tvalid_1's rmse: 1.56281\n",
      "[1300]\ttraining's rmse: 1.50716\tvalid_1's rmse: 1.56257\n",
      "[1400]\ttraining's rmse: 1.50351\tvalid_1's rmse: 1.56243\n",
      "[1500]\ttraining's rmse: 1.5\tvalid_1's rmse: 1.56223\n",
      "[1600]\ttraining's rmse: 1.4965\tvalid_1's rmse: 1.56212\n",
      "[1700]\ttraining's rmse: 1.49308\tvalid_1's rmse: 1.56205\n",
      "[1800]\ttraining's rmse: 1.48972\tvalid_1's rmse: 1.56188\n",
      "[1900]\ttraining's rmse: 1.48643\tvalid_1's rmse: 1.56191\n",
      "[2000]\ttraining's rmse: 1.48314\tvalid_1's rmse: 1.56183\n",
      "[2100]\ttraining's rmse: 1.47988\tvalid_1's rmse: 1.56173\n",
      "[2200]\ttraining's rmse: 1.47663\tvalid_1's rmse: 1.56164\n",
      "[2300]\ttraining's rmse: 1.47354\tvalid_1's rmse: 1.56162\n",
      "[2400]\ttraining's rmse: 1.47039\tvalid_1's rmse: 1.56159\n",
      "[2500]\ttraining's rmse: 1.46725\tvalid_1's rmse: 1.56155\n",
      "[2600]\ttraining's rmse: 1.46408\tvalid_1's rmse: 1.56157\n",
      "[2700]\ttraining's rmse: 1.46102\tvalid_1's rmse: 1.56146\n",
      "[2800]\ttraining's rmse: 1.45788\tvalid_1's rmse: 1.56146\n",
      "Early stopping, best iteration is:\n",
      "[2713]\ttraining's rmse: 1.46059\tvalid_1's rmse: 1.56143\n",
      "fold n°1\n"
     ]
    },
    {
     "name": "stderr",
     "output_type": "stream",
     "text": [
      "C:\\Users\\doron\\Anaconda3\\envs\\tf-gpu\\lib\\site-packages\\lightgbm\\basic.py:1184: UserWarning: Using categorical_feature in Dataset.\n",
      "  warnings.warn('Using categorical_feature in Dataset.')\n",
      "C:\\Users\\doron\\Anaconda3\\envs\\tf-gpu\\lib\\site-packages\\lightgbm\\basic.py:742: UserWarning: categorical_feature in param dict is overridden.\n",
      "  warnings.warn('categorical_feature in param dict is overridden.')\n"
     ]
    },
    {
     "name": "stdout",
     "output_type": "stream",
     "text": [
      "Training until validation scores don't improve for 100 rounds.\n",
      "[100]\ttraining's rmse: 1.61031\tvalid_1's rmse: 1.60134\n",
      "[200]\ttraining's rmse: 1.5794\tvalid_1's rmse: 1.57392\n",
      "[300]\ttraining's rmse: 1.56435\tvalid_1's rmse: 1.56296\n",
      "[400]\ttraining's rmse: 1.55432\tvalid_1's rmse: 1.55731\n",
      "[500]\ttraining's rmse: 1.54664\tvalid_1's rmse: 1.55412\n",
      "[600]\ttraining's rmse: 1.54031\tvalid_1's rmse: 1.55243\n",
      "[700]\ttraining's rmse: 1.53474\tvalid_1's rmse: 1.55147\n",
      "[800]\ttraining's rmse: 1.52986\tvalid_1's rmse: 1.55099\n",
      "[900]\ttraining's rmse: 1.52532\tvalid_1's rmse: 1.55061\n",
      "[1000]\ttraining's rmse: 1.52099\tvalid_1's rmse: 1.55041\n",
      "[1100]\ttraining's rmse: 1.51686\tvalid_1's rmse: 1.55013\n",
      "[1200]\ttraining's rmse: 1.51305\tvalid_1's rmse: 1.54993\n",
      "[1300]\ttraining's rmse: 1.5092\tvalid_1's rmse: 1.54981\n",
      "[1400]\ttraining's rmse: 1.50538\tvalid_1's rmse: 1.54978\n",
      "[1500]\ttraining's rmse: 1.50182\tvalid_1's rmse: 1.54964\n",
      "[1600]\ttraining's rmse: 1.49819\tvalid_1's rmse: 1.54961\n",
      "[1700]\ttraining's rmse: 1.49475\tvalid_1's rmse: 1.5495\n",
      "[1800]\ttraining's rmse: 1.49126\tvalid_1's rmse: 1.54947\n",
      "Early stopping, best iteration is:\n",
      "[1781]\ttraining's rmse: 1.49188\tvalid_1's rmse: 1.54945\n",
      "fold n°2\n"
     ]
    },
    {
     "name": "stderr",
     "output_type": "stream",
     "text": [
      "C:\\Users\\doron\\Anaconda3\\envs\\tf-gpu\\lib\\site-packages\\lightgbm\\basic.py:1184: UserWarning: Using categorical_feature in Dataset.\n",
      "  warnings.warn('Using categorical_feature in Dataset.')\n",
      "C:\\Users\\doron\\Anaconda3\\envs\\tf-gpu\\lib\\site-packages\\lightgbm\\basic.py:742: UserWarning: categorical_feature in param dict is overridden.\n",
      "  warnings.warn('categorical_feature in param dict is overridden.')\n"
     ]
    },
    {
     "name": "stdout",
     "output_type": "stream",
     "text": [
      "Training until validation scores don't improve for 100 rounds.\n",
      "[100]\ttraining's rmse: 1.60953\tvalid_1's rmse: 1.60553\n",
      "[200]\ttraining's rmse: 1.57835\tvalid_1's rmse: 1.57922\n",
      "[300]\ttraining's rmse: 1.56339\tvalid_1's rmse: 1.56881\n",
      "[400]\ttraining's rmse: 1.55344\tvalid_1's rmse: 1.56334\n",
      "[500]\ttraining's rmse: 1.5457\tvalid_1's rmse: 1.56009\n",
      "[600]\ttraining's rmse: 1.5394\tvalid_1's rmse: 1.55808\n",
      "[700]\ttraining's rmse: 1.53404\tvalid_1's rmse: 1.5568\n",
      "[800]\ttraining's rmse: 1.52913\tvalid_1's rmse: 1.55588\n",
      "[900]\ttraining's rmse: 1.52474\tvalid_1's rmse: 1.55512\n",
      "[1000]\ttraining's rmse: 1.52048\tvalid_1's rmse: 1.5547\n",
      "[1100]\ttraining's rmse: 1.51647\tvalid_1's rmse: 1.55447\n",
      "[1200]\ttraining's rmse: 1.51266\tvalid_1's rmse: 1.55417\n",
      "[1300]\ttraining's rmse: 1.50874\tvalid_1's rmse: 1.55393\n",
      "[1400]\ttraining's rmse: 1.50513\tvalid_1's rmse: 1.55368\n",
      "[1500]\ttraining's rmse: 1.50154\tvalid_1's rmse: 1.55355\n",
      "[1600]\ttraining's rmse: 1.4982\tvalid_1's rmse: 1.55337\n",
      "[1700]\ttraining's rmse: 1.49479\tvalid_1's rmse: 1.55328\n",
      "[1800]\ttraining's rmse: 1.4914\tvalid_1's rmse: 1.55315\n",
      "[1900]\ttraining's rmse: 1.48805\tvalid_1's rmse: 1.55307\n",
      "[2000]\ttraining's rmse: 1.48465\tvalid_1's rmse: 1.55294\n",
      "[2100]\ttraining's rmse: 1.48139\tvalid_1's rmse: 1.55285\n",
      "[2200]\ttraining's rmse: 1.47821\tvalid_1's rmse: 1.5528\n",
      "[2300]\ttraining's rmse: 1.47497\tvalid_1's rmse: 1.55266\n",
      "[2400]\ttraining's rmse: 1.47162\tvalid_1's rmse: 1.55259\n",
      "[2500]\ttraining's rmse: 1.46856\tvalid_1's rmse: 1.55255\n",
      "[2600]\ttraining's rmse: 1.46553\tvalid_1's rmse: 1.55251\n",
      "[2700]\ttraining's rmse: 1.46243\tvalid_1's rmse: 1.55247\n",
      "Early stopping, best iteration is:\n",
      "[2635]\ttraining's rmse: 1.46441\tvalid_1's rmse: 1.55244\n",
      "fold n°3\n"
     ]
    },
    {
     "name": "stderr",
     "output_type": "stream",
     "text": [
      "C:\\Users\\doron\\Anaconda3\\envs\\tf-gpu\\lib\\site-packages\\lightgbm\\basic.py:1184: UserWarning: Using categorical_feature in Dataset.\n",
      "  warnings.warn('Using categorical_feature in Dataset.')\n",
      "C:\\Users\\doron\\Anaconda3\\envs\\tf-gpu\\lib\\site-packages\\lightgbm\\basic.py:742: UserWarning: categorical_feature in param dict is overridden.\n",
      "  warnings.warn('categorical_feature in param dict is overridden.')\n"
     ]
    },
    {
     "name": "stdout",
     "output_type": "stream",
     "text": [
      "Training until validation scores don't improve for 100 rounds.\n",
      "[100]\ttraining's rmse: 1.60579\tvalid_1's rmse: 1.61853\n",
      "[200]\ttraining's rmse: 1.57429\tvalid_1's rmse: 1.59252\n",
      "[300]\ttraining's rmse: 1.55928\tvalid_1's rmse: 1.58251\n",
      "[400]\ttraining's rmse: 1.54931\tvalid_1's rmse: 1.57699\n",
      "[500]\ttraining's rmse: 1.54174\tvalid_1's rmse: 1.57377\n",
      "[600]\ttraining's rmse: 1.5354\tvalid_1's rmse: 1.57188\n",
      "[700]\ttraining's rmse: 1.52997\tvalid_1's rmse: 1.57078\n",
      "[800]\ttraining's rmse: 1.52502\tvalid_1's rmse: 1.57006\n",
      "[900]\ttraining's rmse: 1.52057\tvalid_1's rmse: 1.56953\n",
      "[1000]\ttraining's rmse: 1.51626\tvalid_1's rmse: 1.5691\n",
      "[1100]\ttraining's rmse: 1.51229\tvalid_1's rmse: 1.56883\n",
      "[1200]\ttraining's rmse: 1.50851\tvalid_1's rmse: 1.56863\n",
      "[1300]\ttraining's rmse: 1.50475\tvalid_1's rmse: 1.56842\n",
      "[1400]\ttraining's rmse: 1.50106\tvalid_1's rmse: 1.56816\n",
      "[1500]\ttraining's rmse: 1.49746\tvalid_1's rmse: 1.56804\n",
      "[1600]\ttraining's rmse: 1.4939\tvalid_1's rmse: 1.56793\n",
      "[1700]\ttraining's rmse: 1.4904\tvalid_1's rmse: 1.56781\n",
      "[1800]\ttraining's rmse: 1.48702\tvalid_1's rmse: 1.56768\n",
      "[1900]\ttraining's rmse: 1.48366\tvalid_1's rmse: 1.56762\n",
      "[2000]\ttraining's rmse: 1.48044\tvalid_1's rmse: 1.56758\n",
      "[2100]\ttraining's rmse: 1.4771\tvalid_1's rmse: 1.56752\n",
      "[2200]\ttraining's rmse: 1.47382\tvalid_1's rmse: 1.56746\n",
      "[2300]\ttraining's rmse: 1.47065\tvalid_1's rmse: 1.56726\n",
      "[2400]\ttraining's rmse: 1.46739\tvalid_1's rmse: 1.56725\n",
      "Early stopping, best iteration is:\n",
      "[2382]\ttraining's rmse: 1.46797\tvalid_1's rmse: 1.56722\n",
      "fold n°4\n"
     ]
    },
    {
     "name": "stderr",
     "output_type": "stream",
     "text": [
      "C:\\Users\\doron\\Anaconda3\\envs\\tf-gpu\\lib\\site-packages\\lightgbm\\basic.py:1184: UserWarning: Using categorical_feature in Dataset.\n",
      "  warnings.warn('Using categorical_feature in Dataset.')\n",
      "C:\\Users\\doron\\Anaconda3\\envs\\tf-gpu\\lib\\site-packages\\lightgbm\\basic.py:742: UserWarning: categorical_feature in param dict is overridden.\n",
      "  warnings.warn('categorical_feature in param dict is overridden.')\n"
     ]
    },
    {
     "name": "stdout",
     "output_type": "stream",
     "text": [
      "Training until validation scores don't improve for 100 rounds.\n",
      "[100]\ttraining's rmse: 1.60634\tvalid_1's rmse: 1.61974\n",
      "[200]\ttraining's rmse: 1.5755\tvalid_1's rmse: 1.59146\n",
      "[300]\ttraining's rmse: 1.56058\tvalid_1's rmse: 1.57976\n",
      "[400]\ttraining's rmse: 1.5507\tvalid_1's rmse: 1.5736\n",
      "[500]\ttraining's rmse: 1.54313\tvalid_1's rmse: 1.5699\n",
      "[600]\ttraining's rmse: 1.53681\tvalid_1's rmse: 1.56767\n",
      "[700]\ttraining's rmse: 1.53132\tvalid_1's rmse: 1.56625\n",
      "[800]\ttraining's rmse: 1.52633\tvalid_1's rmse: 1.56548\n",
      "[900]\ttraining's rmse: 1.52183\tvalid_1's rmse: 1.56487\n",
      "[1000]\ttraining's rmse: 1.51753\tvalid_1's rmse: 1.56444\n",
      "[1100]\ttraining's rmse: 1.51355\tvalid_1's rmse: 1.56416\n",
      "[1200]\ttraining's rmse: 1.50982\tvalid_1's rmse: 1.56401\n",
      "[1300]\ttraining's rmse: 1.50612\tvalid_1's rmse: 1.56379\n",
      "[1400]\ttraining's rmse: 1.50256\tvalid_1's rmse: 1.56365\n",
      "[1500]\ttraining's rmse: 1.499\tvalid_1's rmse: 1.56342\n",
      "[1600]\ttraining's rmse: 1.49553\tvalid_1's rmse: 1.56333\n",
      "[1700]\ttraining's rmse: 1.4921\tvalid_1's rmse: 1.56315\n",
      "[1800]\ttraining's rmse: 1.48875\tvalid_1's rmse: 1.56305\n",
      "[1900]\ttraining's rmse: 1.48544\tvalid_1's rmse: 1.56295\n",
      "[2000]\ttraining's rmse: 1.48207\tvalid_1's rmse: 1.56304\n",
      "Early stopping, best iteration is:\n",
      "[1900]\ttraining's rmse: 1.48544\tvalid_1's rmse: 1.56295\n",
      "fold n°5\n"
     ]
    },
    {
     "name": "stderr",
     "output_type": "stream",
     "text": [
      "C:\\Users\\doron\\Anaconda3\\envs\\tf-gpu\\lib\\site-packages\\lightgbm\\basic.py:1184: UserWarning: Using categorical_feature in Dataset.\n",
      "  warnings.warn('Using categorical_feature in Dataset.')\n",
      "C:\\Users\\doron\\Anaconda3\\envs\\tf-gpu\\lib\\site-packages\\lightgbm\\basic.py:742: UserWarning: categorical_feature in param dict is overridden.\n",
      "  warnings.warn('categorical_feature in param dict is overridden.')\n"
     ]
    },
    {
     "name": "stdout",
     "output_type": "stream",
     "text": [
      "Training until validation scores don't improve for 100 rounds.\n",
      "[100]\ttraining's rmse: 1.60619\tvalid_1's rmse: 1.61911\n",
      "[200]\ttraining's rmse: 1.57494\tvalid_1's rmse: 1.59237\n",
      "[300]\ttraining's rmse: 1.5598\tvalid_1's rmse: 1.58181\n",
      "[400]\ttraining's rmse: 1.54984\tvalid_1's rmse: 1.57645\n",
      "[500]\ttraining's rmse: 1.54218\tvalid_1's rmse: 1.57329\n",
      "[600]\ttraining's rmse: 1.53592\tvalid_1's rmse: 1.57123\n",
      "[700]\ttraining's rmse: 1.53048\tvalid_1's rmse: 1.57009\n",
      "[800]\ttraining's rmse: 1.52566\tvalid_1's rmse: 1.56932\n",
      "[900]\ttraining's rmse: 1.52129\tvalid_1's rmse: 1.56885\n",
      "[1000]\ttraining's rmse: 1.51712\tvalid_1's rmse: 1.56838\n",
      "[1100]\ttraining's rmse: 1.5132\tvalid_1's rmse: 1.56793\n",
      "[1200]\ttraining's rmse: 1.50932\tvalid_1's rmse: 1.56764\n",
      "[1300]\ttraining's rmse: 1.50557\tvalid_1's rmse: 1.56735\n",
      "[1400]\ttraining's rmse: 1.50199\tvalid_1's rmse: 1.56713\n",
      "[1500]\ttraining's rmse: 1.49849\tvalid_1's rmse: 1.56706\n",
      "[1600]\ttraining's rmse: 1.49501\tvalid_1's rmse: 1.56679\n",
      "[1700]\ttraining's rmse: 1.49154\tvalid_1's rmse: 1.56665\n",
      "[1800]\ttraining's rmse: 1.48813\tvalid_1's rmse: 1.56651\n",
      "[1900]\ttraining's rmse: 1.48464\tvalid_1's rmse: 1.56638\n",
      "[2000]\ttraining's rmse: 1.48148\tvalid_1's rmse: 1.56632\n",
      "[2100]\ttraining's rmse: 1.47814\tvalid_1's rmse: 1.56624\n",
      "[2200]\ttraining's rmse: 1.47493\tvalid_1's rmse: 1.56617\n",
      "[2300]\ttraining's rmse: 1.47186\tvalid_1's rmse: 1.56612\n",
      "[2400]\ttraining's rmse: 1.46866\tvalid_1's rmse: 1.56608\n",
      "[2500]\ttraining's rmse: 1.46544\tvalid_1's rmse: 1.56602\n",
      "[2600]\ttraining's rmse: 1.46239\tvalid_1's rmse: 1.56596\n",
      "[2700]\ttraining's rmse: 1.45926\tvalid_1's rmse: 1.56591\n",
      "Early stopping, best iteration is:\n",
      "[2657]\ttraining's rmse: 1.46064\tvalid_1's rmse: 1.56587\n",
      "fold n°6\n"
     ]
    },
    {
     "name": "stderr",
     "output_type": "stream",
     "text": [
      "C:\\Users\\doron\\Anaconda3\\envs\\tf-gpu\\lib\\site-packages\\lightgbm\\basic.py:1184: UserWarning: Using categorical_feature in Dataset.\n",
      "  warnings.warn('Using categorical_feature in Dataset.')\n",
      "C:\\Users\\doron\\Anaconda3\\envs\\tf-gpu\\lib\\site-packages\\lightgbm\\basic.py:742: UserWarning: categorical_feature in param dict is overridden.\n",
      "  warnings.warn('categorical_feature in param dict is overridden.')\n"
     ]
    },
    {
     "name": "stdout",
     "output_type": "stream",
     "text": [
      "Training until validation scores don't improve for 100 rounds.\n",
      "[100]\ttraining's rmse: 1.60905\tvalid_1's rmse: 1.60582\n",
      "[200]\ttraining's rmse: 1.57794\tvalid_1's rmse: 1.57976\n",
      "[300]\ttraining's rmse: 1.56305\tvalid_1's rmse: 1.56897\n",
      "[400]\ttraining's rmse: 1.55306\tvalid_1's rmse: 1.56308\n",
      "[500]\ttraining's rmse: 1.54548\tvalid_1's rmse: 1.55958\n",
      "[600]\ttraining's rmse: 1.53914\tvalid_1's rmse: 1.55734\n",
      "[700]\ttraining's rmse: 1.53366\tvalid_1's rmse: 1.556\n",
      "[800]\ttraining's rmse: 1.5287\tvalid_1's rmse: 1.55518\n",
      "[900]\ttraining's rmse: 1.52418\tvalid_1's rmse: 1.55458\n",
      "[1000]\ttraining's rmse: 1.51989\tvalid_1's rmse: 1.55421\n",
      "[1100]\ttraining's rmse: 1.51581\tvalid_1's rmse: 1.5539\n",
      "[1200]\ttraining's rmse: 1.51199\tvalid_1's rmse: 1.55382\n",
      "[1300]\ttraining's rmse: 1.50815\tvalid_1's rmse: 1.55364\n",
      "[1400]\ttraining's rmse: 1.50443\tvalid_1's rmse: 1.55346\n",
      "[1500]\ttraining's rmse: 1.50083\tvalid_1's rmse: 1.55335\n",
      "[1600]\ttraining's rmse: 1.49736\tvalid_1's rmse: 1.55325\n",
      "[1700]\ttraining's rmse: 1.49391\tvalid_1's rmse: 1.55321\n",
      "[1800]\ttraining's rmse: 1.49037\tvalid_1's rmse: 1.55324\n",
      "Early stopping, best iteration is:\n",
      "[1721]\ttraining's rmse: 1.49315\tvalid_1's rmse: 1.55319\n",
      "fold n°7\n"
     ]
    },
    {
     "name": "stderr",
     "output_type": "stream",
     "text": [
      "C:\\Users\\doron\\Anaconda3\\envs\\tf-gpu\\lib\\site-packages\\lightgbm\\basic.py:1184: UserWarning: Using categorical_feature in Dataset.\n",
      "  warnings.warn('Using categorical_feature in Dataset.')\n",
      "C:\\Users\\doron\\Anaconda3\\envs\\tf-gpu\\lib\\site-packages\\lightgbm\\basic.py:742: UserWarning: categorical_feature in param dict is overridden.\n",
      "  warnings.warn('categorical_feature in param dict is overridden.')\n"
     ]
    },
    {
     "name": "stdout",
     "output_type": "stream",
     "text": [
      "Training until validation scores don't improve for 100 rounds.\n",
      "[100]\ttraining's rmse: 1.61006\tvalid_1's rmse: 1.60302\n",
      "[200]\ttraining's rmse: 1.57895\tvalid_1's rmse: 1.57595\n",
      "[300]\ttraining's rmse: 1.56379\tvalid_1's rmse: 1.5651\n",
      "[400]\ttraining's rmse: 1.55384\tvalid_1's rmse: 1.55961\n",
      "[500]\ttraining's rmse: 1.54623\tvalid_1's rmse: 1.55645\n",
      "[600]\ttraining's rmse: 1.53995\tvalid_1's rmse: 1.55451\n",
      "[700]\ttraining's rmse: 1.53446\tvalid_1's rmse: 1.55339\n",
      "[800]\ttraining's rmse: 1.5296\tvalid_1's rmse: 1.55272\n",
      "[900]\ttraining's rmse: 1.52513\tvalid_1's rmse: 1.55235\n",
      "[1000]\ttraining's rmse: 1.52094\tvalid_1's rmse: 1.55205\n",
      "[1100]\ttraining's rmse: 1.51697\tvalid_1's rmse: 1.55188\n",
      "[1200]\ttraining's rmse: 1.513\tvalid_1's rmse: 1.55155\n",
      "[1300]\ttraining's rmse: 1.50936\tvalid_1's rmse: 1.55136\n",
      "[1400]\ttraining's rmse: 1.50561\tvalid_1's rmse: 1.55121\n",
      "[1500]\ttraining's rmse: 1.50222\tvalid_1's rmse: 1.5512\n",
      "[1600]\ttraining's rmse: 1.49867\tvalid_1's rmse: 1.55102\n",
      "[1700]\ttraining's rmse: 1.49525\tvalid_1's rmse: 1.55094\n",
      "Early stopping, best iteration is:\n",
      "[1695]\ttraining's rmse: 1.4954\tvalid_1's rmse: 1.55094\n",
      "fold n°8\n"
     ]
    },
    {
     "name": "stderr",
     "output_type": "stream",
     "text": [
      "C:\\Users\\doron\\Anaconda3\\envs\\tf-gpu\\lib\\site-packages\\lightgbm\\basic.py:1184: UserWarning: Using categorical_feature in Dataset.\n",
      "  warnings.warn('Using categorical_feature in Dataset.')\n",
      "C:\\Users\\doron\\Anaconda3\\envs\\tf-gpu\\lib\\site-packages\\lightgbm\\basic.py:742: UserWarning: categorical_feature in param dict is overridden.\n",
      "  warnings.warn('categorical_feature in param dict is overridden.')\n"
     ]
    },
    {
     "name": "stdout",
     "output_type": "stream",
     "text": [
      "Training until validation scores don't improve for 100 rounds.\n",
      "[100]\ttraining's rmse: 1.60423\tvalid_1's rmse: 1.62663\n",
      "[200]\ttraining's rmse: 1.57334\tvalid_1's rmse: 1.59911\n",
      "[300]\ttraining's rmse: 1.55852\tvalid_1's rmse: 1.58802\n",
      "[400]\ttraining's rmse: 1.54864\tvalid_1's rmse: 1.58206\n",
      "[500]\ttraining's rmse: 1.54117\tvalid_1's rmse: 1.57862\n",
      "[600]\ttraining's rmse: 1.53491\tvalid_1's rmse: 1.57639\n",
      "[700]\ttraining's rmse: 1.52952\tvalid_1's rmse: 1.57504\n",
      "[800]\ttraining's rmse: 1.52471\tvalid_1's rmse: 1.57416\n",
      "[900]\ttraining's rmse: 1.52027\tvalid_1's rmse: 1.57341\n",
      "[1000]\ttraining's rmse: 1.51613\tvalid_1's rmse: 1.57297\n",
      "[1100]\ttraining's rmse: 1.51214\tvalid_1's rmse: 1.57266\n",
      "[1200]\ttraining's rmse: 1.50824\tvalid_1's rmse: 1.57228\n",
      "[1300]\ttraining's rmse: 1.50458\tvalid_1's rmse: 1.57202\n",
      "[1400]\ttraining's rmse: 1.50102\tvalid_1's rmse: 1.57185\n",
      "[1500]\ttraining's rmse: 1.49742\tvalid_1's rmse: 1.57165\n",
      "[1600]\ttraining's rmse: 1.49393\tvalid_1's rmse: 1.57158\n",
      "[1700]\ttraining's rmse: 1.49052\tvalid_1's rmse: 1.57148\n",
      "[1800]\ttraining's rmse: 1.48709\tvalid_1's rmse: 1.57141\n",
      "Early stopping, best iteration is:\n",
      "[1783]\ttraining's rmse: 1.48767\tvalid_1's rmse: 1.57138\n",
      "fold n°9\n"
     ]
    },
    {
     "name": "stderr",
     "output_type": "stream",
     "text": [
      "C:\\Users\\doron\\Anaconda3\\envs\\tf-gpu\\lib\\site-packages\\lightgbm\\basic.py:1184: UserWarning: Using categorical_feature in Dataset.\n",
      "  warnings.warn('Using categorical_feature in Dataset.')\n",
      "C:\\Users\\doron\\Anaconda3\\envs\\tf-gpu\\lib\\site-packages\\lightgbm\\basic.py:742: UserWarning: categorical_feature in param dict is overridden.\n",
      "  warnings.warn('categorical_feature in param dict is overridden.')\n"
     ]
    },
    {
     "name": "stdout",
     "output_type": "stream",
     "text": [
      "Training until validation scores don't improve for 100 rounds.\n",
      "[100]\ttraining's rmse: 1.60948\tvalid_1's rmse: 1.606\n",
      "[200]\ttraining's rmse: 1.5786\tvalid_1's rmse: 1.57892\n",
      "[300]\ttraining's rmse: 1.56365\tvalid_1's rmse: 1.56796\n",
      "[400]\ttraining's rmse: 1.55363\tvalid_1's rmse: 1.56195\n",
      "[500]\ttraining's rmse: 1.54596\tvalid_1's rmse: 1.55853\n",
      "[600]\ttraining's rmse: 1.53971\tvalid_1's rmse: 1.55647\n",
      "[700]\ttraining's rmse: 1.53416\tvalid_1's rmse: 1.55505\n",
      "[800]\ttraining's rmse: 1.52919\tvalid_1's rmse: 1.55426\n",
      "[900]\ttraining's rmse: 1.52465\tvalid_1's rmse: 1.55347\n",
      "[1000]\ttraining's rmse: 1.52039\tvalid_1's rmse: 1.55299\n",
      "[1100]\ttraining's rmse: 1.51637\tvalid_1's rmse: 1.55268\n",
      "[1200]\ttraining's rmse: 1.51257\tvalid_1's rmse: 1.55245\n",
      "[1300]\ttraining's rmse: 1.50884\tvalid_1's rmse: 1.55227\n",
      "[1400]\ttraining's rmse: 1.50521\tvalid_1's rmse: 1.55209\n",
      "[1500]\ttraining's rmse: 1.50165\tvalid_1's rmse: 1.55185\n",
      "[1600]\ttraining's rmse: 1.4981\tvalid_1's rmse: 1.55169\n",
      "[1700]\ttraining's rmse: 1.49465\tvalid_1's rmse: 1.55157\n",
      "[1800]\ttraining's rmse: 1.49116\tvalid_1's rmse: 1.55145\n",
      "[1900]\ttraining's rmse: 1.48789\tvalid_1's rmse: 1.5514\n",
      "[2000]\ttraining's rmse: 1.48469\tvalid_1's rmse: 1.5514\n",
      "Early stopping, best iteration is:\n",
      "[1948]\ttraining's rmse: 1.48632\tvalid_1's rmse: 1.55137\n",
      "CV score: 1.55857 \n"
     ]
    }
   ],
   "source": [
    "from sklearn.model_selection import RepeatedKFold\n",
    "folds = RepeatedKFold(n_splits=5, n_repeats=2, random_state=4520)\n",
    "\n",
    "oof_lgb = np.zeros(len(trainNoOut))\n",
    "predictions_lgb_noOut = np.zeros(len(test))\n",
    "start = time.time()\n",
    "feature_importance_df = pd.DataFrame()\n",
    "\n",
    "for fold_, (trn_idx, val_idx) in enumerate(folds.split(trainNoOut.values, targetNoOut.values)):\n",
    "    print(\"fold n°{}\".format(fold_))\n",
    "    trn_data = lgb.Dataset(trainNoOut.iloc[trn_idx][features], label=targetNoOut.iloc[trn_idx], categorical_feature=categorical_feats)\n",
    "    val_data = lgb.Dataset(trainNoOut.iloc[val_idx][features], label=targetNoOut.iloc[val_idx], categorical_feature=categorical_feats)\n",
    "\n",
    "    num_round = 11000\n",
    "    clf = lgb.train(lgbparam, trn_data, num_round, valid_sets = [trn_data, val_data], verbose_eval=100, early_stopping_rounds = 100)\n",
    "    oof_lgb[val_idx] = clf.predict(trainNoOut.iloc[val_idx][features], num_iteration=clf.best_iteration)\n",
    "    \n",
    "    fold_importance_df = pd.DataFrame()\n",
    "    fold_importance_df[\"feature\"] = features\n",
    "    fold_importance_df[\"importance\"] = clf.feature_importance()\n",
    "    fold_importance_df[\"fold\"] = fold_ + 1\n",
    "    feature_importance_df = pd.concat([feature_importance_df, fold_importance_df], axis=0)\n",
    "    \n",
    "    predictions_lgb_noOut += clf.predict(test[features], num_iteration=clf.best_iteration) / (5 * 2)\n",
    "\n",
    "print(\"CV score: {:<8.5f}\".format(mean_squared_error(oof_lgb, targetNoOut)**0.5))"
   ]
  },
  {
   "cell_type": "code",
   "execution_count": 46,
   "metadata": {},
   "outputs": [],
   "source": [
    "#without oוtliers\n",
    "sample_submission = pd.read_csv('./all/sample_submission.csv')\n",
    "sample_submission['target'] = predictions_noOut * 0.5 + predictions_lgb_noOut * 0.5\n",
    "sample_submission.to_csv('./Submissions/SubBlendLGBNoOutliers.csv', index=False)"
   ]
  },
  {
   "cell_type": "markdown",
   "metadata": {},
   "source": [
    "## 3. Model Trained to find outlier probability"
   ]
  },
  {
   "cell_type": "markdown",
   "metadata": {},
   "source": [
    "Now we will make the field 'Outliers' in our training set , which indicates if that card's loyality is part of the outlier, our target in order to predict and find the most likely users to have be in the outlier group."
   ]
  },
  {
   "cell_type": "code",
   "execution_count": 47,
   "metadata": {},
   "outputs": [],
   "source": [
    "targetForLiers = train['Outliers']"
   ]
  },
  {
   "cell_type": "code",
   "execution_count": 51,
   "metadata": {},
   "outputs": [
    {
     "data": {
      "text/plain": [
       "25"
      ]
     },
     "execution_count": 51,
     "metadata": {},
     "output_type": "execute_result"
    }
   ],
   "source": [
    "trainForLiers = train\n",
    "\n",
    "del trainForLiers['target']\n",
    "del trainForLiers['outliers']\n",
    "gc.collect()"
   ]
  },
  {
   "cell_type": "markdown",
   "metadata": {},
   "source": [
    "Changing the model to have binary classification instead of regression here helped get a bit better results"
   ]
  },
  {
   "cell_type": "code",
   "execution_count": 95,
   "metadata": {},
   "outputs": [],
   "source": [
    "lgbparam = {'num_leaves': 31,\n",
    "            'boosting_type': 'rf',\n",
    "             'min_data_in_leaf': 30, \n",
    "             'objective':'binary',\n",
    "             'max_depth': -1,\n",
    "             'learning_rate': 0.01,\n",
    "             \"min_child_samples\": 20,\n",
    "             \"boosting\": \"gbdt\",\n",
    "             \"feature_fraction\": 0.9,\n",
    "             \"bagging_freq\": 1,\n",
    "             \"bagging_fraction\": 0.9 ,\n",
    "             \"bagging_seed\": 11,\n",
    "             \"metric\": 'binary_logloss',\n",
    "             \"lambda_l1\": 0.1,\n",
    "             \"verbosity\": -1,\n",
    "             \"nthread\": 4,\n",
    "             \"random_state\": 4590}"
   ]
  },
  {
   "cell_type": "code",
   "execution_count": 96,
   "metadata": {
    "scrolled": true
   },
   "outputs": [
    {
     "name": "stdout",
     "output_type": "stream",
     "text": [
      "fold n°0\n"
     ]
    },
    {
     "name": "stderr",
     "output_type": "stream",
     "text": [
      "C:\\Users\\doron\\Anaconda3\\envs\\tf-gpu\\lib\\site-packages\\lightgbm\\basic.py:1184: UserWarning: Using categorical_feature in Dataset.\n",
      "  warnings.warn('Using categorical_feature in Dataset.')\n",
      "C:\\Users\\doron\\Anaconda3\\envs\\tf-gpu\\lib\\site-packages\\lightgbm\\basic.py:742: UserWarning: categorical_feature in param dict is overridden.\n",
      "  warnings.warn('categorical_feature in param dict is overridden.')\n"
     ]
    },
    {
     "name": "stdout",
     "output_type": "stream",
     "text": [
      "Training until validation scores don't improve for 200 rounds.\n",
      "[100]\ttraining's binary_logloss: 0.0424821\tvalid_1's binary_logloss: 0.0479749\n",
      "[200]\ttraining's binary_logloss: 0.0378429\tvalid_1's binary_logloss: 0.0461637\n",
      "[300]\ttraining's binary_logloss: 0.034752\tvalid_1's binary_logloss: 0.0456391\n",
      "[400]\ttraining's binary_logloss: 0.0324905\tvalid_1's binary_logloss: 0.0454791\n",
      "[500]\ttraining's binary_logloss: 0.03063\tvalid_1's binary_logloss: 0.0454201\n",
      "[600]\ttraining's binary_logloss: 0.0290059\tvalid_1's binary_logloss: 0.045451\n",
      "Early stopping, best iteration is:\n",
      "[495]\ttraining's binary_logloss: 0.0307112\tvalid_1's binary_logloss: 0.0454156\n",
      "fold n°1\n"
     ]
    },
    {
     "name": "stderr",
     "output_type": "stream",
     "text": [
      "C:\\Users\\doron\\Anaconda3\\envs\\tf-gpu\\lib\\site-packages\\lightgbm\\basic.py:1184: UserWarning: Using categorical_feature in Dataset.\n",
      "  warnings.warn('Using categorical_feature in Dataset.')\n",
      "C:\\Users\\doron\\Anaconda3\\envs\\tf-gpu\\lib\\site-packages\\lightgbm\\basic.py:742: UserWarning: categorical_feature in param dict is overridden.\n",
      "  warnings.warn('categorical_feature in param dict is overridden.')\n"
     ]
    },
    {
     "name": "stdout",
     "output_type": "stream",
     "text": [
      "Training until validation scores don't improve for 200 rounds.\n",
      "[100]\ttraining's binary_logloss: 0.0436428\tvalid_1's binary_logloss: 0.0436241\n",
      "[200]\ttraining's binary_logloss: 0.0390016\tvalid_1's binary_logloss: 0.0415761\n",
      "[300]\ttraining's binary_logloss: 0.0358959\tvalid_1's binary_logloss: 0.0410006\n",
      "[400]\ttraining's binary_logloss: 0.0336475\tvalid_1's binary_logloss: 0.0408107\n",
      "[500]\ttraining's binary_logloss: 0.0317426\tvalid_1's binary_logloss: 0.0407303\n",
      "[600]\ttraining's binary_logloss: 0.0300621\tvalid_1's binary_logloss: 0.0406768\n",
      "[700]\ttraining's binary_logloss: 0.0285878\tvalid_1's binary_logloss: 0.0406412\n",
      "[800]\ttraining's binary_logloss: 0.0271989\tvalid_1's binary_logloss: 0.0406256\n",
      "[900]\ttraining's binary_logloss: 0.0259472\tvalid_1's binary_logloss: 0.0405993\n",
      "[1000]\ttraining's binary_logloss: 0.0247988\tvalid_1's binary_logloss: 0.0406071\n",
      "[1100]\ttraining's binary_logloss: 0.0237207\tvalid_1's binary_logloss: 0.0406417\n",
      "Early stopping, best iteration is:\n",
      "[906]\ttraining's binary_logloss: 0.0258804\tvalid_1's binary_logloss: 0.0405968\n",
      "fold n°2\n"
     ]
    },
    {
     "name": "stderr",
     "output_type": "stream",
     "text": [
      "C:\\Users\\doron\\Anaconda3\\envs\\tf-gpu\\lib\\site-packages\\lightgbm\\basic.py:1184: UserWarning: Using categorical_feature in Dataset.\n",
      "  warnings.warn('Using categorical_feature in Dataset.')\n",
      "C:\\Users\\doron\\Anaconda3\\envs\\tf-gpu\\lib\\site-packages\\lightgbm\\basic.py:742: UserWarning: categorical_feature in param dict is overridden.\n",
      "  warnings.warn('categorical_feature in param dict is overridden.')\n"
     ]
    },
    {
     "name": "stdout",
     "output_type": "stream",
     "text": [
      "Training until validation scores don't improve for 200 rounds.\n",
      "[100]\ttraining's binary_logloss: 0.041342\tvalid_1's binary_logloss: 0.052091\n",
      "[200]\ttraining's binary_logloss: 0.0367008\tvalid_1's binary_logloss: 0.0502897\n",
      "[300]\ttraining's binary_logloss: 0.0337124\tvalid_1's binary_logloss: 0.0499457\n",
      "[400]\ttraining's binary_logloss: 0.0314732\tvalid_1's binary_logloss: 0.0498969\n",
      "[500]\ttraining's binary_logloss: 0.0296158\tvalid_1's binary_logloss: 0.0499448\n",
      "Early stopping, best iteration is:\n",
      "[377]\ttraining's binary_logloss: 0.0319642\tvalid_1's binary_logloss: 0.0498937\n",
      "fold n°3\n"
     ]
    },
    {
     "name": "stderr",
     "output_type": "stream",
     "text": [
      "C:\\Users\\doron\\Anaconda3\\envs\\tf-gpu\\lib\\site-packages\\lightgbm\\basic.py:1184: UserWarning: Using categorical_feature in Dataset.\n",
      "  warnings.warn('Using categorical_feature in Dataset.')\n",
      "C:\\Users\\doron\\Anaconda3\\envs\\tf-gpu\\lib\\site-packages\\lightgbm\\basic.py:742: UserWarning: categorical_feature in param dict is overridden.\n",
      "  warnings.warn('categorical_feature in param dict is overridden.')\n"
     ]
    },
    {
     "name": "stdout",
     "output_type": "stream",
     "text": [
      "Training until validation scores don't improve for 200 rounds.\n",
      "[100]\ttraining's binary_logloss: 0.0426558\tvalid_1's binary_logloss: 0.0472586\n",
      "[200]\ttraining's binary_logloss: 0.0380511\tvalid_1's binary_logloss: 0.0455075\n",
      "[300]\ttraining's binary_logloss: 0.0349385\tvalid_1's binary_logloss: 0.045049\n",
      "[400]\ttraining's binary_logloss: 0.0326316\tvalid_1's binary_logloss: 0.0449182\n",
      "[500]\ttraining's binary_logloss: 0.0307159\tvalid_1's binary_logloss: 0.0448648\n",
      "[600]\ttraining's binary_logloss: 0.0290783\tvalid_1's binary_logloss: 0.0448516\n",
      "[700]\ttraining's binary_logloss: 0.0275898\tvalid_1's binary_logloss: 0.0448257\n",
      "[800]\ttraining's binary_logloss: 0.0262513\tvalid_1's binary_logloss: 0.0448392\n",
      "[900]\ttraining's binary_logloss: 0.0250018\tvalid_1's binary_logloss: 0.0448778\n",
      "Early stopping, best iteration is:\n",
      "[730]\ttraining's binary_logloss: 0.0271804\tvalid_1's binary_logloss: 0.0448206\n",
      "fold n°4\n"
     ]
    },
    {
     "name": "stderr",
     "output_type": "stream",
     "text": [
      "C:\\Users\\doron\\Anaconda3\\envs\\tf-gpu\\lib\\site-packages\\lightgbm\\basic.py:1184: UserWarning: Using categorical_feature in Dataset.\n",
      "  warnings.warn('Using categorical_feature in Dataset.')\n",
      "C:\\Users\\doron\\Anaconda3\\envs\\tf-gpu\\lib\\site-packages\\lightgbm\\basic.py:742: UserWarning: categorical_feature in param dict is overridden.\n",
      "  warnings.warn('categorical_feature in param dict is overridden.')\n"
     ]
    },
    {
     "name": "stdout",
     "output_type": "stream",
     "text": [
      "Training until validation scores don't improve for 200 rounds.\n",
      "[100]\ttraining's binary_logloss: 0.0429907\tvalid_1's binary_logloss: 0.0460504\n",
      "[200]\ttraining's binary_logloss: 0.0383954\tvalid_1's binary_logloss: 0.0440095\n",
      "[300]\ttraining's binary_logloss: 0.0352639\tvalid_1's binary_logloss: 0.0434014\n",
      "[400]\ttraining's binary_logloss: 0.0329523\tvalid_1's binary_logloss: 0.0431781\n",
      "[500]\ttraining's binary_logloss: 0.0310227\tvalid_1's binary_logloss: 0.0430659\n",
      "[600]\ttraining's binary_logloss: 0.0293121\tvalid_1's binary_logloss: 0.0430377\n",
      "[700]\ttraining's binary_logloss: 0.0278048\tvalid_1's binary_logloss: 0.0430165\n",
      "[800]\ttraining's binary_logloss: 0.0264475\tvalid_1's binary_logloss: 0.0430182\n",
      "[900]\ttraining's binary_logloss: 0.0252077\tvalid_1's binary_logloss: 0.043028\n",
      "Early stopping, best iteration is:\n",
      "[724]\ttraining's binary_logloss: 0.0274818\tvalid_1's binary_logloss: 0.0430029\n",
      "fold n°5\n"
     ]
    },
    {
     "name": "stderr",
     "output_type": "stream",
     "text": [
      "C:\\Users\\doron\\Anaconda3\\envs\\tf-gpu\\lib\\site-packages\\lightgbm\\basic.py:1184: UserWarning: Using categorical_feature in Dataset.\n",
      "  warnings.warn('Using categorical_feature in Dataset.')\n",
      "C:\\Users\\doron\\Anaconda3\\envs\\tf-gpu\\lib\\site-packages\\lightgbm\\basic.py:742: UserWarning: categorical_feature in param dict is overridden.\n",
      "  warnings.warn('categorical_feature in param dict is overridden.')\n"
     ]
    },
    {
     "name": "stdout",
     "output_type": "stream",
     "text": [
      "Training until validation scores don't improve for 200 rounds.\n",
      "[100]\ttraining's binary_logloss: 0.0421606\tvalid_1's binary_logloss: 0.0491726\n",
      "[200]\ttraining's binary_logloss: 0.0375548\tvalid_1's binary_logloss: 0.0474109\n",
      "[300]\ttraining's binary_logloss: 0.0344269\tvalid_1's binary_logloss: 0.0468382\n",
      "[400]\ttraining's binary_logloss: 0.0321494\tvalid_1's binary_logloss: 0.0466507\n",
      "[500]\ttraining's binary_logloss: 0.0302946\tvalid_1's binary_logloss: 0.0466187\n",
      "[600]\ttraining's binary_logloss: 0.0286718\tvalid_1's binary_logloss: 0.0466208\n",
      "[700]\ttraining's binary_logloss: 0.0271895\tvalid_1's binary_logloss: 0.0466351\n",
      "Early stopping, best iteration is:\n",
      "[561]\ttraining's binary_logloss: 0.0292805\tvalid_1's binary_logloss: 0.0466116\n",
      "fold n°6\n"
     ]
    },
    {
     "name": "stderr",
     "output_type": "stream",
     "text": [
      "C:\\Users\\doron\\Anaconda3\\envs\\tf-gpu\\lib\\site-packages\\lightgbm\\basic.py:1184: UserWarning: Using categorical_feature in Dataset.\n",
      "  warnings.warn('Using categorical_feature in Dataset.')\n",
      "C:\\Users\\doron\\Anaconda3\\envs\\tf-gpu\\lib\\site-packages\\lightgbm\\basic.py:742: UserWarning: categorical_feature in param dict is overridden.\n",
      "  warnings.warn('categorical_feature in param dict is overridden.')\n"
     ]
    },
    {
     "name": "stdout",
     "output_type": "stream",
     "text": [
      "Training until validation scores don't improve for 200 rounds.\n",
      "[100]\ttraining's binary_logloss: 0.0427668\tvalid_1's binary_logloss: 0.0470222\n",
      "[200]\ttraining's binary_logloss: 0.0381903\tvalid_1's binary_logloss: 0.0450679\n",
      "[300]\ttraining's binary_logloss: 0.035039\tvalid_1's binary_logloss: 0.0445188\n",
      "[400]\ttraining's binary_logloss: 0.0327998\tvalid_1's binary_logloss: 0.0442841\n",
      "[500]\ttraining's binary_logloss: 0.0309598\tvalid_1's binary_logloss: 0.044191\n",
      "[600]\ttraining's binary_logloss: 0.0293\tvalid_1's binary_logloss: 0.0441482\n",
      "[700]\ttraining's binary_logloss: 0.0277992\tvalid_1's binary_logloss: 0.0441365\n",
      "[800]\ttraining's binary_logloss: 0.0264453\tvalid_1's binary_logloss: 0.0441446\n",
      "Early stopping, best iteration is:\n",
      "[655]\ttraining's binary_logloss: 0.0284526\tvalid_1's binary_logloss: 0.0441254\n",
      "fold n°7\n"
     ]
    },
    {
     "name": "stderr",
     "output_type": "stream",
     "text": [
      "C:\\Users\\doron\\Anaconda3\\envs\\tf-gpu\\lib\\site-packages\\lightgbm\\basic.py:1184: UserWarning: Using categorical_feature in Dataset.\n",
      "  warnings.warn('Using categorical_feature in Dataset.')\n",
      "C:\\Users\\doron\\Anaconda3\\envs\\tf-gpu\\lib\\site-packages\\lightgbm\\basic.py:742: UserWarning: categorical_feature in param dict is overridden.\n",
      "  warnings.warn('categorical_feature in param dict is overridden.')\n"
     ]
    },
    {
     "name": "stdout",
     "output_type": "stream",
     "text": [
      "Training until validation scores don't improve for 200 rounds.\n",
      "[100]\ttraining's binary_logloss: 0.0427475\tvalid_1's binary_logloss: 0.0470451\n",
      "[200]\ttraining's binary_logloss: 0.0381329\tvalid_1's binary_logloss: 0.0450033\n",
      "[300]\ttraining's binary_logloss: 0.0350854\tvalid_1's binary_logloss: 0.0444784\n",
      "[400]\ttraining's binary_logloss: 0.0328248\tvalid_1's binary_logloss: 0.044279\n",
      "[500]\ttraining's binary_logloss: 0.0309324\tvalid_1's binary_logloss: 0.0442283\n",
      "[600]\ttraining's binary_logloss: 0.0292689\tvalid_1's binary_logloss: 0.0441792\n",
      "[700]\ttraining's binary_logloss: 0.0277407\tvalid_1's binary_logloss: 0.044198\n",
      "[800]\ttraining's binary_logloss: 0.0263857\tvalid_1's binary_logloss: 0.0442133\n",
      "Early stopping, best iteration is:\n",
      "[627]\ttraining's binary_logloss: 0.0288458\tvalid_1's binary_logloss: 0.0441716\n",
      "fold n°8\n"
     ]
    },
    {
     "name": "stderr",
     "output_type": "stream",
     "text": [
      "C:\\Users\\doron\\Anaconda3\\envs\\tf-gpu\\lib\\site-packages\\lightgbm\\basic.py:1184: UserWarning: Using categorical_feature in Dataset.\n",
      "  warnings.warn('Using categorical_feature in Dataset.')\n",
      "C:\\Users\\doron\\Anaconda3\\envs\\tf-gpu\\lib\\site-packages\\lightgbm\\basic.py:742: UserWarning: categorical_feature in param dict is overridden.\n",
      "  warnings.warn('categorical_feature in param dict is overridden.')\n"
     ]
    },
    {
     "name": "stdout",
     "output_type": "stream",
     "text": [
      "Training until validation scores don't improve for 200 rounds.\n",
      "[100]\ttraining's binary_logloss: 0.0425801\tvalid_1's binary_logloss: 0.0474871\n",
      "[200]\ttraining's binary_logloss: 0.0378587\tvalid_1's binary_logloss: 0.0459713\n",
      "[300]\ttraining's binary_logloss: 0.0348246\tvalid_1's binary_logloss: 0.0456092\n",
      "[400]\ttraining's binary_logloss: 0.0324723\tvalid_1's binary_logloss: 0.0455233\n",
      "[500]\ttraining's binary_logloss: 0.0306008\tvalid_1's binary_logloss: 0.0455426\n",
      "[600]\ttraining's binary_logloss: 0.0289471\tvalid_1's binary_logloss: 0.0455543\n",
      "Early stopping, best iteration is:\n",
      "[452]\ttraining's binary_logloss: 0.0314791\tvalid_1's binary_logloss: 0.0455157\n",
      "fold n°9\n"
     ]
    },
    {
     "name": "stderr",
     "output_type": "stream",
     "text": [
      "C:\\Users\\doron\\Anaconda3\\envs\\tf-gpu\\lib\\site-packages\\lightgbm\\basic.py:1184: UserWarning: Using categorical_feature in Dataset.\n",
      "  warnings.warn('Using categorical_feature in Dataset.')\n",
      "C:\\Users\\doron\\Anaconda3\\envs\\tf-gpu\\lib\\site-packages\\lightgbm\\basic.py:742: UserWarning: categorical_feature in param dict is overridden.\n",
      "  warnings.warn('categorical_feature in param dict is overridden.')\n"
     ]
    },
    {
     "name": "stdout",
     "output_type": "stream",
     "text": [
      "Training until validation scores don't improve for 200 rounds.\n",
      "[100]\ttraining's binary_logloss: 0.0430362\tvalid_1's binary_logloss: 0.0462877\n",
      "[200]\ttraining's binary_logloss: 0.0383363\tvalid_1's binary_logloss: 0.0444128\n",
      "[300]\ttraining's binary_logloss: 0.0353347\tvalid_1's binary_logloss: 0.043898\n",
      "[400]\ttraining's binary_logloss: 0.0330803\tvalid_1's binary_logloss: 0.0437362\n",
      "[500]\ttraining's binary_logloss: 0.0312401\tvalid_1's binary_logloss: 0.0436697\n",
      "[600]\ttraining's binary_logloss: 0.0296066\tvalid_1's binary_logloss: 0.0436687\n",
      "[700]\ttraining's binary_logloss: 0.0281123\tvalid_1's binary_logloss: 0.0436628\n",
      "Early stopping, best iteration is:\n",
      "[574]\ttraining's binary_logloss: 0.0300283\tvalid_1's binary_logloss: 0.0436466\n",
      "CV score: 0.09981 \n"
     ]
    }
   ],
   "source": [
    "from sklearn.model_selection import RepeatedKFold\n",
    "folds = RepeatedKFold(n_splits=5, n_repeats=2, random_state=4520)\n",
    "\n",
    "oof_lgb = np.zeros(len(trainForLiers))\n",
    "predictions_lgb_ForLiers = np.zeros(len(test))\n",
    "start = time.time()\n",
    "\n",
    "for fold_, (trn_idx, val_idx) in enumerate(folds.split(trainForLiers.values, targetForLiers.values)):\n",
    "    print(\"fold n°{}\".format(fold_))\n",
    "    trn_data = lgb.Dataset(trainForLiers.iloc[trn_idx][features], label=targetForLiers.iloc[trn_idx], categorical_feature=categorical_feats)\n",
    "    val_data = lgb.Dataset(trainForLiers.iloc[val_idx][features], label=targetForLiers.iloc[val_idx], categorical_feature=categorical_feats)\n",
    "\n",
    "    num_round = 11000\n",
    "    clf = lgb.train(lgbparam, trn_data, num_round, valid_sets = [trn_data, val_data], verbose_eval=100, early_stopping_rounds = 200)\n",
    "    oof_lgb[val_idx] = clf.predict(trainForLiers.iloc[val_idx][features], num_iteration=clf.best_iteration)  \n",
    "    \n",
    "    predictions_lgb_ForLiers += clf.predict(test[features], num_iteration=clf.best_iteration) / (5 * 2)\n",
    "\n",
    "print(\"CV score: {:<8.5f}\".format(mean_squared_error(oof_lgb, targetForLiers)**0.5))"
   ]
  },
  {
   "cell_type": "code",
   "execution_count": 97,
   "metadata": {},
   "outputs": [
    {
     "name": "stdout",
     "output_type": "stream",
     "text": [
      "CV score: 0.04481 \n"
     ]
    }
   ],
   "source": [
    "from sklearn.metrics import log_loss\n",
    "\n",
    "print(\"CV score: {:<8.5f}\".format(log_loss(targetForLiers, oof_lgb)))"
   ]
  },
  {
   "cell_type": "markdown",
   "metadata": {},
   "source": [
    "## 4. Combining Results"
   ]
  },
  {
   "cell_type": "markdown",
   "metadata": {},
   "source": [
    "Now the fun part, finding the best mixture between model1 and model2."
   ]
  },
  {
   "cell_type": "code",
   "execution_count": 199,
   "metadata": {
    "scrolled": true
   },
   "outputs": [
    {
     "data": {
      "text/html": [
       "<div>\n",
       "<style scoped>\n",
       "    .dataframe tbody tr th:only-of-type {\n",
       "        vertical-align: middle;\n",
       "    }\n",
       "\n",
       "    .dataframe tbody tr th {\n",
       "        vertical-align: top;\n",
       "    }\n",
       "\n",
       "    .dataframe thead th {\n",
       "        text-align: right;\n",
       "    }\n",
       "</style>\n",
       "<table border=\"1\" class=\"dataframe\">\n",
       "  <thead>\n",
       "    <tr style=\"text-align: right;\">\n",
       "      <th></th>\n",
       "      <th>card_id</th>\n",
       "      <th>target</th>\n",
       "    </tr>\n",
       "  </thead>\n",
       "  <tbody>\n",
       "    <tr>\n",
       "      <th>0</th>\n",
       "      <td>C_ID_0ab67a22ab</td>\n",
       "      <td>0.035394</td>\n",
       "    </tr>\n",
       "    <tr>\n",
       "      <th>1</th>\n",
       "      <td>C_ID_130fd0cbdd</td>\n",
       "      <td>0.001253</td>\n",
       "    </tr>\n",
       "    <tr>\n",
       "      <th>2</th>\n",
       "      <td>C_ID_b709037bc5</td>\n",
       "      <td>0.010425</td>\n",
       "    </tr>\n",
       "    <tr>\n",
       "      <th>3</th>\n",
       "      <td>C_ID_d27d835a9f</td>\n",
       "      <td>0.000199</td>\n",
       "    </tr>\n",
       "    <tr>\n",
       "      <th>4</th>\n",
       "      <td>C_ID_2b5e3df5c2</td>\n",
       "      <td>0.001150</td>\n",
       "    </tr>\n",
       "  </tbody>\n",
       "</table>\n",
       "</div>"
      ],
      "text/plain": [
       "           card_id    target\n",
       "0  C_ID_0ab67a22ab  0.035394\n",
       "1  C_ID_130fd0cbdd  0.001253\n",
       "2  C_ID_b709037bc5  0.010425\n",
       "3  C_ID_d27d835a9f  0.000199\n",
       "4  C_ID_2b5e3df5c2  0.001150"
      ]
     },
     "execution_count": 199,
     "metadata": {},
     "output_type": "execute_result"
    }
   ],
   "source": [
    "### 'target' is the probability of whether an observation is an outlier\n",
    "df_outlier_prob = pd.DataFrame({\"card_id\":test[\"card_id\"].values})\n",
    "df_outlier_prob[\"target\"] = predictions_lgb_ForLiers\n",
    "df_outlier_prob.head()"
   ]
  },
  {
   "cell_type": "code",
   "execution_count": 134,
   "metadata": {},
   "outputs": [],
   "source": [
    "#Last 160 out of 202\n",
    "lierThreshold = 100000\n",
    "outlier_id = pd.DataFrame(df_outlier_prob.sort_values(by='target',ascending = False).head(lierThreshold)['card_id'])"
   ]
  },
  {
   "cell_type": "code",
   "execution_count": 138,
   "metadata": {},
   "outputs": [],
   "source": [
    "most_likely_liers = best_submission.merge(outlier_id,how='right')"
   ]
  },
  {
   "cell_type": "code",
   "execution_count": 143,
   "metadata": {},
   "outputs": [
    {
     "name": "stdout",
     "output_type": "stream",
     "text": [
      "Wall time: 30min 8s\n"
     ]
    }
   ],
   "source": [
    "%%time\n",
    "for card_id in most_likely_liers['card_id']:\n",
    "    model_without_outliers.loc[model_without_outliers['card_id']==card_id,'target']\\\n",
    "    = most_likely_liers.loc[most_likely_liers['card_id']==card_id,'target'].values"
   ]
  },
  {
   "cell_type": "code",
   "execution_count": 144,
   "metadata": {},
   "outputs": [],
   "source": [
    "model_without_outliers.to_csv(f'./Submissions/Cmbn{lierThreshold}FrmBstRsltWtRestNoLiers.csv', index=False)"
   ]
  },
  {
   "attachments": {},
   "cell_type": "markdown",
   "metadata": {},
   "source": [
    "Over here we are pasting the targets predicted by model1 into values in model2. <br>\n",
    "We found that taking the 100,000 most likely outliers, predicted by model 3, from model1 and pasting it into model2 will yield the best result for us.\n",
    "\n",
    "We can look at this solution in the opposite way, we had a good prediction for the whole data with the outliers in model1, which is better then model2 at predicting loyality as a whole, then we pasted the values from 23,000 least likely to be outliers from model2 and by that improved  the result of model1."
   ]
  },
  {
   "cell_type": "code",
   "execution_count": 236,
   "metadata": {},
   "outputs": [
    {
     "data": {
      "image/png": "[encoded data removed]",
      "text/plain": [
       "<Figure size 1152x648 with 1 Axes>"
      ]
     },
     "metadata": {
      "needs_background": "light"
     },
     "output_type": "display_data"
    }
   ],
   "source": [
    "import matplotlib.pyplot as plt\n",
    "import matplotlib.image as mpimg\n",
    "\n",
    "plt.figure(figsize=(16,9))\n",
    "img=mpimg.imread('./Pics/100000.PNG')\n",
    "imgplot = plt.imshow(img)\n",
    "plt.show()"
   ]
  },
  {
   "cell_type": "code",
   "execution_count": 238,
   "metadata": {},
   "outputs": [
    {
     "data": {
      "image/png": "[encoded data removed]",
      "text/plain": [
       "<Figure size 1152x648 with 1 Axes>"
      ]
     },
     "metadata": {
      "needs_background": "light"
     },
     "output_type": "display_data"
    }
   ],
   "source": [
    "import matplotlib.pyplot as plt\n",
    "import matplotlib.image as mpimg\n",
    "\n",
    "plt.figure(figsize=(16,9))\n",
    "img=mpimg.imread('./Pics/LBPNG.PNG')\n",
    "imgplot = plt.imshow(img)\n",
    "plt.show()"
   ]
  },
  {
   "cell_type": "markdown",
   "metadata": {},
   "source": [
    "## Failed attempts (Including embeddings, stay tuned)"
   ]
  },
  {
   "cell_type": "markdown",
   "metadata": {},
   "source": [
    "## Try with weighted average"
   ]
  },
  {
   "cell_type": "markdown",
   "metadata": {},
   "source": [
    "Another idea was to combine between models by the number of outliers found in every decile. <br>\n",
    "This is what we've found in the data set sorted from least likely outlier to most likely outlier:\n",
    "\n",
    "decile,     numberOfOutliers <br>\n",
    "0-20   ,    0<br>\n",
    "20-40   ,   5<br>\n",
    "40-60    ,  11<br>\n",
    "60-80     , 25 <br>\n",
    "80-100   ,  40<br>\n",
    "100-120    , 57<br>\n",
    "120-140    , 91  <br>\n",
    "140-160    , 138  <br>\n",
    "160-180    , 280  <br>\n",
    "180-202    , 1559  <br>\n"
   ]
  },
  {
   "cell_type": "markdown",
   "metadata": {},
   "source": [
    "We decided to combine values for the first 20% of the values and use values from model2 (trained without outliers) for the rest 80%. then see where this method could take us"
   ]
  },
  {
   "cell_type": "code",
   "execution_count": 204,
   "metadata": {},
   "outputs": [],
   "source": [
    "outlier_id = pd.DataFrame(df_outlier_prob.sort_values(by='target',ascending = False))"
   ]
  },
  {
   "cell_type": "code",
   "execution_count": 207,
   "metadata": {
    "scrolled": true
   },
   "outputs": [],
   "source": [
    "outlier_id['sort'] = outlier_id['target'] "
   ]
  },
  {
   "cell_type": "code",
   "execution_count": 208,
   "metadata": {},
   "outputs": [],
   "source": [
    "del outlier_id['target']"
   ]
  },
  {
   "cell_type": "code",
   "execution_count": 209,
   "metadata": {},
   "outputs": [],
   "source": [
    "most_likely_liers = best_submission.merge(outlier_id,how='right')"
   ]
  },
  {
   "cell_type": "code",
   "execution_count": 211,
   "metadata": {},
   "outputs": [],
   "source": [
    "most_likely_liers = most_likely_liers.sort_values(by='sort',ascending = False)"
   ]
  },
  {
   "cell_type": "code",
   "execution_count": 213,
   "metadata": {},
   "outputs": [],
   "source": [
    "best_submission = pd.read_csv('./Submissions/LastAinSubBaseForOutlier.csv')\n",
    "model_without_outliers = pd.read_csv('./Submissions/SubBlendLGBNoOutliers.csv')"
   ]
  },
  {
   "cell_type": "code",
   "execution_count": 217,
   "metadata": {},
   "outputs": [],
   "source": [
    "Percent10 = int(len(most_likely_liers)*0.1)\n",
    "most_likely_liers10 = most_likely_liers[:Percent10]"
   ]
  },
  {
   "cell_type": "code",
   "execution_count": 221,
   "metadata": {},
   "outputs": [
    {
     "name": "stdout",
     "output_type": "stream",
     "text": [
      "Wall time: 6min 42s\n"
     ]
    }
   ],
   "source": [
    "%%time\n",
    "for card_id in most_likely_liers10['card_id']:\n",
    "    model_without_outliers.loc[model_without_outliers['card_id']==card_id,'target'] = (most_likely_liers10.loc[most_likely_liers10['card_id']==card_id,'target'].values) * 0.7 + (model_without_outliers.loc[model_without_outliers['card_id']==card_id,'target'] )*0.3"
   ]
  },
  {
   "cell_type": "code",
   "execution_count": 222,
   "metadata": {},
   "outputs": [],
   "source": [
    "most_likely_liers20 = most_likely_liers[Percent10:Percent10*2]"
   ]
  },
  {
   "cell_type": "code",
   "execution_count": 224,
   "metadata": {},
   "outputs": [
    {
     "name": "stdout",
     "output_type": "stream",
     "text": [
      "Wall time: 6min 48s\n"
     ]
    }
   ],
   "source": [
    "%%time\n",
    "for card_id in most_likely_liers20['card_id']:\n",
    "    model_without_outliers.loc[model_without_outliers['card_id']==card_id,'target'] = (most_likely_liers20.loc[most_likely_liers20['card_id']==card_id,'target'].values) * 0.13  + (model_without_outliers.loc[model_without_outliers['card_id']==card_id,'target'] )*0.87"
   ]
  },
  {
   "cell_type": "code",
   "execution_count": 225,
   "metadata": {},
   "outputs": [],
   "source": [
    "model_without_outliers.to_csv(f'./Submissions/WeightedAverageForFirst20ByPerInOut.csv', index=False)"
   ]
  },
  {
   "attachments": {},
   "cell_type": "markdown",
   "metadata": {},
   "source": [
    "This method yeilds worse result then model1 alone:"
   ]
  },
  {
   "cell_type": "code",
   "execution_count": 240,
   "metadata": {},
   "outputs": [
    {
     "data": {
      "image/png": "[encoded data removed]",
      "text/plain": [
       "<Figure size 1152x648 with 1 Axes>"
      ]
     },
     "metadata": {
      "needs_background": "light"
     },
     "output_type": "display_data"
    }
   ],
   "source": [
    "import matplotlib.pyplot as plt\n",
    "import matplotlib.image as mpimg\n",
    "\n",
    "plt.figure(figsize=(16,9))\n",
    "img=mpimg.imread('./Pics/Failed1.PNG')\n",
    "imgplot = plt.imshow(img)\n",
    "plt.show()"
   ]
  },
  {
   "cell_type": "markdown",
   "metadata": {},
   "source": [
    "## Try with embeddings in model3 to classify outlier"
   ]
  },
  {
   "cell_type": "markdown",
   "metadata": {},
   "source": [
    "Idea: run a couple of folds each contains new blend of outliers with ordinary data in even numbers then take mean of results from all folds and try to find the ones that most of the models agree on\n"
   ]
  },
  {
   "cell_type": "code",
   "execution_count": null,
   "metadata": {},
   "outputs": [],
   "source": [
    "from keras.callbacks import TensorBoard, ModelCheckpoint, EarlyStopping\n",
    "from keras.utils import to_categorical\n",
    "\n",
    "features = ['feature_3', 'new_month_lag_min', 'new_month_lag_max', 'feature_2', 'feature_1', 'hist_state_id_nunique',\n",
    "                'auth_installments_min', 'auth_purchase_month_max', 'auth_purchase_month_min', 'hist_purchase_month_max',\n",
    "                'hist_purchase_month_min', 'auth_month_lag_max', 'new_purchase_month_max', 'new_purchase_month_min',\n",
    "                'auth_month_lag_min', 'new_state_id_nunique', 'hist_month_lag_min', 'hist_month_lag_max', 'auth_installments_max',\n",
    "                'new_installments_min', 'hist_installments_max', 'hist_installments_min', 'new_installments_max', 'new_category_1_sum',\n",
    "                'hist_city_id_nunique', 'auth_state_id_nunique', 'hist_subsector_id_nunique', 'new_subsector_id_nunique', \n",
    "                'new_city_id_nunique', 'hist_merchant_category_id_nunique', 'auth_subsector_id_nunique', 'new_merchant_category_id_nunique', \n",
    "                'auth_category_3_A_mean', 'hist_merchant_id_nunique', 'auth_city_id_nunique', 'elapsed_time',\n",
    "                'new_transactions_count', 'new_merchant_id_nunique', 'auth_merchant_category_id_nunique', 'new_installments_sum', \n",
    "                'hist_category_1_sum', 'hist_transactions_count', 'new_category_1_mean', 'new_category_3_A_mean', 'month_lag_mean',\n",
    "                'auth_merchant_id_nunique', 'auth_category_1_sum', 'new_category_3_C_mean']\n",
    "\n",
    "lenTrain = int(len(train_new_train) *0.8)\n",
    "lenOutliers = int(len(outliers) *0.8)\n",
    "\n",
    "newTrainLimit = lenOutliers\n",
    "\n",
    "for i in range(87):\n",
    "    x = concatenate([feature_3_emb,new_month_lag_min_emb,new_month_lag_max_emb,feature_2_emb,feature_1_emb,hist_state_id_nunique_emb,auth_installments_min_emb,auth_purchase_month_max_emb,auth_purchase_month_min_emb,hist_purchase_month_max_emb,hist_purchase_month_min_emb,auth_month_lag_max_emb,new_purchase_month_max_emb,new_purchase_month_min_emb,auth_month_lag_min_emb,new_state_id_nunique_emb,hist_month_lag_min_emb,hist_month_lag_max_emb,auth_installments_max_emb,new_installments_min_emb,hist_installments_max_emb,hist_installments_min_emb,new_installments_max_emb,new_category_1_sum_emb,hist_city_id_nunique_emb,auth_state_id_nunique_emb,hist_subsector_id_nunique_emb,new_subsector_id_nunique_emb,new_city_id_nunique_emb,hist_merchant_category_id_nunique_emb,auth_subsector_id_nunique_emb,new_merchant_category_id_nunique_emb,auth_category_3_A_mean_emb,hist_merchant_id_nunique_emb,auth_city_id_nunique_emb,elapsed_time_emb,new_transactions_count_emb,new_merchant_id_nunique_emb,auth_merchant_category_id_nunique_emb,new_installments_sum_emb,hist_category_1_sum_emb,hist_transactions_count_emb,new_category_1_mean_emb,new_category_3_A_mean_emb,month_lag_mean_emb,auth_merchant_id_nunique_emb,auth_category_1_sum_emb,new_category_3_C_mean_emb])\n",
    "\n",
    "    x = Flatten()(x)\n",
    "    x = BatchNormalization()(x)\n",
    "    x = Dense(10,activation='relu',kernel_initializer='uniform')(x)\n",
    "    x = Dense(10,activation='relu',kernel_initializer='uniform')(x)\n",
    "    x = Dropout(0.4)(x)\n",
    "    x = BatchNormalization()(x)\n",
    "    x = Dense(10,activation='relu',kernel_initializer='uniform')(x)\n",
    "    x = Dense(10,activation='relu',kernel_initializer='uniform')(x)\n",
    "    x = Dropout(0.7)(x)\n",
    "    x = Dense(2,activation='softmax',kernel_initializer='uniform')(x)\n",
    "\n",
    "    model = Model([feature_3_in,new_month_lag_min_in,new_month_lag_max_in,feature_2_in,feature_1_in,hist_state_id_nunique_in,auth_installments_min_in,auth_purchase_month_max_in,auth_purchase_month_min_in,hist_purchase_month_max_in,hist_purchase_month_min_in,auth_month_lag_max_in,new_purchase_month_max_in,new_purchase_month_min_in,auth_month_lag_min_in,new_state_id_nunique_in,hist_month_lag_min_in,hist_month_lag_max_in,auth_installments_max_in,new_installments_min_in,hist_installments_max_in,hist_installments_min_in,new_installments_max_in,new_category_1_sum_in,hist_city_id_nunique_in,auth_state_id_nunique_in,hist_subsector_id_nunique_in,new_subsector_id_nunique_in,new_city_id_nunique_in,hist_merchant_category_id_nunique_in,auth_subsector_id_nunique_in,new_merchant_category_id_nunique_in,auth_category_3_A_mean_in,hist_merchant_id_nunique_in,auth_city_id_nunique_in,elapsed_time_in,new_transactions_count_in,new_merchant_id_nunique_in,auth_merchant_category_id_nunique_in,new_installments_sum_in,hist_category_1_sum_in,hist_transactions_count_in,new_category_1_mean_in,new_category_3_A_mean_in,month_lag_mean_in,auth_merchant_id_nunique_in,auth_category_1_sum_in,new_category_3_C_mean_in], x)\n",
    "    \n",
    "#     model.compile(Adam(0.001), loss='categorical_crossentropy')\n",
    "    model.compile(loss = 'categorical_crossentropy',optimizer='sgd',metrics=['accuracy'])\n",
    "    \n",
    "    x_train = (train_new_train[newTrainLimit*i:newTrainLimit*(i+1)] ).append(outliers[:lenOutliers] )\n",
    "    y_train = train_new_train[['target']][newTrainLimit*i:newTrainLimit*(i+1)].append(outliers[['target']][:lenOutliers])\n",
    "    if i == 0 : \n",
    "        x_val= (train_new_train[newTrainLimit:]).append(outliers[lenOutliers:] )\n",
    "        y_val = train_new_train[['target']][newTrainLimit:].append(outliers[['target']][lenOutliers:])\n",
    "    else:\n",
    "        x_val= (train_new_train[:newTrainLimit*i]).append(train_new_train[newTrainLimit*(i+1):]).append(outliers[lenOutliers:] )\n",
    "        y_val = train_new_train[['target']][:newTrainLimit*i].append(train_new_train[['target']][newTrainLimit*(i+1):]).append(outliers[['target']][lenOutliers:])\n",
    "        \n",
    "\n",
    "    early_stopping = EarlyStopping(monitor='val_loss', patience=5)\n",
    "\n",
    "    checkpointer = ModelCheckpoint(filepath=f'saved_models/weights.embeddingToLoyalityRunNum{i}.df5', \n",
    "                                   verbose=1, save_best_only=True)"
   ]
  },
  {
   "cell_type": "markdown",
   "metadata": {},
   "source": [
    "Idea: using class weight of 10000 to 1 for outlier"
   ]
  },
  {
   "cell_type": "code",
   "execution_count": null,
   "metadata": {},
   "outputs": [],
   "source": [
    "from keras.callbacks import TensorBoard, ModelCheckpoint, EarlyStopping\n",
    "from keras.utils import to_categorical\n",
    "\n",
    "features = ['feature_3', 'new_month_lag_min', 'new_month_lag_max', 'feature_2', 'feature_1', 'hist_state_id_nunique',\n",
    "                'auth_installments_min', 'auth_purchase_month_max', 'auth_purchase_month_min', 'hist_purchase_month_max',\n",
    "                'hist_purchase_month_min', 'auth_month_lag_max', 'new_purchase_month_max', 'new_purchase_month_min',\n",
    "                'auth_month_lag_min', 'new_state_id_nunique', 'hist_month_lag_min', 'hist_month_lag_max', 'auth_installments_max',\n",
    "                'new_installments_min', 'hist_installments_max', 'hist_installments_min', 'new_installments_max', 'new_category_1_sum',\n",
    "                'hist_city_id_nunique', 'auth_state_id_nunique', 'hist_subsector_id_nunique', 'new_subsector_id_nunique', \n",
    "                'new_city_id_nunique', 'hist_merchant_category_id_nunique', 'auth_subsector_id_nunique', 'new_merchant_category_id_nunique', \n",
    "                'auth_category_3_A_mean', 'hist_merchant_id_nunique', 'auth_city_id_nunique', 'elapsed_time',\n",
    "                'new_transactions_count', 'new_merchant_id_nunique', 'auth_merchant_category_id_nunique', 'new_installments_sum', \n",
    "                'hist_category_1_sum', 'hist_transactions_count', 'new_category_1_mean', 'new_category_3_A_mean', 'month_lag_mean',\n",
    "                'auth_merchant_id_nunique', 'auth_category_1_sum', 'new_category_3_C_mean']\n",
    "\n",
    "lenTrain = int(len(train_new_train) *0.8)\n",
    "lenOutliers = int(len(outliers) *0.8)\n",
    "\n",
    "newTrainLimit = lenTrain\n",
    "\n",
    "x_train = (train_new_train[:newTrainLimit] ).append(outliers[:lenOutliers] )\n",
    "y_train = train_new_train[['target']][:newTrainLimit].append(outliers[['target']][:lenOutliers])\n",
    "x_val= (train_new_train[newTrainLimit:]).append(outliers[lenOutliers:] )\n",
    "y_val = train_new_train[['target']][newTrainLimit:].append(outliers[['target']][lenOutliers:])\n",
    "\n",
    "\n",
    "\n",
    "x = concatenate([feature_3_emb,new_month_lag_min_emb,new_month_lag_max_emb,feature_2_emb,feature_1_emb,hist_state_id_nunique_emb,auth_installments_min_emb,auth_purchase_month_max_emb,auth_purchase_month_min_emb,hist_purchase_month_max_emb,hist_purchase_month_min_emb,auth_month_lag_max_emb,new_purchase_month_max_emb,new_purchase_month_min_emb,auth_month_lag_min_emb,new_state_id_nunique_emb,hist_month_lag_min_emb,hist_month_lag_max_emb,auth_installments_max_emb,new_installments_min_emb,hist_installments_max_emb,hist_installments_min_emb,new_installments_max_emb,new_category_1_sum_emb,hist_city_id_nunique_emb,auth_state_id_nunique_emb,hist_subsector_id_nunique_emb,new_subsector_id_nunique_emb,new_city_id_nunique_emb,hist_merchant_category_id_nunique_emb,auth_subsector_id_nunique_emb,new_merchant_category_id_nunique_emb,auth_category_3_A_mean_emb,hist_merchant_id_nunique_emb,auth_city_id_nunique_emb,elapsed_time_emb,new_transactions_count_emb,new_merchant_id_nunique_emb,auth_merchant_category_id_nunique_emb,new_installments_sum_emb,hist_category_1_sum_emb,hist_transactions_count_emb,new_category_1_mean_emb,new_category_3_A_mean_emb,month_lag_mean_emb,auth_merchant_id_nunique_emb,auth_category_1_sum_emb,new_category_3_C_mean_emb])\n",
    "\n",
    "x = Flatten()(x)\n",
    "x = BatchNormalization()(x)\n",
    "x = Dense(10,activation='relu',kernel_initializer='uniform')(x)\n",
    "x = Dense(10,activation='relu',kernel_initializer='uniform')(x)\n",
    "x = Dropout(0.4)(x)\n",
    "x = BatchNormalization()(x)\n",
    "x = Dense(10,activation='relu',kernel_initializer='uniform')(x)\n",
    "x = Dense(10,activation='relu',kernel_initializer='uniform')(x)\n",
    "x = Dropout(0.7)(x)\n",
    "x = Dense(2,activation='softmax',kernel_initializer='uniform')(x)\n",
    "\n",
    "model = Model([feature_3_in,new_month_lag_min_in,new_month_lag_max_in,feature_2_in,feature_1_in,hist_state_id_nunique_in,auth_installments_min_in,auth_purchase_month_max_in,auth_purchase_month_min_in,hist_purchase_month_max_in,hist_purchase_month_min_in,auth_month_lag_max_in,new_purchase_month_max_in,new_purchase_month_min_in,auth_month_lag_min_in,new_state_id_nunique_in,hist_month_lag_min_in,hist_month_lag_max_in,auth_installments_max_in,new_installments_min_in,hist_installments_max_in,hist_installments_min_in,new_installments_max_in,new_category_1_sum_in,hist_city_id_nunique_in,auth_state_id_nunique_in,hist_subsector_id_nunique_in,new_subsector_id_nunique_in,new_city_id_nunique_in,hist_merchant_category_id_nunique_in,auth_subsector_id_nunique_in,new_merchant_category_id_nunique_in,auth_category_3_A_mean_in,hist_merchant_id_nunique_in,auth_city_id_nunique_in,elapsed_time_in,new_transactions_count_in,new_merchant_id_nunique_in,auth_merchant_category_id_nunique_in,new_installments_sum_in,hist_category_1_sum_in,hist_transactions_count_in,new_category_1_mean_in,new_category_3_A_mean_in,month_lag_mean_in,auth_merchant_id_nunique_in,auth_category_1_sum_in,new_category_3_C_mean_in], x)\n",
    "\n",
    "#     model.compile(Adam(0.001), loss='categorical_crossentropy')\n",
    "model.compile(loss = 'categorical_crossentropy',\n",
    "              optimizer='sgd',\n",
    "              metrics=['accuracy'])\n",
    "\n",
    "early_stopping = EarlyStopping(monitor='val_loss', patience=20)\n",
    "\n",
    "checkpointer = ModelCheckpoint(filepath=f'saved_models/weights.embeddingToLoyalityAllDataWtClassWeight.df5', \n",
    "                               verbose=1, save_best_only=True)\n",
    "\n",
    "class_weight = {0: 10000.,\n",
    "                1: 1.}\n",
    "\n",
    "model.fit([x_train[f] for f in features], to_categorical(y_train), batch_size=64,\n",
    "          epochs=200,\n",
    "          validation_data=[[x_val[f] for f in features], to_categorical(y_val)], \n",
    "          callbacks=[checkpointer,early_stopping],\n",
    "          class_weight = class_weight  \n",
    "         )"
   ]
  },
  {
   "cell_type": "markdown",
   "metadata": {},
   "source": [
    "Made the model classify all as outliers"
   ]
  },
  {
   "cell_type": "markdown",
   "metadata": {},
   "source": [
    "Idea: using class weight of 100 to 1 for outlier, which is more close to the percent of outliers in data"
   ]
  },
  {
   "cell_type": "code",
   "execution_count": null,
   "metadata": {},
   "outputs": [],
   "source": [
    "from keras.callbacks import TensorBoard, ModelCheckpoint, EarlyStopping\n",
    "from keras.utils import to_categorical\n",
    "\n",
    "features = ['feature_3', 'new_month_lag_min', 'new_month_lag_max', 'feature_2', 'feature_1', 'hist_state_id_nunique',\n",
    "                'auth_installments_min', 'auth_purchase_month_max', 'auth_purchase_month_min', 'hist_purchase_month_max',\n",
    "                'hist_purchase_month_min', 'auth_month_lag_max', 'new_purchase_month_max', 'new_purchase_month_min',\n",
    "                'auth_month_lag_min', 'new_state_id_nunique', 'hist_month_lag_min', 'hist_month_lag_max', 'auth_installments_max',\n",
    "                'new_installments_min', 'hist_installments_max', 'hist_installments_min', 'new_installments_max', 'new_category_1_sum',\n",
    "                'hist_city_id_nunique', 'auth_state_id_nunique', 'hist_subsector_id_nunique', 'new_subsector_id_nunique', \n",
    "                'new_city_id_nunique', 'hist_merchant_category_id_nunique', 'auth_subsector_id_nunique', 'new_merchant_category_id_nunique', \n",
    "                'auth_category_3_A_mean', 'hist_merchant_id_nunique', 'auth_city_id_nunique', 'elapsed_time',\n",
    "                'new_transactions_count', 'new_merchant_id_nunique', 'auth_merchant_category_id_nunique', 'new_installments_sum', \n",
    "                'hist_category_1_sum', 'hist_transactions_count', 'new_category_1_mean', 'new_category_3_A_mean', 'month_lag_mean',\n",
    "                'auth_merchant_id_nunique', 'auth_category_1_sum', 'new_category_3_C_mean']\n",
    "\n",
    "lenTrain = int(len(train_new_train) *0.8)\n",
    "lenOutliers = int(len(outliers) *0.8)\n",
    "\n",
    "newTrainLimit = lenTrain\n",
    "\n",
    "x_train = (train_new_train[:newTrainLimit] ).append(outliers[:lenOutliers] )\n",
    "y_train = train_new_train[['target']][:newTrainLimit].append(outliers[['target']][:lenOutliers])\n",
    "x_val= (train_new_train[newTrainLimit:]).append(outliers[lenOutliers:] )\n",
    "y_val = train_new_train[['target']][newTrainLimit:].append(outliers[['target']][lenOutliers:])\n",
    "\n",
    "\n",
    "\n",
    "x = concatenate([feature_3_emb,new_month_lag_min_emb,new_month_lag_max_emb,feature_2_emb,feature_1_emb,hist_state_id_nunique_emb,auth_installments_min_emb,auth_purchase_month_max_emb,auth_purchase_month_min_emb,hist_purchase_month_max_emb,hist_purchase_month_min_emb,auth_month_lag_max_emb,new_purchase_month_max_emb,new_purchase_month_min_emb,auth_month_lag_min_emb,new_state_id_nunique_emb,hist_month_lag_min_emb,hist_month_lag_max_emb,auth_installments_max_emb,new_installments_min_emb,hist_installments_max_emb,hist_installments_min_emb,new_installments_max_emb,new_category_1_sum_emb,hist_city_id_nunique_emb,auth_state_id_nunique_emb,hist_subsector_id_nunique_emb,new_subsector_id_nunique_emb,new_city_id_nunique_emb,hist_merchant_category_id_nunique_emb,auth_subsector_id_nunique_emb,new_merchant_category_id_nunique_emb,auth_category_3_A_mean_emb,hist_merchant_id_nunique_emb,auth_city_id_nunique_emb,elapsed_time_emb,new_transactions_count_emb,new_merchant_id_nunique_emb,auth_merchant_category_id_nunique_emb,new_installments_sum_emb,hist_category_1_sum_emb,hist_transactions_count_emb,new_category_1_mean_emb,new_category_3_A_mean_emb,month_lag_mean_emb,auth_merchant_id_nunique_emb,auth_category_1_sum_emb,new_category_3_C_mean_emb])\n",
    "\n",
    "x = Flatten()(x)\n",
    "x = BatchNormalization()(x)\n",
    "x = Dense(10,activation='relu',kernel_initializer='uniform')(x)\n",
    "x = Dense(10,activation='relu',kernel_initializer='uniform')(x)\n",
    "x = Dropout(0.4)(x)\n",
    "x = BatchNormalization()(x)\n",
    "x = Dense(10,activation='relu',kernel_initializer='uniform')(x)\n",
    "x = Dense(10,activation='relu',kernel_initializer='uniform')(x)\n",
    "x = Dropout(0.7)(x)\n",
    "x = Dense(2,activation='softmax',kernel_initializer='uniform')(x)\n",
    "\n",
    "model = Model([feature_3_in,new_month_lag_min_in,new_month_lag_max_in,feature_2_in,feature_1_in,hist_state_id_nunique_in,auth_installments_min_in,auth_purchase_month_max_in,auth_purchase_month_min_in,hist_purchase_month_max_in,hist_purchase_month_min_in,auth_month_lag_max_in,new_purchase_month_max_in,new_purchase_month_min_in,auth_month_lag_min_in,new_state_id_nunique_in,hist_month_lag_min_in,hist_month_lag_max_in,auth_installments_max_in,new_installments_min_in,hist_installments_max_in,hist_installments_min_in,new_installments_max_in,new_category_1_sum_in,hist_city_id_nunique_in,auth_state_id_nunique_in,hist_subsector_id_nunique_in,new_subsector_id_nunique_in,new_city_id_nunique_in,hist_merchant_category_id_nunique_in,auth_subsector_id_nunique_in,new_merchant_category_id_nunique_in,auth_category_3_A_mean_in,hist_merchant_id_nunique_in,auth_city_id_nunique_in,elapsed_time_in,new_transactions_count_in,new_merchant_id_nunique_in,auth_merchant_category_id_nunique_in,new_installments_sum_in,hist_category_1_sum_in,hist_transactions_count_in,new_category_1_mean_in,new_category_3_A_mean_in,month_lag_mean_in,auth_merchant_id_nunique_in,auth_category_1_sum_in,new_category_3_C_mean_in], x)\n",
    "\n",
    "#     model.compile(Adam(0.001), loss='categorical_crossentropy')\n",
    "model.compile(loss = 'categorical_crossentropy',\n",
    "              optimizer='sgd',\n",
    "              metrics=['accuracy'])\n",
    "\n",
    "early_stopping = EarlyStopping(monitor='val_loss', patience=20)\n",
    "\n",
    "checkpointer = ModelCheckpoint(filepath=f'saved_models/weights.embeddingToLoyalityAllDataWtClassWeight100.df5', \n",
    "                               verbose=1, save_best_only=True)\n",
    "\n",
    "class_weight = {0: 100.,\n",
    "                1: 1.}\n",
    "\n",
    "model.fit([x_train[f] for f in features], to_categorical(y_train), batch_size=64,\n",
    "          epochs=200,\n",
    "          validation_data=[[x_val[f] for f in features], to_categorical(y_val)], \n",
    "          callbacks=[checkpointer,early_stopping],\n",
    "          class_weight = class_weight  \n",
    "         )"
   ]
  },
  {
   "cell_type": "markdown",
   "metadata": {},
   "source": [
    "Result: The model did predicted some outliers but also predicted much more non outliers as outliers"
   ]
  },
  {
   "cell_type": "code",
   "execution_count": 23,
   "metadata": {},
   "outputs": [
    {
     "data": {
      "text/plain": [
       "{0: 5602, 1: 34782}"
      ]
     },
     "execution_count": 23,
     "metadata": {},
     "output_type": "execute_result"
    }
   ],
   "source": [
    "unique, counts = np.unique(ClassPredictions, return_counts=True)\n",
    "dict(zip(unique, counts))"
   ]
  },
  {
   "cell_type": "code",
   "execution_count": 27,
   "metadata": {},
   "outputs": [
    {
     "data": {
      "text/plain": [
       "array([[  292,   150],\n",
       "       [ 5310, 34632]], dtype=int64)"
      ]
     },
     "execution_count": 27,
     "metadata": {},
     "output_type": "execute_result"
    }
   ],
   "source": [
    "import seaborn as sns\n",
    "\n",
    "conf = confusion_matrix(y_val, ClassPredictions)\n",
    "\n",
    "# plt.figure(figsize=(5,5))\n",
    "# sns.heatmap(data = conf,cmap='RdBu')\n",
    "conf"
   ]
  },
  {
   "cell_type": "markdown",
   "metadata": {},
   "source": [
    "Idea: Find the best threshold for classifying outliers with : <br>\n",
    "predictions[:,1]> threshold instead of argmax \n",
    "\n",
    "Result: we couldnt find a threshold in which the model had more good outlier predictions then false positives"
   ]
  },
  {
   "cell_type": "markdown",
   "metadata": {},
   "source": [
    "# Embedding only Models"
   ]
  },
  {
   "cell_type": "markdown",
   "metadata": {},
   "source": [
    "## Simple Embedding DL regressor"
   ]
  },
  {
   "cell_type": "markdown",
   "metadata": {},
   "source": [
    "For start Lets create Embeddings for the categorical features we got in train csv file"
   ]
  },
  {
   "cell_type": "code",
   "execution_count": 43,
   "metadata": {},
   "outputs": [],
   "source": [
    "from keras.layers import *\n",
    "from keras.regularizers import l2\n",
    "from keras.models import Model\n",
    "from keras.optimizers import Adam\n",
    "\n",
    "# %reload_ext autoreload\n",
    "# %autoreload 2\n",
    "\n",
    "import numpy as np\n",
    "import pandas as pd\n",
    "import matplotlib.pyplot as plt\n",
    "# %matplotlib inline\n",
    "from operator import itemgetter"
   ]
  },
  {
   "cell_type": "markdown",
   "metadata": {},
   "source": [
    "First Lets normalize our data, normalizing will help the embedding created to better represent relations between features and address them evenly."
   ]
  },
  {
   "cell_type": "code",
   "execution_count": 50,
   "metadata": {
    "colab": {
     "base_uri": "https://localhost:8080/",
     "height": 35
    },
    "colab_type": "code",
    "collapsed": true,
    "id": "V85iM4QLYY1C",
    "outputId": "baa767c9-12d4-4891-be68-3d5c93552782"
   },
   "outputs": [
    {
     "name": "stdout",
     "output_type": "stream",
     "text": [
      "count    201917.000000\n",
      "mean          3.105311\n",
      "std           1.186160\n",
      "min           1.000000\n",
      "25%           2.000000\n",
      "50%           3.000000\n",
      "75%           4.000000\n",
      "max           5.000000\n",
      "Name: feature_1, dtype: float64\n",
      "old mean: 3.105310597918947, old std: 1.1861566476868783\n",
      "count    201917.000000\n",
      "mean          1.745410\n",
      "std           0.751362\n",
      "min           1.000000\n",
      "25%           1.000000\n",
      "50%           2.000000\n",
      "75%           2.000000\n",
      "max           3.000000\n",
      "Name: feature_2, dtype: float64\n",
      "old mean: 1.745410242822546, old std: 0.751359875741333\n",
      "count    201917.000000\n",
      "mean          0.565569\n",
      "std           0.495683\n",
      "min           0.000000\n",
      "25%           0.000000\n",
      "50%           1.000000\n",
      "75%           1.000000\n",
      "max           1.000000\n",
      "Name: feature_3, dtype: float64\n",
      "old mean: 0.5655690209343444, old std: 0.49568205887817995\n"
     ]
    }
   ],
   "source": [
    "print(train.feature_1.describe())\n",
    "\n",
    "mean1 = np.mean(train['feature_1'])\n",
    "std1 = np.std(train['feature_1'])\n",
    "print(f'old mean: {mean1}, old std: {std1}')\n",
    "\n",
    "print(train.feature_2.describe())\n",
    "\n",
    "mean2 = np.mean(train['feature_2'])\n",
    "std2 = np.std(train['feature_2'])\n",
    "print(f'old mean: {mean2}, old std: {std2}')\n",
    "\n",
    "\n",
    "print(train.feature_3.describe())\n",
    "\n",
    "mean3 = np.mean(train['feature_3'])\n",
    "std3 = np.std(train['feature_3'])\n",
    "print(f'old mean: {mean3}, old std: {std3}')\n",
    "\n"
   ]
  },
  {
   "cell_type": "code",
   "execution_count": 51,
   "metadata": {},
   "outputs": [
    {
     "name": "stdout",
     "output_type": "stream",
     "text": [
      "count    2.019170e+05\n",
      "mean    -1.152115e-16\n",
      "std      1.000002e+00\n",
      "min     -1.774901e+00\n",
      "25%     -9.318420e-01\n",
      "50%     -8.878304e-02\n",
      "75%      7.542759e-01\n",
      "max      1.597335e+00\n",
      "Name: feature_1, dtype: float64\n",
      "count    2.019170e+05\n",
      "mean    -6.181096e-17\n",
      "std      1.000002e+00\n",
      "min     -9.920815e-01\n",
      "25%     -9.920815e-01\n",
      "50%      3.388386e-01\n",
      "75%      3.388386e-01\n",
      "max      1.669759e+00\n",
      "Name: feature_2, dtype: float64\n",
      "count    2.019170e+05\n",
      "mean    -7.319487e-17\n",
      "std      1.000002e+00\n",
      "min     -1.140992e+00\n",
      "25%     -1.140992e+00\n",
      "50%      8.764307e-01\n",
      "75%      8.764307e-01\n",
      "max      8.764307e-01\n",
      "Name: feature_3, dtype: float64\n"
     ]
    }
   ],
   "source": [
    "#normalize data\n",
    "normalizeFeature1 = (train['feature_1']-mean1)/std1\n",
    "normalizeFeature2 = (train['feature_2']-mean2)/std2\n",
    "normalizeFeature3 = (train['feature_3']-mean3)/std3\n",
    "\n",
    "train['feature_1'] = normalizeFeature1\n",
    "train['feature_2'] = normalizeFeature2\n",
    "train['feature_3'] = normalizeFeature3\n",
    "\n",
    "\n",
    "print(train.feature_1.describe())\n",
    "print(train.feature_2.describe())\n",
    "print(train.feature_3.describe())"
   ]
  },
  {
   "cell_type": "code",
   "execution_count": 54,
   "metadata": {},
   "outputs": [
    {
     "name": "stdout",
     "output_type": "stream",
     "text": [
      "count    201917.000000\n",
      "mean         -0.393636\n",
      "std           3.850500\n",
      "min         -33.219281\n",
      "25%          -0.883110\n",
      "50%          -0.023437\n",
      "75%           0.765453\n",
      "max          17.965068\n",
      "Name: target, dtype: float64\n",
      "old mean: -0.3936362990779874, old std: 3.8504904606159247\n"
     ]
    }
   ],
   "source": [
    "print(train.target.describe())\n",
    "\n",
    "meant = np.mean(train['target'])\n",
    "stdt = np.std(train['target'])\n",
    "print(f'old mean: {mean1}, old std: {std1}')\n"
   ]
  },
  {
   "cell_type": "code",
   "execution_count": 55,
   "metadata": {},
   "outputs": [
    {
     "name": "stdout",
     "output_type": "stream",
     "text": [
      "count    2.019170e+05\n",
      "mean     2.322530e-18\n",
      "std      1.000002e+00\n",
      "min     -8.525055e+00\n",
      "25%     -1.271199e-01\n",
      "50%      9.614344e-02\n",
      "75%      3.010238e-01\n",
      "max      4.767887e+00\n",
      "Name: target, dtype: float64\n"
     ]
    }
   ],
   "source": [
    "normalizet = (train['target']-meant)/stdt\n",
    "\n",
    "train['target'] = normalizet\n",
    "\n",
    "print(train.target.describe())"
   ]
  },
  {
   "cell_type": "markdown",
   "metadata": {},
   "source": [
    "Lets visualize again the data"
   ]
  },
  {
   "cell_type": "code",
   "execution_count": 56,
   "metadata": {},
   "outputs": [
    {
     "data": {
      "text/plain": [
       "<matplotlib.axes._subplots.AxesSubplot at 0x19f6968eac8>"
      ]
     },
     "execution_count": 56,
     "metadata": {},
     "output_type": "execute_result"
    },
    {
     "data": {
      "image/png": "[encoded data removed]",
      "text/plain": [
       "<Figure size 1008x432 with 1 Axes>"
      ]
     },
     "metadata": {
      "needs_background": "light"
     },
     "output_type": "display_data"
    }
   ],
   "source": [
    "#histogram\n",
    "f, ax = plt.subplots(figsize=(14, 6))\n",
    "sns.distplot(train['target'])"
   ]
  },
  {
   "cell_type": "code",
   "execution_count": 64,
   "metadata": {},
   "outputs": [
    {
     "data": {
      "image/png": "[encoded data removed]",
      "text/plain": [
       "<Figure size 720x360 with 3 Axes>"
      ]
     },
     "metadata": {
      "needs_background": "light"
     },
     "output_type": "display_data"
    }
   ],
   "source": [
    "outliers = train.loc[train['target']< -8]\n",
    "\n",
    "non_outliers = train.loc[train['target'] >= -8]\n",
    "\n",
    "plt.figure(figsize=[10,5])\n",
    "plt.suptitle('Outlier vs. non-outlier feature distributions', fontsize=20, y=1.1)\n",
    "\n",
    "for num, col in enumerate(['feature_1', 'feature_2', 'feature_3']):\n",
    "    plt.subplot(2, 3, num+1)\n",
    "    v_c = non_outliers[col].value_counts() / non_outliers.shape[0]\n",
    "    plt.bar(v_c.index, v_c, label=('non-outliers'), align='edge', width=-0.3, edgecolor=[0.2]*3)\n",
    "    v_c = outliers[col].value_counts() / outliers.shape[0]\n",
    "    plt.bar(v_c.index, v_c, label=('outliers'), align='edge', width=0.3, edgecolor=[0.2]*3)\n",
    "    plt.title(col)\n",
    "    plt.legend()\n",
    "\n",
    "plt.tight_layout()\n",
    "plt.show()\n",
    "\n"
   ]
  },
  {
   "cell_type": "markdown",
   "metadata": {
    "colab_type": "text",
    "id": "Z0rb9vQ0YY1E"
   },
   "source": [
    "Done normalizing. Lets Create the embedding model"
   ]
  },
  {
   "cell_type": "code",
   "execution_count": 66,
   "metadata": {},
   "outputs": [],
   "source": [
    "n_feature_3 = train.feature_3.nunique()\n",
    "n_feature_2 = train.feature_2.nunique()\n",
    "n_feature_1 = train.feature_1.nunique()\n",
    "\n",
    "n_factors = 3"
   ]
  },
  {
   "cell_type": "code",
   "execution_count": 67,
   "metadata": {},
   "outputs": [],
   "source": [
    "feature_3_in = Input(shape=(1,))\n",
    "feature_3_emb = Embedding(n_feature_3, n_factors, input_length=1, embeddings_regularizer=l2(1e-4))(feature_3_in)\n",
    "feature_2_in = Input(shape=(1,))\n",
    "feature_2_emb = Embedding(n_feature_2, n_factors, input_length=1, embeddings_regularizer=l2(1e-4))(feature_2_in)\n",
    "feature_1_in = Input(shape=(1,))\n",
    "feature_1_emb = Embedding(n_feature_1, n_factors, input_length=1, embeddings_regularizer=l2(1e-4))(feature_1_in)\n"
   ]
  },
  {
   "cell_type": "code",
   "execution_count": 79,
   "metadata": {
    "collapsed": true
   },
   "outputs": [
    {
     "name": "stdout",
     "output_type": "stream",
     "text": [
      "Train on 163298 samples, validate on 40826 samples\n",
      "Epoch 1/200\n",
      "163298/163298 [==============================] - 32s 196us/step - loss: 1.7576 - acc: 0.0000e+00 - val_loss: 1.8040 - val_acc: 0.0000e+00\n",
      "\n",
      "Epoch 00001: val_loss improved from inf to 1.80396, saving model to saved_models/embeddingToLoyalityOnlyOrigFeatures.df5\n",
      "Epoch 2/200\n",
      "163298/163298 [==============================] - 25s 155us/step - loss: 1.7576 - acc: 0.0000e+00 - val_loss: 1.8032 - val_acc: 0.0000e+00\n",
      "\n",
      "Epoch 00002: val_loss improved from 1.80396 to 1.80324, saving model to saved_models/embeddingToLoyalityOnlyOrigFeatures.df5\n",
      "Epoch 3/200\n",
      "163298/163298 [==============================] - 26s 160us/step - loss: 1.7575 - acc: 0.0000e+00 - val_loss: 1.8032 - val_acc: 0.0000e+00\n",
      "\n",
      "Epoch 00003: val_loss improved from 1.80324 to 1.80321, saving model to saved_models/embeddingToLoyalityOnlyOrigFeatures.df5\n",
      "Epoch 4/200\n",
      "163298/163298 [==============================] - 28s 171us/step - loss: 1.7576 - acc: 0.0000e+00 - val_loss: 1.8041 - val_acc: 0.0000e+00\n",
      "\n",
      "Epoch 00004: val_loss did not improve from 1.80321\n",
      "Epoch 5/200\n",
      "163298/163298 [==============================] - 27s 167us/step - loss: 1.7576 - acc: 0.0000e+00 - val_loss: 1.8032 - val_acc: 0.0000e+00\n",
      "\n",
      "Epoch 00005: val_loss improved from 1.80321 to 1.80321, saving model to saved_models/embeddingToLoyalityOnlyOrigFeatures.df5\n",
      "Epoch 6/200\n",
      "163298/163298 [==============================] - 26s 157us/step - loss: 1.7576 - acc: 0.0000e+00 - val_loss: 1.8034 - val_acc: 0.0000e+00\n",
      "\n",
      "Epoch 00006: val_loss did not improve from 1.80321\n",
      "Epoch 7/200\n",
      "163298/163298 [==============================] - 25s 153us/step - loss: 1.7576 - acc: 0.0000e+00 - val_loss: 1.8032 - val_acc: 0.0000e+00\n",
      "\n",
      "Epoch 00007: val_loss did not improve from 1.80321\n",
      "Epoch 8/200\n",
      "163298/163298 [==============================] - 25s 152us/step - loss: 1.7575 - acc: 0.0000e+00 - val_loss: 1.8032 - val_acc: 0.0000e+00\n",
      "\n",
      "Epoch 00008: val_loss did not improve from 1.80321\n",
      "Epoch 9/200\n",
      "163298/163298 [==============================] - 25s 154us/step - loss: 1.7576 - acc: 0.0000e+00 - val_loss: 1.8039 - val_acc: 0.0000e+00\n",
      "\n",
      "Epoch 00009: val_loss did not improve from 1.80321\n",
      "Epoch 10/200\n",
      "163298/163298 [==============================] - 24s 150us/step - loss: 1.7576 - acc: 0.0000e+00 - val_loss: 1.8033 - val_acc: 0.0000e+00\n",
      "\n",
      "Epoch 00010: val_loss did not improve from 1.80321\n"
     ]
    },
    {
     "data": {
      "text/plain": [
       "<keras.callbacks.History at 0x19f69ea1908>"
      ]
     },
     "execution_count": 79,
     "metadata": {},
     "output_type": "execute_result"
    }
   ],
   "source": [
    "from keras.callbacks import TensorBoard, ModelCheckpoint, EarlyStopping\n",
    "from keras.utils import to_categorical\n",
    "\n",
    "features = ['feature_3', 'feature_2', 'feature_1']\n",
    "\n",
    "lenTrain = int(len(train) *0.8)\n",
    "lenOutliers = int(len(outliers) *0.8)\n",
    "\n",
    "newTrainLimit = lenTrain\n",
    "\n",
    "x = concatenate([feature_3_emb,feature_2_emb,feature_1_emb])\n",
    "\n",
    "x = Flatten()(x)\n",
    "\n",
    "x = BatchNormalization()(x)\n",
    "x = Dense(10,activation='relu',kernel_initializer='uniform')(x)\n",
    "x = Dense(10,activation='relu',kernel_initializer='uniform')(x)\n",
    "x = Dropout(0.4)(x)\n",
    "x = BatchNormalization()(x)\n",
    "x = Dense(10,activation='relu',kernel_initializer='uniform')(x)\n",
    "x = Dense(10,activation='relu',kernel_initializer='uniform')(x)\n",
    "x = Dropout(0.7)(x)\n",
    "x = Dense(1,kernel_initializer='uniform')(x)\n",
    "\n",
    "model = Model([feature_3_in,feature_2_in,feature_1_in], x)\n",
    "\n",
    "#     model.compile(Adam(0.001), loss='categorical_crossentropy')\n",
    "model.compile(loss = 'mse',optimizer='sgd')\n",
    "\n",
    "outliers = train.loc[train['target']< -8]\n",
    "non_outliers = train.loc[train['target'] >= -8]\n",
    "newTrainLimit= int(len(non_outliers) *0.8)\n",
    "lenOutliers = int(len(outliers) *0.8)\n",
    "\n",
    "x_train = (non_outliers[:newTrainLimit] ).append(outliers[:lenOutliers] )\n",
    "y_train = non_outliers[['target']][:newTrainLimit].append(outliers[['target']][:lenOutliers])\n",
    "x_val= (non_outliers[newTrainLimit:]).append(outliers[lenOutliers:] )\n",
    "y_val = non_outliers[['target']][newTrainLimit:].append(outliers[['target']][lenOutliers:])\n",
    "\n",
    "early_stopping = EarlyStopping(monitor='val_loss', patience=5)\n",
    "\n",
    "checkpointer = ModelCheckpoint(filepath=f'saved_models/embeddingToLoyalityOnlyOrigFeatures.df5', \n",
    "                               verbose=1, save_best_only=True)\n",
    "\n",
    "\n",
    "model.fit([x_train[f] for f in features], y_train, batch_size=64,\n",
    "          epochs=50,\n",
    "          validation_data=[[x_val[f] for f in features], y_val], \n",
    "          callbacks=[checkpointer,early_stopping]\n",
    "         )"
   ]
  },
  {
   "cell_type": "markdown",
   "metadata": {},
   "source": [
    "Ok, so we've got val loss of 1.8033, lets check the real rmse for the non normalized values"
   ]
  },
  {
   "cell_type": "code",
   "execution_count": 92,
   "metadata": {},
   "outputs": [],
   "source": [
    "nonNormalizedTrain = pd.read_csv(\"./all/train.csv\", parse_dates=[\"first_active_month\"])\n",
    "nonNormalizedOutliers = nonNormalizedTrain.loc[train['target']< -8]\n",
    "\n",
    "y_valNonNor = nonNormalizedTrain[['target']][newTrainLimit:].append(nonNormalizedOutliers[['target']][lenOutliers:])\n",
    "\n",
    "model.load_weights('saved_models/embeddingToLoyalityOnlyOrigFeatures.df5')\n",
    "pred = model.predict([x_val[f] for f in features])"
   ]
  },
  {
   "cell_type": "code",
   "execution_count": 97,
   "metadata": {},
   "outputs": [
    {
     "name": "stdout",
     "output_type": "stream",
     "text": [
      "CV score: 5.17058 \n"
     ]
    }
   ],
   "source": [
    "predUnNormalized = (pred *stdt) +meant\n",
    "\n",
    "print(\"CV score: {:<8.5f}\".format(np.sqrt(mean_squared_error(predUnNormalized, y_valNonNor))))"
   ]
  },
  {
   "cell_type": "code",
   "execution_count": 108,
   "metadata": {},
   "outputs": [
    {
     "name": "stdout",
     "output_type": "stream",
     "text": [
      "CV score: 5.22562 \n"
     ]
    }
   ],
   "source": [
    "print(\"CV score: {:<8.5f}\".format(np.sqrt(mean_squared_error(np.zeros((len(y_valNonNor))), y_valNonNor))))"
   ]
  },
  {
   "cell_type": "code",
   "execution_count": 111,
   "metadata": {},
   "outputs": [
    {
     "name": "stdout",
     "output_type": "stream",
     "text": [
      "[-0.74800634 -0.7479886  -0.7479714  -0.74794364 -0.74791443 -0.74789447\n",
      " -0.7478897 ]\n"
     ]
    }
   ],
   "source": [
    "print(np.unique(predUnNormalized))"
   ]
  },
  {
   "cell_type": "markdown",
   "metadata": {},
   "source": [
    "Our CV score is very bad (but a bit better then submitting zero for every prediction).<br>\n",
    "We can also see that the model predict only 7 unique loyalty scores which are very close to each other."
   ]
  },
  {
   "cell_type": "markdown",
   "metadata": {},
   "source": [
    "We can say that these 3 features alone doesnt contain good enough signal for predicting loyalty score"
   ]
  },
  {
   "cell_type": "markdown",
   "metadata": {},
   "source": [
    "## Adding more features to DL regressor with Embedding"
   ]
  },
  {
   "cell_type": "markdown",
   "metadata": {},
   "source": [
    "We can use the aggregated features we found in transaction files to try to improve our embedding model.<br>\n",
    "We chose to took the 30 most categorical out of them (the 30 with least amount of unique values)"
   ]
  },
  {
   "cell_type": "code",
   "execution_count": 128,
   "metadata": {},
   "outputs": [],
   "source": [
    "n_feature_3 = train.feature_3.nunique()\n",
    "n_new_month_lag_min = train.new_month_lag_min.nunique()\n",
    "n_new_month_lag_max = train.new_month_lag_max.nunique()\n",
    "n_feature_2 = train.feature_2.nunique()\n",
    "n_feature_1 = train.feature_1.nunique()\n",
    "n_hist_state_id_nunique = train.hist_state_id_nunique.nunique()\n",
    "n_auth_installments_min = train.auth_installments_min.nunique()\n",
    "n_auth_purchase_month_max = train.auth_purchase_month_max.nunique()\n",
    "n_auth_purchase_month_min = train.auth_purchase_month_min.nunique()\n",
    "n_hist_purchase_month_max = train.hist_purchase_month_max.nunique()\n",
    "n_hist_purchase_month_min = train.hist_purchase_month_min.nunique()\n",
    "n_auth_month_lag_max = train.auth_month_lag_max.nunique()\n",
    "n_new_purchase_month_max = train.new_purchase_month_max.nunique()\n",
    "n_new_purchase_month_min = train.new_purchase_month_min.nunique()\n",
    "n_auth_month_lag_min = train.auth_month_lag_min.nunique()\n",
    "n_new_state_id_nunique = train.new_state_id_nunique.nunique()\n",
    "n_hist_month_lag_min = train.hist_month_lag_min.nunique()\n",
    "n_hist_month_lag_max = train.hist_month_lag_max.nunique()\n",
    "n_auth_installments_max = train.auth_installments_max.nunique()\n",
    "n_new_installments_min = train.new_installments_min.nunique()\n",
    "n_hist_installments_max = train.hist_installments_max.nunique()\n",
    "n_hist_installments_min = train.hist_installments_min.nunique()\n",
    "n_new_installments_max = train.new_installments_max.nunique()\n",
    "n_new_category_1_sum = train.new_category_1_sum.nunique()\n",
    "n_hist_city_id_nunique = train.hist_city_id_nunique.nunique()\n",
    "n_auth_state_id_nunique = train.auth_state_id_nunique.nunique()\n",
    "n_hist_subsector_id_nunique = train.hist_subsector_id_nunique.nunique()\n",
    "n_new_subsector_id_nunique = train.new_subsector_id_nunique.nunique()\n",
    "n_new_city_id_nunique = train.new_city_id_nunique.nunique()\n",
    "n_hist_merchant_category_id_nunique = train.hist_merchant_category_id_nunique.nunique()\n",
    "n_auth_subsector_id_nunique = train.auth_subsector_id_nunique.nunique()\n",
    "n_new_merchant_category_id_nunique = train.new_merchant_category_id_nunique.nunique()\n",
    "n_auth_category_3_A_mean = train.auth_category_3_A_mean.nunique()\n",
    "n_hist_merchant_id_nunique = train.hist_merchant_id_nunique.nunique()\n",
    "n_auth_city_id_nunique = train.auth_city_id_nunique.nunique()\n",
    "n_new_transactions_count = train.new_transactions_count.nunique()\n",
    "n_new_merchant_id_nunique = train.new_merchant_id_nunique.nunique()\n",
    "n_auth_merchant_category_id_nunique = train.auth_merchant_category_id_nunique.nunique()\n",
    "n_new_installments_sum = train.new_installments_sum.nunique()\n",
    "n_hist_category_1_sum = train.hist_category_1_sum.nunique()\n",
    "n_hist_transactions_count = train.hist_transactions_count.nunique()\n",
    "n_new_category_1_mean = train.new_category_1_mean.nunique()\n",
    "n_new_category_3_A_mean = train.new_category_3_A_mean.nunique()\n",
    "n_month_lag_mean = train.month_lag_mean.nunique()\n",
    "n_auth_merchant_id_nunique = train.auth_merchant_id_nunique.nunique()\n",
    "n_auth_category_1_sum = train.auth_category_1_sum.nunique()\n",
    "n_new_category_3_C_mean = train.new_category_3_C_mean.nunique()\n",
    "\n",
    "\n",
    "n_factors = 3"
   ]
  },
  {
   "cell_type": "code",
   "execution_count": null,
   "metadata": {},
   "outputs": [],
   "source": []
  },
  {
   "cell_type": "code",
   "execution_count": 130,
   "metadata": {},
   "outputs": [],
   "source": [
    "feature_3_in = Input(shape=(1,))\n",
    "feature_3_emb = Embedding(n_feature_3, n_factors, input_length=1, embeddings_regularizer=l2(1e-4))(feature_3_in)\n",
    "new_month_lag_min_in = Input(shape=(1,))\n",
    "new_month_lag_min_emb = Embedding(n_new_month_lag_min, n_factors, input_length=1, embeddings_regularizer=l2(1e-4))(new_month_lag_min_in)\n",
    "new_month_lag_max_in = Input(shape=(1,))\n",
    "new_month_lag_max_emb = Embedding(n_new_month_lag_max, n_factors, input_length=1, embeddings_regularizer=l2(1e-4))(new_month_lag_max_in)\n",
    "feature_2_in = Input(shape=(1,))\n",
    "feature_2_emb = Embedding(n_feature_2, n_factors, input_length=1, embeddings_regularizer=l2(1e-4))(feature_2_in)\n",
    "feature_1_in = Input(shape=(1,))\n",
    "feature_1_emb = Embedding(n_feature_1, n_factors, input_length=1, embeddings_regularizer=l2(1e-4))(feature_1_in)\n",
    "hist_state_id_nunique_in = Input(shape=(1,))\n",
    "hist_state_id_nunique_emb = Embedding(n_hist_state_id_nunique, n_factors, input_length=1, embeddings_regularizer=l2(1e-4))(hist_state_id_nunique_in)\n",
    "auth_installments_min_in = Input(shape=(1,))\n",
    "auth_installments_min_emb = Embedding(n_auth_installments_min, n_factors, input_length=1, embeddings_regularizer=l2(1e-4))(auth_installments_min_in)\n",
    "auth_purchase_month_max_in = Input(shape=(1,))\n",
    "auth_purchase_month_max_emb = Embedding(n_auth_purchase_month_max, n_factors, input_length=1, embeddings_regularizer=l2(1e-4))(auth_purchase_month_max_in)\n",
    "auth_purchase_month_min_in = Input(shape=(1,))\n",
    "auth_purchase_month_min_emb = Embedding(n_auth_purchase_month_min, n_factors, input_length=1, embeddings_regularizer=l2(1e-4))(auth_purchase_month_min_in)\n",
    "hist_purchase_month_max_in = Input(shape=(1,))\n",
    "hist_purchase_month_max_emb = Embedding(n_hist_purchase_month_max, n_factors, input_length=1, embeddings_regularizer=l2(1e-4))(hist_purchase_month_max_in)\n",
    "hist_purchase_month_min_in = Input(shape=(1,))\n",
    "hist_purchase_month_min_emb = Embedding(n_hist_purchase_month_min, n_factors, input_length=1, embeddings_regularizer=l2(1e-4))(hist_purchase_month_min_in)\n",
    "auth_month_lag_max_in = Input(shape=(1,))\n",
    "auth_month_lag_max_emb = Embedding(n_auth_month_lag_max, n_factors, input_length=1, embeddings_regularizer=l2(1e-4))(auth_month_lag_max_in)\n",
    "new_purchase_month_max_in = Input(shape=(1,))\n",
    "new_purchase_month_max_emb = Embedding(n_new_purchase_month_max, n_factors, input_length=1, embeddings_regularizer=l2(1e-4))(new_purchase_month_max_in)\n",
    "new_purchase_month_min_in = Input(shape=(1,))\n",
    "new_purchase_month_min_emb = Embedding(n_new_purchase_month_min, n_factors, input_length=1, embeddings_regularizer=l2(1e-4))(new_purchase_month_min_in)\n",
    "auth_month_lag_min_in = Input(shape=(1,))\n",
    "auth_month_lag_min_emb = Embedding(n_auth_month_lag_min, n_factors, input_length=1, embeddings_regularizer=l2(1e-4))(auth_month_lag_min_in)\n",
    "new_state_id_nunique_in = Input(shape=(1,))\n",
    "new_state_id_nunique_emb = Embedding(n_new_state_id_nunique, n_factors, input_length=1, embeddings_regularizer=l2(1e-4))(new_state_id_nunique_in)\n",
    "hist_month_lag_min_in = Input(shape=(1,))\n",
    "hist_month_lag_min_emb = Embedding(n_hist_month_lag_min, n_factors, input_length=1, embeddings_regularizer=l2(1e-4))(hist_month_lag_min_in)\n",
    "hist_month_lag_max_in = Input(shape=(1,))\n",
    "hist_month_lag_max_emb = Embedding(n_hist_month_lag_max, n_factors, input_length=1, embeddings_regularizer=l2(1e-4))(hist_month_lag_max_in)\n",
    "auth_installments_max_in = Input(shape=(1,))\n",
    "auth_installments_max_emb = Embedding(n_auth_installments_max, n_factors, input_length=1, embeddings_regularizer=l2(1e-4))(auth_installments_max_in)\n",
    "new_installments_min_in = Input(shape=(1,))\n",
    "new_installments_min_emb = Embedding(n_new_installments_min, n_factors, input_length=1, embeddings_regularizer=l2(1e-4))(new_installments_min_in)\n",
    "hist_installments_max_in = Input(shape=(1,))\n",
    "hist_installments_max_emb = Embedding(n_hist_installments_max, n_factors, input_length=1, embeddings_regularizer=l2(1e-4))(hist_installments_max_in)\n",
    "hist_installments_min_in = Input(shape=(1,))\n",
    "hist_installments_min_emb = Embedding(n_hist_installments_min, n_factors, input_length=1, embeddings_regularizer=l2(1e-4))(hist_installments_min_in)\n",
    "new_installments_max_in = Input(shape=(1,))\n",
    "new_installments_max_emb = Embedding(n_new_installments_max, n_factors, input_length=1, embeddings_regularizer=l2(1e-4))(new_installments_max_in)\n",
    "new_category_1_sum_in = Input(shape=(1,))\n",
    "new_category_1_sum_emb = Embedding(n_new_category_1_sum, n_factors, input_length=1, embeddings_regularizer=l2(1e-4))(new_category_1_sum_in)\n",
    "hist_city_id_nunique_in = Input(shape=(1,))\n",
    "hist_city_id_nunique_emb = Embedding(n_hist_city_id_nunique, n_factors, input_length=1, embeddings_regularizer=l2(1e-4))(hist_city_id_nunique_in)\n",
    "auth_state_id_nunique_in = Input(shape=(1,))\n",
    "auth_state_id_nunique_emb = Embedding(n_auth_state_id_nunique, n_factors, input_length=1, embeddings_regularizer=l2(1e-4))(auth_state_id_nunique_in)\n",
    "hist_subsector_id_nunique_in = Input(shape=(1,))\n",
    "hist_subsector_id_nunique_emb = Embedding(n_hist_subsector_id_nunique, n_factors, input_length=1, embeddings_regularizer=l2(1e-4))(hist_subsector_id_nunique_in)\n",
    "new_subsector_id_nunique_in = Input(shape=(1,))\n",
    "new_subsector_id_nunique_emb = Embedding(n_new_subsector_id_nunique, n_factors, input_length=1, embeddings_regularizer=l2(1e-4))(new_subsector_id_nunique_in)\n",
    "new_city_id_nunique_in = Input(shape=(1,))\n",
    "new_city_id_nunique_emb = Embedding(n_new_city_id_nunique, n_factors, input_length=1, embeddings_regularizer=l2(1e-4))(new_city_id_nunique_in)\n",
    "hist_merchant_category_id_nunique_in = Input(shape=(1,))\n",
    "hist_merchant_category_id_nunique_emb = Embedding(n_hist_merchant_category_id_nunique, n_factors, input_length=1, embeddings_regularizer=l2(1e-4))(hist_merchant_category_id_nunique_in)\n",
    "auth_subsector_id_nunique_in = Input(shape=(1,))\n",
    "auth_subsector_id_nunique_emb = Embedding(n_auth_subsector_id_nunique, n_factors, input_length=1, embeddings_regularizer=l2(1e-4))(auth_subsector_id_nunique_in)\n",
    "new_merchant_category_id_nunique_in = Input(shape=(1,))\n",
    "new_merchant_category_id_nunique_emb = Embedding(n_new_merchant_category_id_nunique, n_factors, input_length=1, embeddings_regularizer=l2(1e-4))(new_merchant_category_id_nunique_in)\n",
    "auth_category_3_A_mean_in = Input(shape=(1,))\n",
    "auth_category_3_A_mean_emb = Embedding(n_auth_category_3_A_mean, n_factors, input_length=1, embeddings_regularizer=l2(1e-4))(auth_category_3_A_mean_in)\n",
    "hist_merchant_id_nunique_in = Input(shape=(1,))\n",
    "hist_merchant_id_nunique_emb = Embedding(n_hist_merchant_id_nunique, n_factors, input_length=1, embeddings_regularizer=l2(1e-4))(hist_merchant_id_nunique_in)\n",
    "auth_city_id_nunique_in = Input(shape=(1,))\n",
    "auth_city_id_nunique_emb = Embedding(n_auth_city_id_nunique, n_factors, input_length=1, embeddings_regularizer=l2(1e-4))(auth_city_id_nunique_in)\n",
    "\n",
    "new_transactions_count_in = Input(shape=(1,))\n",
    "new_transactions_count_emb = Embedding(n_new_transactions_count, n_factors, input_length=1, embeddings_regularizer=l2(1e-4))(new_transactions_count_in)\n",
    "new_merchant_id_nunique_in = Input(shape=(1,))\n",
    "new_merchant_id_nunique_emb = Embedding(n_new_merchant_id_nunique, n_factors, input_length=1, embeddings_regularizer=l2(1e-4))(new_merchant_id_nunique_in)\n",
    "auth_merchant_category_id_nunique_in = Input(shape=(1,))\n",
    "auth_merchant_category_id_nunique_emb = Embedding(n_auth_merchant_category_id_nunique, n_factors, input_length=1, embeddings_regularizer=l2(1e-4))(auth_merchant_category_id_nunique_in)\n",
    "new_installments_sum_in = Input(shape=(1,))\n",
    "new_installments_sum_emb = Embedding(n_new_installments_sum, n_factors, input_length=1, embeddings_regularizer=l2(1e-4))(new_installments_sum_in)\n",
    "hist_category_1_sum_in = Input(shape=(1,))\n",
    "hist_category_1_sum_emb = Embedding(n_hist_category_1_sum, n_factors, input_length=1, embeddings_regularizer=l2(1e-4))(hist_category_1_sum_in)\n",
    "hist_transactions_count_in = Input(shape=(1,))\n",
    "hist_transactions_count_emb = Embedding(n_hist_transactions_count, n_factors, input_length=1, embeddings_regularizer=l2(1e-4))(hist_transactions_count_in)\n",
    "new_category_1_mean_in = Input(shape=(1,))\n",
    "new_category_1_mean_emb = Embedding(n_new_category_1_mean, n_factors, input_length=1, embeddings_regularizer=l2(1e-4))(new_category_1_mean_in)\n",
    "new_category_3_A_mean_in = Input(shape=(1,))\n",
    "new_category_3_A_mean_emb = Embedding(n_new_category_3_A_mean, n_factors, input_length=1, embeddings_regularizer=l2(1e-4))(new_category_3_A_mean_in)\n",
    "month_lag_mean_in = Input(shape=(1,))\n",
    "month_lag_mean_emb = Embedding(n_month_lag_mean, n_factors, input_length=1, embeddings_regularizer=l2(1e-4))(month_lag_mean_in)\n",
    "auth_merchant_id_nunique_in = Input(shape=(1,))\n",
    "auth_merchant_id_nunique_emb = Embedding(n_auth_merchant_id_nunique, n_factors, input_length=1, embeddings_regularizer=l2(1e-4))(auth_merchant_id_nunique_in)\n",
    "auth_category_1_sum_in = Input(shape=(1,))\n",
    "auth_category_1_sum_emb = Embedding(n_auth_category_1_sum, n_factors, input_length=1, embeddings_regularizer=l2(1e-4))(auth_category_1_sum_in)\n",
    "new_category_3_C_mean_in = Input(shape=(1,))\n",
    "new_category_3_C_mean_emb = Embedding(n_new_category_3_C_mean, n_factors, input_length=1, embeddings_regularizer=l2(1e-4))(new_category_3_C_mean_in)\n",
    "\n"
   ]
  },
  {
   "cell_type": "code",
   "execution_count": 135,
   "metadata": {},
   "outputs": [],
   "source": [
    "from keras.callbacks import TensorBoard, ModelCheckpoint, EarlyStopping\n",
    "from keras.utils import to_categorical\n",
    "\n",
    "features = ['feature_3', 'new_month_lag_min', 'new_month_lag_max', 'feature_2', 'feature_1', 'hist_state_id_nunique',\n",
    "                'auth_installments_min', 'auth_purchase_month_max', 'auth_purchase_month_min', 'hist_purchase_month_max',\n",
    "                'hist_purchase_month_min', 'auth_month_lag_max', 'new_purchase_month_max', 'new_purchase_month_min',\n",
    "                'auth_month_lag_min', 'new_state_id_nunique', 'hist_month_lag_min', 'hist_month_lag_max', 'auth_installments_max',\n",
    "                'new_installments_min', 'hist_installments_max', 'hist_installments_min', 'new_installments_max', 'new_category_1_sum',\n",
    "                'hist_city_id_nunique', 'auth_state_id_nunique', 'hist_subsector_id_nunique', 'new_subsector_id_nunique', \n",
    "                'new_city_id_nunique', 'hist_merchant_category_id_nunique', 'auth_subsector_id_nunique', 'new_merchant_category_id_nunique', \n",
    "                'auth_category_3_A_mean', 'hist_merchant_id_nunique', 'auth_city_id_nunique',\n",
    "                'new_transactions_count', 'new_merchant_id_nunique', 'auth_merchant_category_id_nunique', 'new_installments_sum', \n",
    "                'hist_category_1_sum', 'hist_transactions_count', 'new_category_1_mean', 'new_category_3_A_mean', 'month_lag_mean',\n",
    "                'auth_merchant_id_nunique', 'auth_category_1_sum', 'new_category_3_C_mean']\n",
    "\n",
    "lenTrain = int(len(train) *0.8)\n",
    "lenOutliers = int(len(outliers) *0.8)\n",
    "\n",
    "newTrainLimit = lenOutliers\n",
    "\n",
    "\n",
    "x = concatenate([feature_3_emb,new_month_lag_min_emb,new_month_lag_max_emb,feature_2_emb,feature_1_emb,hist_state_id_nunique_emb,auth_installments_min_emb,auth_purchase_month_max_emb,auth_purchase_month_min_emb,hist_purchase_month_max_emb,hist_purchase_month_min_emb,auth_month_lag_max_emb,new_purchase_month_max_emb,new_purchase_month_min_emb,auth_month_lag_min_emb,new_state_id_nunique_emb,hist_month_lag_min_emb,hist_month_lag_max_emb,auth_installments_max_emb,new_installments_min_emb,hist_installments_max_emb,hist_installments_min_emb,new_installments_max_emb,new_category_1_sum_emb,hist_city_id_nunique_emb,auth_state_id_nunique_emb,hist_subsector_id_nunique_emb,new_subsector_id_nunique_emb,new_city_id_nunique_emb,hist_merchant_category_id_nunique_emb,auth_subsector_id_nunique_emb,new_merchant_category_id_nunique_emb,auth_category_3_A_mean_emb,hist_merchant_id_nunique_emb,auth_city_id_nunique_emb,new_transactions_count_emb,new_merchant_id_nunique_emb,auth_merchant_category_id_nunique_emb,new_installments_sum_emb,hist_category_1_sum_emb,hist_transactions_count_emb,new_category_1_mean_emb,new_category_3_A_mean_emb,month_lag_mean_emb,auth_merchant_id_nunique_emb,auth_category_1_sum_emb,new_category_3_C_mean_emb])\n",
    "\n",
    "x = Flatten()(x)\n",
    "x = BatchNormalization()(x)\n",
    "x = Dense(10,activation='relu',kernel_initializer='uniform')(x)\n",
    "x = Dense(10,activation='relu',kernel_initializer='uniform')(x)\n",
    "x = Dropout(0.4)(x)\n",
    "x = BatchNormalization()(x)\n",
    "x = Dense(10,activation='relu',kernel_initializer='uniform')(x)\n",
    "x = Dense(10,activation='relu',kernel_initializer='uniform')(x)\n",
    "x = Dropout(0.7)(x)\n",
    "x = Dense(1,kernel_initializer='uniform')(x)\n",
    "\n",
    "model = Model([feature_3_in,new_month_lag_min_in,new_month_lag_max_in,feature_2_in,feature_1_in,hist_state_id_nunique_in,auth_installments_min_in,auth_purchase_month_max_in,auth_purchase_month_min_in,hist_purchase_month_max_in,hist_purchase_month_min_in,auth_month_lag_max_in,new_purchase_month_max_in,new_purchase_month_min_in,auth_month_lag_min_in,new_state_id_nunique_in,hist_month_lag_min_in,hist_month_lag_max_in,auth_installments_max_in,new_installments_min_in,hist_installments_max_in,hist_installments_min_in,new_installments_max_in,new_category_1_sum_in,hist_city_id_nunique_in,auth_state_id_nunique_in,hist_subsector_id_nunique_in,new_subsector_id_nunique_in,new_city_id_nunique_in,hist_merchant_category_id_nunique_in,auth_subsector_id_nunique_in,new_merchant_category_id_nunique_in,auth_category_3_A_mean_in,hist_merchant_id_nunique_in,auth_city_id_nunique_in,new_transactions_count_in,new_merchant_id_nunique_in,auth_merchant_category_id_nunique_in,new_installments_sum_in,hist_category_1_sum_in,hist_transactions_count_in,new_category_1_mean_in,new_category_3_A_mean_in,month_lag_mean_in,auth_merchant_id_nunique_in,auth_category_1_sum_in,new_category_3_C_mean_in], x)\n",
    "\n",
    "#     model.compile(Adam(0.001), loss='categorical_crossentropy')\n",
    "model.compile(loss = 'mse',optimizer='sgd')\n",
    "    \n",
    "outliers = train.loc[train['target']< -8]\n",
    "non_outliers = train.loc[train['target'] >= -8]\n",
    "newTrainLimit= int(len(non_outliers) *0.8)\n",
    "lenOutliers = int(len(outliers) *0.8)\n",
    "\n",
    "x_train = (non_outliers[:newTrainLimit] ).append(outliers[:lenOutliers] )\n",
    "y_train = non_outliers[['target']][:newTrainLimit].append(outliers[['target']][:lenOutliers])\n",
    "x_val= (non_outliers[newTrainLimit:]).append(outliers[lenOutliers:] )\n",
    "y_val = non_outliers[['target']][newTrainLimit:].append(outliers[['target']][lenOutliers:])\n",
    "early_stopping = EarlyStopping(monitor='val_loss', patience=10)\n",
    "\n",
    "checkpointer = ModelCheckpoint(filepath=f'saved_models/weights.embeddingToLoyality.df5', \n",
    "                                   verbose=1, save_best_only=True)"
   ]
  },
  {
   "cell_type": "code",
   "execution_count": 136,
   "metadata": {
    "scrolled": true
   },
   "outputs": [
    {
     "name": "stdout",
     "output_type": "stream",
     "text": [
      "Train on 3530 samples, validate on 200594 samples\n",
      "Epoch 1/50\n",
      "3530/3530 [==============================] - 30s 8ms/step - loss: 26.0031 - val_loss: 9.9694\n",
      "\n",
      "Epoch 00001: val_loss improved from inf to 9.96942, saving model to saved_models/weights.embeddingToLoyality.df5\n",
      "Epoch 2/50\n",
      "3530/3530 [==============================] - 25s 7ms/step - loss: 17.5806 - val_loss: 11.6921\n",
      "\n",
      "Epoch 00002: val_loss did not improve from 9.96942\n",
      "Epoch 3/50\n",
      "3530/3530 [==============================] - 25s 7ms/step - loss: 10.5530 - val_loss: 3.6191\n",
      "\n",
      "Epoch 00003: val_loss improved from 9.96942 to 3.61914, saving model to saved_models/weights.embeddingToLoyality.df5\n",
      "Epoch 4/50\n",
      "3530/3530 [==============================] - 25s 7ms/step - loss: 9.0365 - val_loss: 4.1736\n",
      "\n",
      "Epoch 00004: val_loss did not improve from 3.61914\n",
      "Epoch 5/50\n",
      "3530/3530 [==============================] - 25s 7ms/step - loss: 8.9625 - val_loss: 3.7029\n",
      "\n",
      "Epoch 00005: val_loss did not improve from 3.61914\n",
      "Epoch 6/50\n",
      "3530/3530 [==============================] - 25s 7ms/step - loss: 8.9853 - val_loss: 4.2252\n",
      "\n",
      "Epoch 00006: val_loss did not improve from 3.61914\n",
      "Epoch 7/50\n",
      "3530/3530 [==============================] - 24s 7ms/step - loss: 8.9484 - val_loss: 4.1941\n",
      "\n",
      "Epoch 00007: val_loss did not improve from 3.61914\n",
      "Epoch 8/50\n",
      "3530/3530 [==============================] - 25s 7ms/step - loss: 9.0480 - val_loss: 4.5346\n",
      "\n",
      "Epoch 00008: val_loss did not improve from 3.61914\n",
      "Epoch 9/50\n",
      "3530/3530 [==============================] - 24s 7ms/step - loss: 8.8063 - val_loss: 4.2639\n",
      "\n",
      "Epoch 00009: val_loss did not improve from 3.61914\n",
      "Epoch 10/50\n",
      "3530/3530 [==============================] - 25s 7ms/step - loss: 9.0485 - val_loss: 4.5715\n",
      "\n",
      "Epoch 00010: val_loss did not improve from 3.61914\n",
      "Epoch 11/50\n",
      "3530/3530 [==============================] - 24s 7ms/step - loss: 8.8689 - val_loss: 4.7618\n",
      "\n",
      "Epoch 00011: val_loss did not improve from 3.61914\n",
      "Epoch 12/50\n",
      "3530/3530 [==============================] - 25s 7ms/step - loss: 8.7885 - val_loss: 4.6460\n",
      "\n",
      "Epoch 00012: val_loss did not improve from 3.61914\n",
      "Epoch 13/50\n",
      "3530/3530 [==============================] - 25s 7ms/step - loss: 8.5837 - val_loss: 4.7127\n",
      "\n",
      "Epoch 00013: val_loss did not improve from 3.61914\n"
     ]
    },
    {
     "data": {
      "text/plain": [
       "<keras.callbacks.History at 0x1a0292f2278>"
      ]
     },
     "execution_count": 136,
     "metadata": {},
     "output_type": "execute_result"
    }
   ],
   "source": [
    " model.fit([x_train[f] for f in features], y_train, batch_size=64, epochs=50,\n",
    "              validation_data=[[x_val[f] for f in features], y_val], callbacks=[checkpointer,early_stopping])"
   ]
  },
  {
   "cell_type": "code",
   "execution_count": 139,
   "metadata": {},
   "outputs": [],
   "source": [
    "model.load_weights('saved_models/weights.embeddingToLoyality.df5')\n",
    "pred = model.predict([x_val[f] for f in features])"
   ]
  },
  {
   "cell_type": "code",
   "execution_count": null,
   "metadata": {},
   "outputs": [],
   "source": [
    "predUnNormalized = (pred *stdt) +meant\n",
    "\n",
    "print(\"CV score: {:<8.5f}\".format(np.sqrt(mean_squared_error(predUnNormalized, y_valNonNor))))"
   ]
  },
  {
   "cell_type": "code",
   "execution_count": 144,
   "metadata": {},
   "outputs": [
    {
     "name": "stdout",
     "output_type": "stream",
     "text": [
      "CV score: 5.22562 \n"
     ]
    }
   ],
   "source": [
    "print(\"CV score: {:<8.5f}\".format(np.sqrt(mean_squared_error(np.zeros((len(y_valNonNor))), y_valNonNor))))"
   ]
  },
  {
   "cell_type": "markdown",
   "metadata": {},
   "source": [
    "Still no big improvement. 😕"
   ]
  },
  {
   "cell_type": "markdown",
   "metadata": {},
   "source": [
    "## Embedding as feature extractor"
   ]
  },
  {
   "cell_type": "markdown",
   "metadata": {},
   "source": [
    "First Lets arrange our train and validation sets"
   ]
  },
  {
   "cell_type": "code",
   "execution_count": 194,
   "metadata": {},
   "outputs": [],
   "source": [
    "outliers = train.loc[train['target']< -8]\n",
    "non_outliers = train.loc[train['target'] >= -8]\n",
    "newTrainLimit= int(len(non_outliers) *0.8)\n",
    "lenOutliers = int(len(outliers) *0.8)\n",
    "\n",
    "x_train = (non_outliers[:newTrainLimit] ).append(outliers[:lenOutliers] )\n",
    "y_train = non_outliers[['target']][:newTrainLimit].append(outliers[['target']][:lenOutliers])\n",
    "x_val= (non_outliers[newTrainLimit:]).append(outliers[lenOutliers:] )\n",
    "y_val = non_outliers[['target']][newTrainLimit:].append(outliers[['target']][lenOutliers:])\n"
   ]
  },
  {
   "cell_type": "markdown",
   "metadata": {},
   "source": [
    "Creating a feature extractor from model with flatten as output layer"
   ]
  },
  {
   "cell_type": "code",
   "execution_count": 207,
   "metadata": {},
   "outputs": [],
   "source": [
    "output = model.get_layer(\"flatten_6\").output \n",
    "feature_extractor = Model(model.input, output)"
   ]
  },
  {
   "cell_type": "code",
   "execution_count": 211,
   "metadata": {},
   "outputs": [],
   "source": [
    "trainExtractedFeatures = feature_extractor.predict([x_train[f] for f in features])"
   ]
  },
  {
   "cell_type": "code",
   "execution_count": 216,
   "metadata": {},
   "outputs": [
    {
     "data": {
      "text/plain": [
       "LinearRegression(copy_X=True, fit_intercept=True, n_jobs=None,\n",
       "         normalize=False)"
      ]
     },
     "execution_count": 216,
     "metadata": {},
     "output_type": "execute_result"
    }
   ],
   "source": [
    "from sklearn.linear_model import LinearRegression\n",
    "\n",
    "linearRegression = LinearRegression()\n",
    "linearRegression.fit(trainExtractedFeatures, y_train)"
   ]
  },
  {
   "cell_type": "code",
   "execution_count": 220,
   "metadata": {},
   "outputs": [],
   "source": [
    "valExtractedFeatures = feature_extractor.predict([x_val[f] for f in features])"
   ]
  },
  {
   "cell_type": "code",
   "execution_count": 221,
   "metadata": {},
   "outputs": [],
   "source": [
    "preds = linearRegression.predict(valExtractedFeatures)"
   ]
  },
  {
   "cell_type": "code",
   "execution_count": 225,
   "metadata": {},
   "outputs": [
    {
     "name": "stdout",
     "output_type": "stream",
     "text": [
      "CV score: 0.98411 \n"
     ]
    }
   ],
   "source": [
    "print(\"CV score: {:<8.5f}\".format(np.sqrt(mean_squared_error(preds, y_val))))"
   ]
  },
  {
   "cell_type": "markdown",
   "metadata": {},
   "source": [
    "Nice! now Lets check CV score for deNormalized"
   ]
  },
  {
   "cell_type": "code",
   "execution_count": 227,
   "metadata": {},
   "outputs": [],
   "source": [
    "nonNormalizedTrain = pd.read_csv(\"./all/train.csv\", parse_dates=[\"first_active_month\"])\n",
    "\n",
    "nonNormalizedOutliers = nonNormalizedTrain.loc[train['target']< -8]\n",
    "nonNormalizedNon_outliers = nonNormalizedTrain.loc[train['target'] >= -8]\n",
    "newTrainLimit= int(len(nonNormalizedNon_outliers) *0.8)\n",
    "lenOutliers = int(len(nonNormalizedOutliers) *0.8)\n",
    "\n",
    "y_valNonNor = nonNormalizedNon_outliers[['target']][newTrainLimit:].append(nonNormalizedOutliers[['target']][lenOutliers:])\n"
   ]
  },
  {
   "cell_type": "code",
   "execution_count": 228,
   "metadata": {},
   "outputs": [
    {
     "name": "stdout",
     "output_type": "stream",
     "text": [
      "CV score: 3.78929 \n"
     ]
    }
   ],
   "source": [
    "predUnNormalized = (preds *stdt) +meant\n",
    "\n",
    "print(\"CV score: {:<8.5f}\".format(np.sqrt(mean_squared_error(predUnNormalized, y_valNonNor))))"
   ]
  },
  {
   "cell_type": "markdown",
   "metadata": {},
   "source": [
    "Nice improvement, even better then just submitting zeros, but still worse then our best result."
   ]
  },
  {
   "cell_type": "markdown",
   "metadata": {},
   "source": [
    "## Trying LGBM for fun"
   ]
  },
  {
   "cell_type": "code",
   "execution_count": 230,
   "metadata": {},
   "outputs": [],
   "source": [
    "lgbparam = {'num_leaves': 31,\n",
    "            'boosting_type': 'rf',\n",
    "             'min_data_in_leaf': 30, \n",
    "             'objective':'regression',\n",
    "             'max_depth': -1,\n",
    "             'learning_rate': 0.01,\n",
    "             \"min_child_samples\": 20,\n",
    "             \"boosting\": \"gbdt\",\n",
    "             \"feature_fraction\": 0.9,\n",
    "             \"bagging_freq\": 1,\n",
    "             \"bagging_fraction\": 0.9 ,\n",
    "             \"bagging_seed\": 11,\n",
    "             \"metric\": 'rmse',\n",
    "             \"lambda_l1\": 0.1,\n",
    "             \"verbosity\": -1,\n",
    "             \"nthread\": 4,\n",
    "             \"random_state\": 4590}"
   ]
  },
  {
   "cell_type": "code",
   "execution_count": 246,
   "metadata": {},
   "outputs": [],
   "source": [
    "trainExtractedFeatures = feature_extractor.predict([train[f] for f in features])"
   ]
  },
  {
   "cell_type": "code",
   "execution_count": 256,
   "metadata": {},
   "outputs": [],
   "source": [
    "target = train[['target']]"
   ]
  },
  {
   "cell_type": "code",
   "execution_count": 258,
   "metadata": {},
   "outputs": [
    {
     "name": "stdout",
     "output_type": "stream",
     "text": [
      "fold n°0\n",
      "Training until validation scores don't improve for 100 rounds.\n",
      "[100]\ttraining's rmse: 0.970054\tvalid_1's rmse: 0.983903\n",
      "[200]\ttraining's rmse: 0.955259\tvalid_1's rmse: 0.978601\n",
      "[300]\ttraining's rmse: 0.944874\tvalid_1's rmse: 0.976257\n",
      "[400]\ttraining's rmse: 0.936849\tvalid_1's rmse: 0.974875\n",
      "[500]\ttraining's rmse: 0.930045\tvalid_1's rmse: 0.974157\n",
      "[600]\ttraining's rmse: 0.923864\tvalid_1's rmse: 0.973537\n",
      "[700]\ttraining's rmse: 0.918467\tvalid_1's rmse: 0.973246\n",
      "[800]\ttraining's rmse: 0.913769\tvalid_1's rmse: 0.972923\n",
      "[900]\ttraining's rmse: 0.909348\tvalid_1's rmse: 0.972728\n",
      "[1000]\ttraining's rmse: 0.905219\tvalid_1's rmse: 0.972549\n",
      "Early stopping, best iteration is:\n",
      "[990]\ttraining's rmse: 0.905603\tvalid_1's rmse: 0.972539\n",
      "fold n°1\n",
      "Training until validation scores don't improve for 100 rounds.\n",
      "[100]\ttraining's rmse: 0.978427\tvalid_1's rmse: 0.949651\n",
      "[200]\ttraining's rmse: 0.963875\tvalid_1's rmse: 0.943538\n",
      "[300]\ttraining's rmse: 0.953537\tvalid_1's rmse: 0.940834\n",
      "[400]\ttraining's rmse: 0.945532\tvalid_1's rmse: 0.93982\n",
      "[500]\ttraining's rmse: 0.938463\tvalid_1's rmse: 0.939432\n",
      "[600]\ttraining's rmse: 0.932484\tvalid_1's rmse: 0.93925\n",
      "[700]\ttraining's rmse: 0.927149\tvalid_1's rmse: 0.939208\n",
      "[800]\ttraining's rmse: 0.922319\tvalid_1's rmse: 0.939265\n",
      "Early stopping, best iteration is:\n",
      "[703]\ttraining's rmse: 0.927005\tvalid_1's rmse: 0.939172\n",
      "fold n°2\n",
      "Training until validation scores don't improve for 100 rounds.\n",
      "[100]\ttraining's rmse: 0.960424\tvalid_1's rmse: 1.0216\n",
      "[200]\ttraining's rmse: 0.945913\tvalid_1's rmse: 1.01648\n",
      "[300]\ttraining's rmse: 0.93562\tvalid_1's rmse: 1.01397\n",
      "[400]\ttraining's rmse: 0.927634\tvalid_1's rmse: 1.0127\n",
      "[500]\ttraining's rmse: 0.920805\tvalid_1's rmse: 1.01191\n",
      "[600]\ttraining's rmse: 0.914911\tvalid_1's rmse: 1.01154\n",
      "[700]\ttraining's rmse: 0.909739\tvalid_1's rmse: 1.01129\n",
      "[800]\ttraining's rmse: 0.9051\tvalid_1's rmse: 1.01112\n",
      "[900]\ttraining's rmse: 0.900825\tvalid_1's rmse: 1.01107\n",
      "[1000]\ttraining's rmse: 0.896808\tvalid_1's rmse: 1.01096\n",
      "[1100]\ttraining's rmse: 0.892925\tvalid_1's rmse: 1.01097\n",
      "Early stopping, best iteration is:\n",
      "[1041]\ttraining's rmse: 0.895082\tvalid_1's rmse: 1.01089\n",
      "fold n°3\n",
      "Training until validation scores don't improve for 100 rounds.\n",
      "[100]\ttraining's rmse: 0.971493\tvalid_1's rmse: 0.978324\n",
      "[200]\ttraining's rmse: 0.956965\tvalid_1's rmse: 0.972978\n",
      "[300]\ttraining's rmse: 0.946319\tvalid_1's rmse: 0.970547\n",
      "[400]\ttraining's rmse: 0.938431\tvalid_1's rmse: 0.969175\n",
      "[500]\ttraining's rmse: 0.931495\tvalid_1's rmse: 0.968135\n",
      "[600]\ttraining's rmse: 0.925754\tvalid_1's rmse: 0.967312\n",
      "[700]\ttraining's rmse: 0.920424\tvalid_1's rmse: 0.966842\n",
      "[800]\ttraining's rmse: 0.915743\tvalid_1's rmse: 0.966595\n",
      "[900]\ttraining's rmse: 0.911402\tvalid_1's rmse: 0.96637\n",
      "[1000]\ttraining's rmse: 0.907199\tvalid_1's rmse: 0.966218\n",
      "[1100]\ttraining's rmse: 0.90333\tvalid_1's rmse: 0.966126\n",
      "[1200]\ttraining's rmse: 0.899483\tvalid_1's rmse: 0.966085\n",
      "[1300]\ttraining's rmse: 0.89594\tvalid_1's rmse: 0.966034\n",
      "Early stopping, best iteration is:\n",
      "[1270]\ttraining's rmse: 0.896973\tvalid_1's rmse: 0.96599\n",
      "fold n°4\n",
      "Training until validation scores don't improve for 100 rounds.\n",
      "[100]\ttraining's rmse: 0.973851\tvalid_1's rmse: 0.96901\n",
      "[200]\ttraining's rmse: 0.959512\tvalid_1's rmse: 0.963472\n",
      "[300]\ttraining's rmse: 0.949369\tvalid_1's rmse: 0.960839\n",
      "[400]\ttraining's rmse: 0.941106\tvalid_1's rmse: 0.959419\n",
      "[500]\ttraining's rmse: 0.93405\tvalid_1's rmse: 0.958276\n",
      "[600]\ttraining's rmse: 0.928043\tvalid_1's rmse: 0.957681\n",
      "[700]\ttraining's rmse: 0.922541\tvalid_1's rmse: 0.957093\n",
      "[800]\ttraining's rmse: 0.917638\tvalid_1's rmse: 0.956683\n",
      "[900]\ttraining's rmse: 0.913248\tvalid_1's rmse: 0.956522\n",
      "[1000]\ttraining's rmse: 0.909365\tvalid_1's rmse: 0.956375\n",
      "[1100]\ttraining's rmse: 0.905707\tvalid_1's rmse: 0.956271\n",
      "[1200]\ttraining's rmse: 0.902141\tvalid_1's rmse: 0.95622\n",
      "[1300]\ttraining's rmse: 0.898679\tvalid_1's rmse: 0.956118\n",
      "[1400]\ttraining's rmse: 0.895471\tvalid_1's rmse: 0.956114\n",
      "[1500]\ttraining's rmse: 0.892204\tvalid_1's rmse: 0.956013\n",
      "[1600]\ttraining's rmse: 0.889233\tvalid_1's rmse: 0.955974\n",
      "Early stopping, best iteration is:\n",
      "[1522]\ttraining's rmse: 0.891514\tvalid_1's rmse: 0.955956\n",
      "fold n°5\n",
      "Training until validation scores don't improve for 100 rounds.\n",
      "[100]\ttraining's rmse: 0.967695\tvalid_1's rmse: 0.993188\n",
      "[200]\ttraining's rmse: 0.952682\tvalid_1's rmse: 0.988803\n",
      "[300]\ttraining's rmse: 0.942253\tvalid_1's rmse: 0.986965\n",
      "[400]\ttraining's rmse: 0.934152\tvalid_1's rmse: 0.98604\n",
      "[500]\ttraining's rmse: 0.927408\tvalid_1's rmse: 0.985522\n",
      "[600]\ttraining's rmse: 0.921539\tvalid_1's rmse: 0.984952\n",
      "[700]\ttraining's rmse: 0.916108\tvalid_1's rmse: 0.984522\n",
      "[800]\ttraining's rmse: 0.911163\tvalid_1's rmse: 0.98418\n",
      "[900]\ttraining's rmse: 0.906659\tvalid_1's rmse: 0.984036\n",
      "[1000]\ttraining's rmse: 0.902702\tvalid_1's rmse: 0.984069\n",
      "Early stopping, best iteration is:\n",
      "[944]\ttraining's rmse: 0.904916\tvalid_1's rmse: 0.984005\n",
      "fold n°6\n",
      "Training until validation scores don't improve for 100 rounds.\n",
      "[100]\ttraining's rmse: 0.97126\tvalid_1's rmse: 0.977826\n",
      "[200]\ttraining's rmse: 0.95666\tvalid_1's rmse: 0.972607\n",
      "[300]\ttraining's rmse: 0.946241\tvalid_1's rmse: 0.97035\n",
      "[400]\ttraining's rmse: 0.938138\tvalid_1's rmse: 0.969198\n",
      "[500]\ttraining's rmse: 0.931074\tvalid_1's rmse: 0.968442\n",
      "[600]\ttraining's rmse: 0.924783\tvalid_1's rmse: 0.968029\n",
      "[700]\ttraining's rmse: 0.919223\tvalid_1's rmse: 0.967699\n",
      "[800]\ttraining's rmse: 0.914244\tvalid_1's rmse: 0.967738\n",
      "Early stopping, best iteration is:\n",
      "[744]\ttraining's rmse: 0.917038\tvalid_1's rmse: 0.967643\n",
      "fold n°7\n",
      "Training until validation scores don't improve for 100 rounds.\n",
      "[100]\ttraining's rmse: 0.96989\tvalid_1's rmse: 0.987857\n",
      "[200]\ttraining's rmse: 0.955416\tvalid_1's rmse: 0.98126\n",
      "[300]\ttraining's rmse: 0.945489\tvalid_1's rmse: 0.97843\n",
      "[400]\ttraining's rmse: 0.937721\tvalid_1's rmse: 0.976613\n",
      "[500]\ttraining's rmse: 0.930924\tvalid_1's rmse: 0.975521\n",
      "[600]\ttraining's rmse: 0.924787\tvalid_1's rmse: 0.974643\n",
      "[700]\ttraining's rmse: 0.919514\tvalid_1's rmse: 0.974286\n",
      "[800]\ttraining's rmse: 0.914792\tvalid_1's rmse: 0.973883\n",
      "[900]\ttraining's rmse: 0.910465\tvalid_1's rmse: 0.97376\n",
      "[1000]\ttraining's rmse: 0.906419\tvalid_1's rmse: 0.973563\n",
      "[1100]\ttraining's rmse: 0.902593\tvalid_1's rmse: 0.973483\n",
      "[1200]\ttraining's rmse: 0.899027\tvalid_1's rmse: 0.973412\n",
      "[1300]\ttraining's rmse: 0.895484\tvalid_1's rmse: 0.973367\n",
      "Early stopping, best iteration is:\n",
      "[1245]\ttraining's rmse: 0.897374\tvalid_1's rmse: 0.973306\n",
      "fold n°8\n",
      "Training until validation scores don't improve for 100 rounds.\n",
      "[100]\ttraining's rmse: 0.971651\tvalid_1's rmse: 0.976522\n",
      "[200]\ttraining's rmse: 0.956699\tvalid_1's rmse: 0.97178\n",
      "[300]\ttraining's rmse: 0.946378\tvalid_1's rmse: 0.969752\n",
      "[400]\ttraining's rmse: 0.938106\tvalid_1's rmse: 0.968772\n",
      "[500]\ttraining's rmse: 0.931329\tvalid_1's rmse: 0.968048\n",
      "[600]\ttraining's rmse: 0.925153\tvalid_1's rmse: 0.967485\n",
      "[700]\ttraining's rmse: 0.919729\tvalid_1's rmse: 0.967208\n",
      "[800]\ttraining's rmse: 0.915078\tvalid_1's rmse: 0.967002\n",
      "[900]\ttraining's rmse: 0.910498\tvalid_1's rmse: 0.966913\n",
      "[1000]\ttraining's rmse: 0.906116\tvalid_1's rmse: 0.966898\n",
      "Early stopping, best iteration is:\n",
      "[968]\ttraining's rmse: 0.90753\tvalid_1's rmse: 0.966837\n",
      "fold n°9\n",
      "Training until validation scores don't improve for 100 rounds.\n",
      "[100]\ttraining's rmse: 0.97402\tvalid_1's rmse: 0.968314\n",
      "[200]\ttraining's rmse: 0.959881\tvalid_1's rmse: 0.962393\n",
      "[300]\ttraining's rmse: 0.949734\tvalid_1's rmse: 0.959591\n",
      "[400]\ttraining's rmse: 0.941491\tvalid_1's rmse: 0.958085\n",
      "[500]\ttraining's rmse: 0.93465\tvalid_1's rmse: 0.957122\n",
      "[600]\ttraining's rmse: 0.928766\tvalid_1's rmse: 0.956564\n",
      "[700]\ttraining's rmse: 0.923349\tvalid_1's rmse: 0.955923\n",
      "[800]\ttraining's rmse: 0.918661\tvalid_1's rmse: 0.955624\n",
      "[900]\ttraining's rmse: 0.914113\tvalid_1's rmse: 0.95535\n",
      "[1000]\ttraining's rmse: 0.91019\tvalid_1's rmse: 0.955229\n",
      "[1100]\ttraining's rmse: 0.906491\tvalid_1's rmse: 0.955234\n",
      "[1200]\ttraining's rmse: 0.902852\tvalid_1's rmse: 0.9552\n",
      "Early stopping, best iteration is:\n",
      "[1167]\ttraining's rmse: 0.904023\tvalid_1's rmse: 0.955187\n",
      "CV score: 1.34619 \n"
     ]
    }
   ],
   "source": [
    "from sklearn.model_selection import RepeatedKFold\n",
    "folds = RepeatedKFold(n_splits=5, n_repeats=2, random_state=4520)\n",
    "\n",
    "oof_lgb = np.zeros(len(train))\n",
    "predictions_lgb = np.zeros(len(test))\n",
    "start = time.time()\n",
    "feature_importance_df = pd.DataFrame()\n",
    "\n",
    "for fold_, (trn_idx, val_idx) in enumerate(folds.split(trainExtractedFeatures, target.values)):\n",
    "    print(\"fold n°{}\".format(fold_))\n",
    "    trn_data = lgb.Dataset(trainExtractedFeatures[trn_idx], label=target.iloc[trn_idx])\n",
    "    val_data = lgb.Dataset(trainExtractedFeatures[val_idx], label=target.iloc[val_idx])\n",
    "\n",
    "    num_round = 11000\n",
    "    clf = lgb.train(lgbparam, trn_data, num_round, valid_sets = [trn_data, val_data], verbose_eval=100, early_stopping_rounds = 100)\n",
    "    oof_lgb[val_idx] = clf.predict(train.iloc[val_idx][features], num_iteration=clf.best_iteration)\n",
    "    \n",
    "\n",
    "print(\"CV score: {:<8.5f}\".format(mean_squared_error(oof_lgb, target)**0.5))"
   ]
  },
  {
   "cell_type": "code",
   "execution_count": 264,
   "metadata": {},
   "outputs": [
    {
     "name": "stdout",
     "output_type": "stream",
     "text": [
      "CV score: 5.18351 \n"
     ]
    }
   ],
   "source": [
    "predUnNormalized = (oof_lgb *stdt) +meant\n",
    "\n",
    "print(\"CV score: {:<8.5f}\".format(np.sqrt(mean_squared_error(predUnNormalized, nonNormalizedTrain.target.values))))"
   ]
  },
  {
   "cell_type": "markdown",
   "metadata": {},
   "source": [
    "Nope. "
   ]
  }
 ],
 "metadata": {
  "accelerator": "GPU",
  "colab": {
   "collapsed_sections": [],
   "name": "Ass2 (1).ipynb",
   "provenance": [],
   "version": "0.3.2"
  },
  "kernelspec": {
   "display_name": "TensorFlow-GPU",
   "language": "python",
   "name": "tf-gpu"
  },
  "language_info": {
   "codemirror_mode": {
    "name": "ipython",
    "version": 3
   },
   "file_extension": ".py",
   "mimetype": "text/x-python",
   "name": "python",
   "nbconvert_exporter": "python",
   "pygments_lexer": "ipython3",
   "version": "3.6.7"
  }
 },
 "nbformat": 4,
 "nbformat_minor": 1
}
